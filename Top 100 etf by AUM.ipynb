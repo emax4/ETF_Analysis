{
 "cells": [
  {
   "cell_type": "markdown",
   "metadata": {},
   "source": [
    "## Questions to answer\n",
    "\n",
    "Analyzing the top 100 ETF based on Assets under management (AUM)\n",
    "\n",
    "1. Analysis on Return to volaltility\n",
    "2. Cluster etfs to based on similarity\n",
    "3. Calculate alpha and beta of stock compared to spy\n",
    "\n",
    "\n",
    "\"https://markets.ft.com/data/etfs/tearsheet/risk?s=XLF:PCQ:USD\""
   ]
  },
  {
   "cell_type": "code",
   "execution_count": 1,
   "metadata": {},
   "outputs": [],
   "source": [
    "import pandas as pd\n",
    "import numpy as np\n",
    "from scipy.stats import gmean\n",
    "from sklearn.linear_model import LinearRegression\n",
    "from datetime import date\n",
    "from datetime import timedelta\n",
    "from selenium.webdriver.chrome.webdriver import WebDriver\n",
    "from bs4 import BeautifulSoup\n",
    "import os\n",
    "import re\n",
    "import matplotlib.pyplot as plt\n",
    "import seaborn as sns\n",
    "sns.set_style(style='darkgrid')\n",
    "from yahoo_historical import Fetcher\n",
    "import plotly_express as px"
   ]
  },
  {
   "cell_type": "markdown",
   "metadata": {},
   "source": [
    "### Define Functions to fetch data"
   ]
  },
  {
   "cell_type": "code",
   "execution_count": 2,
   "metadata": {},
   "outputs": [],
   "source": [
    "def data_fetcher(etflist, start, end):\n",
    "    \"\"\"\n",
    "    Takes in a list of etf symbols \n",
    "    returns pandas dataframe of price details and dividends\n",
    "    \"\"\"\n",
    "    price_df = pd.DataFrame()\n",
    "    dividend = pd.DataFrame()\n",
    "    for e in etflist:\n",
    "        data = Fetcher(e, start, end)\n",
    "        pricedata = data.getHistorical()\n",
    "        if 'Date' in data.getHistorical().columns.tolist():\n",
    "            pricedata['ticker'] = e\n",
    "            price_df = price_df.append(pricedata)\n",
    "            divddata = data.getDividends()\n",
    "            divddata['ticker'] = e\n",
    "            dividend = dividend.append(divddata)\n",
    "    return price_df, dividend"
   ]
  },
  {
   "cell_type": "code",
   "execution_count": 3,
   "metadata": {},
   "outputs": [],
   "source": [
    "def daily_returns(df):\n",
    "    return df.pct_change().fillna(0)\n",
    "\n",
    "def cum_return(df):\n",
    "    return mydf/mydf.iloc[0, :]#.plot(kind='line', ax=ax)\n",
    "    \n",
    "#def georeturns(df)\n",
    "    \n",
    "def plot_loghist(x, bins):\n",
    "  hist, bins = np.histogram(x, bins=bins)\n",
    "  logbins = np.logspace(np.log10(bins[0]),np.log10(bins[-1]),len(bins))\n",
    "  plt.hist(x, bins=logbins)\n",
    "  plt.xscale('log')"
   ]
  },
  {
   "cell_type": "markdown",
   "metadata": {},
   "source": [
    "### Load data"
   ]
  },
  {
   "cell_type": "code",
   "execution_count": 4,
   "metadata": {},
   "outputs": [
    {
     "data": {
      "text/html": [
       "<div>\n",
       "<style scoped>\n",
       "    .dataframe tbody tr th:only-of-type {\n",
       "        vertical-align: middle;\n",
       "    }\n",
       "\n",
       "    .dataframe tbody tr th {\n",
       "        vertical-align: top;\n",
       "    }\n",
       "\n",
       "    .dataframe thead th {\n",
       "        text-align: right;\n",
       "    }\n",
       "</style>\n",
       "<table border=\"1\" class=\"dataframe\">\n",
       "  <thead>\n",
       "    <tr style=\"text-align: right;\">\n",
       "      <th></th>\n",
       "      <th>Symbol</th>\n",
       "      <th>Name</th>\n",
       "      <th>AUM</th>\n",
       "      <th>Avg Volume</th>\n",
       "    </tr>\n",
       "  </thead>\n",
       "  <tbody>\n",
       "    <tr>\n",
       "      <th>95</th>\n",
       "      <td>FDN</td>\n",
       "      <td>First Trust Dow Jones Internet Index</td>\n",
       "      <td>9177427870</td>\n",
       "      <td>415,830</td>\n",
       "    </tr>\n",
       "    <tr>\n",
       "      <th>96</th>\n",
       "      <td>BIL</td>\n",
       "      <td>SPDR Barclays 1-3 Month T-Bill ETF</td>\n",
       "      <td>9139081290</td>\n",
       "      <td>1,825,197</td>\n",
       "    </tr>\n",
       "    <tr>\n",
       "      <th>97</th>\n",
       "      <td>EWZ</td>\n",
       "      <td>iShares MSCI Brazil ETF</td>\n",
       "      <td>9074568070</td>\n",
       "      <td>26,790,902</td>\n",
       "    </tr>\n",
       "    <tr>\n",
       "      <th>98</th>\n",
       "      <td>IWN</td>\n",
       "      <td>iShares Russell 2000 Value ETF</td>\n",
       "      <td>8947355720</td>\n",
       "      <td>756,745</td>\n",
       "    </tr>\n",
       "    <tr>\n",
       "      <th>99</th>\n",
       "      <td>AMLP</td>\n",
       "      <td>Alerian MLP ETF</td>\n",
       "      <td>8797378480</td>\n",
       "      <td>12,359,997</td>\n",
       "    </tr>\n",
       "  </tbody>\n",
       "</table>\n",
       "</div>"
      ],
      "text/plain": [
       "   Symbol                                  Name         AUM  Avg Volume\n",
       "95    FDN  First Trust Dow Jones Internet Index  9177427870     415,830\n",
       "96    BIL    SPDR Barclays 1-3 Month T-Bill ETF  9139081290   1,825,197\n",
       "97    EWZ               iShares MSCI Brazil ETF  9074568070  26,790,902\n",
       "98    IWN        iShares Russell 2000 Value ETF  8947355720     756,745\n",
       "99   AMLP                       Alerian MLP ETF  8797378480  12,359,997"
      ]
     },
     "execution_count": 4,
     "metadata": {},
     "output_type": "execute_result"
    }
   ],
   "source": [
    "# Load etf_tickers\n",
    "etf_tickers = pd.read_csv('Data/ETF_top_100/ETF_top_100_aum.csv', encoding = \"ISO-8859-1\")\n",
    "etf_tickers['Symbol'] = etf_tickers['Symbol'].str.rstrip()\n",
    "etf_tickers['AUM'] = etf_tickers['AUM'].str.replace(r',|\\.|\\$', '').astype('int64')*10\n",
    "etf_tickers.tail()"
   ]
  },
  {
   "cell_type": "markdown",
   "metadata": {},
   "source": [
    "### Get data for all etfs"
   ]
  },
  {
   "cell_type": "code",
   "execution_count": 5,
   "metadata": {},
   "outputs": [],
   "source": [
    "#etf_df1, divd1 = data_fetcher(etf_tickers['Symbol'][0:50], [2006,1,1], [2019,6,30])\n",
    "etf_df1 = pd.read_excel('etf_1_50.xlsx', index_col=0)"
   ]
  },
  {
   "cell_type": "code",
   "execution_count": 6,
   "metadata": {},
   "outputs": [],
   "source": [
    "#etf_df2, divd2 = data_fetcher(etf_tickers['Symbol'][50:], [2006,1,1], [2019,6,30])\n",
    "etf_df2 = pd.read_excel('etf_51_100.xlsx', index_col=0)"
   ]
  },
  {
   "cell_type": "code",
   "execution_count": 7,
   "metadata": {},
   "outputs": [
    {
     "data": {
      "text/html": [
       "<div>\n",
       "<style scoped>\n",
       "    .dataframe tbody tr th:only-of-type {\n",
       "        vertical-align: middle;\n",
       "    }\n",
       "\n",
       "    .dataframe tbody tr th {\n",
       "        vertical-align: top;\n",
       "    }\n",
       "\n",
       "    .dataframe thead th {\n",
       "        text-align: right;\n",
       "    }\n",
       "</style>\n",
       "<table border=\"1\" class=\"dataframe\">\n",
       "  <thead>\n",
       "    <tr style=\"text-align: right;\">\n",
       "      <th></th>\n",
       "      <th>Date</th>\n",
       "      <th>Open</th>\n",
       "      <th>High</th>\n",
       "      <th>Low</th>\n",
       "      <th>Close</th>\n",
       "      <th>Adj Close</th>\n",
       "      <th>Volume</th>\n",
       "      <th>ticker</th>\n",
       "    </tr>\n",
       "  </thead>\n",
       "  <tbody>\n",
       "    <tr>\n",
       "      <th>302474</th>\n",
       "      <td>2019-06-24</td>\n",
       "      <td>9.76</td>\n",
       "      <td>9.83</td>\n",
       "      <td>9.73</td>\n",
       "      <td>9.83</td>\n",
       "      <td>9.83</td>\n",
       "      <td>11052800</td>\n",
       "      <td>AMLP</td>\n",
       "    </tr>\n",
       "    <tr>\n",
       "      <th>302475</th>\n",
       "      <td>2019-06-25</td>\n",
       "      <td>9.79</td>\n",
       "      <td>9.79</td>\n",
       "      <td>9.67</td>\n",
       "      <td>9.69</td>\n",
       "      <td>9.69</td>\n",
       "      <td>11644200</td>\n",
       "      <td>AMLP</td>\n",
       "    </tr>\n",
       "    <tr>\n",
       "      <th>302476</th>\n",
       "      <td>2019-06-26</td>\n",
       "      <td>9.76</td>\n",
       "      <td>9.83</td>\n",
       "      <td>9.74</td>\n",
       "      <td>9.75</td>\n",
       "      <td>9.75</td>\n",
       "      <td>10604300</td>\n",
       "      <td>AMLP</td>\n",
       "    </tr>\n",
       "    <tr>\n",
       "      <th>302477</th>\n",
       "      <td>2019-06-27</td>\n",
       "      <td>9.79</td>\n",
       "      <td>9.79</td>\n",
       "      <td>9.70</td>\n",
       "      <td>9.72</td>\n",
       "      <td>9.72</td>\n",
       "      <td>9554200</td>\n",
       "      <td>AMLP</td>\n",
       "    </tr>\n",
       "    <tr>\n",
       "      <th>302478</th>\n",
       "      <td>2019-06-28</td>\n",
       "      <td>9.75</td>\n",
       "      <td>9.85</td>\n",
       "      <td>9.73</td>\n",
       "      <td>9.85</td>\n",
       "      <td>9.85</td>\n",
       "      <td>9767300</td>\n",
       "      <td>AMLP</td>\n",
       "    </tr>\n",
       "  </tbody>\n",
       "</table>\n",
       "</div>"
      ],
      "text/plain": [
       "             Date  Open  High   Low  Close  Adj Close    Volume ticker\n",
       "302474 2019-06-24  9.76  9.83  9.73   9.83       9.83  11052800   AMLP\n",
       "302475 2019-06-25  9.79  9.79  9.67   9.69       9.69  11644200   AMLP\n",
       "302476 2019-06-26  9.76  9.83  9.74   9.75       9.75  10604300   AMLP\n",
       "302477 2019-06-27  9.79  9.79  9.70   9.72       9.72   9554200   AMLP\n",
       "302478 2019-06-28  9.75  9.85  9.73   9.85       9.85   9767300   AMLP"
      ]
     },
     "execution_count": 7,
     "metadata": {},
     "output_type": "execute_result"
    }
   ],
   "source": [
    "# Merge both dataframes\n",
    "etf_df = pd.concat([etf_df1, etf_df2], ignore_index=True)\n",
    "etf_df['Date'] = etf_df['Date'].astype('datetime64[ns]')\n",
    "etf_df.tail()\n"
   ]
  },
  {
   "cell_type": "code",
   "execution_count": 8,
   "metadata": {},
   "outputs": [
    {
     "data": {
      "text/html": [
       "<div>\n",
       "<style scoped>\n",
       "    .dataframe tbody tr th:only-of-type {\n",
       "        vertical-align: middle;\n",
       "    }\n",
       "\n",
       "    .dataframe tbody tr th {\n",
       "        vertical-align: top;\n",
       "    }\n",
       "\n",
       "    .dataframe thead th {\n",
       "        text-align: right;\n",
       "    }\n",
       "</style>\n",
       "<table border=\"1\" class=\"dataframe\">\n",
       "  <thead>\n",
       "    <tr style=\"text-align: right;\">\n",
       "      <th></th>\n",
       "      <th>Date</th>\n",
       "      <th>Open</th>\n",
       "      <th>High</th>\n",
       "      <th>Low</th>\n",
       "      <th>Close</th>\n",
       "      <th>Adj Close</th>\n",
       "      <th>Volume</th>\n",
       "      <th>ticker</th>\n",
       "      <th>dailyReturns</th>\n",
       "    </tr>\n",
       "  </thead>\n",
       "  <tbody>\n",
       "    <tr>\n",
       "      <th>0</th>\n",
       "      <td>2006-01-03</td>\n",
       "      <td>125.190002</td>\n",
       "      <td>127.000000</td>\n",
       "      <td>124.389999</td>\n",
       "      <td>126.699997</td>\n",
       "      <td>96.358261</td>\n",
       "      <td>73256700</td>\n",
       "      <td>SPY</td>\n",
       "      <td>NaN</td>\n",
       "    </tr>\n",
       "    <tr>\n",
       "      <th>1</th>\n",
       "      <td>2006-01-04</td>\n",
       "      <td>126.860001</td>\n",
       "      <td>127.489998</td>\n",
       "      <td>126.699997</td>\n",
       "      <td>127.300003</td>\n",
       "      <td>96.814583</td>\n",
       "      <td>51899600</td>\n",
       "      <td>SPY</td>\n",
       "      <td>0.004736</td>\n",
       "    </tr>\n",
       "    <tr>\n",
       "      <th>2</th>\n",
       "      <td>2006-01-05</td>\n",
       "      <td>127.150002</td>\n",
       "      <td>127.589996</td>\n",
       "      <td>126.879997</td>\n",
       "      <td>127.379997</td>\n",
       "      <td>96.875389</td>\n",
       "      <td>47307500</td>\n",
       "      <td>SPY</td>\n",
       "      <td>0.000628</td>\n",
       "    </tr>\n",
       "    <tr>\n",
       "      <th>3</th>\n",
       "      <td>2006-01-06</td>\n",
       "      <td>128.020004</td>\n",
       "      <td>128.580002</td>\n",
       "      <td>127.360001</td>\n",
       "      <td>128.440002</td>\n",
       "      <td>97.681541</td>\n",
       "      <td>62885900</td>\n",
       "      <td>SPY</td>\n",
       "      <td>0.008322</td>\n",
       "    </tr>\n",
       "    <tr>\n",
       "      <th>4</th>\n",
       "      <td>2006-01-09</td>\n",
       "      <td>128.419998</td>\n",
       "      <td>129.059998</td>\n",
       "      <td>128.380005</td>\n",
       "      <td>128.770004</td>\n",
       "      <td>97.932510</td>\n",
       "      <td>43527400</td>\n",
       "      <td>SPY</td>\n",
       "      <td>0.002569</td>\n",
       "    </tr>\n",
       "  </tbody>\n",
       "</table>\n",
       "</div>"
      ],
      "text/plain": [
       "        Date        Open        High         Low       Close  Adj Close  \\\n",
       "0 2006-01-03  125.190002  127.000000  124.389999  126.699997  96.358261   \n",
       "1 2006-01-04  126.860001  127.489998  126.699997  127.300003  96.814583   \n",
       "2 2006-01-05  127.150002  127.589996  126.879997  127.379997  96.875389   \n",
       "3 2006-01-06  128.020004  128.580002  127.360001  128.440002  97.681541   \n",
       "4 2006-01-09  128.419998  129.059998  128.380005  128.770004  97.932510   \n",
       "\n",
       "     Volume ticker  dailyReturns  \n",
       "0  73256700    SPY           NaN  \n",
       "1  51899600    SPY      0.004736  \n",
       "2  47307500    SPY      0.000628  \n",
       "3  62885900    SPY      0.008322  \n",
       "4  43527400    SPY      0.002569  "
      ]
     },
     "execution_count": 8,
     "metadata": {},
     "output_type": "execute_result"
    }
   ],
   "source": [
    "etf_df['dailyReturns'] = etf_df.groupby('ticker')['Adj Close'].pct_change()\n",
    "etf_df.head()"
   ]
  },
  {
   "cell_type": "markdown",
   "metadata": {},
   "source": [
    "### Exploratory Data Analysis"
   ]
  },
  {
   "cell_type": "code",
   "execution_count": 9,
   "metadata": {},
   "outputs": [
    {
     "name": "stdout",
     "output_type": "stream",
     "text": [
      "Symbol                     SPY\n",
      "Name          SPDR S&P 500 ETF\n",
      "AUM               279477625560\n",
      "Avg Volume          67,461,109\n",
      "Name: 0, dtype: object\n"
     ]
    }
   ],
   "source": [
    "# ETF with max AUM\n",
    "print(etf_tickers.loc[etf_tickers['AUM'].idxmax()])"
   ]
  },
  {
   "cell_type": "code",
   "execution_count": 10,
   "metadata": {},
   "outputs": [
    {
     "name": "stdout",
     "output_type": "stream",
     "text": [
      "Symbol                   AMLP\n",
      "Name          Alerian MLP ETF\n",
      "AUM                8797378480\n",
      "Avg Volume         12,359,997\n",
      "Name: 99, dtype: object\n"
     ]
    }
   ],
   "source": [
    "print(etf_tickers.loc[etf_tickers['AUM'].idxmin()])"
   ]
  },
  {
   "cell_type": "code",
   "execution_count": 11,
   "metadata": {},
   "outputs": [
    {
     "data": {
      "image/png": "[encoded data removed]",
      "text/plain": [
       "<Figure size 432x288 with 1 Axes>"
      ]
     },
     "metadata": {
      "needs_background": "light"
     },
     "output_type": "display_data"
    }
   ],
   "source": [
    "plot_loghist(etf_tickers.AUM, 10)"
   ]
  },
  {
   "cell_type": "code",
   "execution_count": 12,
   "metadata": {
    "scrolled": true
   },
   "outputs": [
    {
     "data": {
      "text/html": [
       "<div>\n",
       "<style scoped>\n",
       "    .dataframe tbody tr th:only-of-type {\n",
       "        vertical-align: middle;\n",
       "    }\n",
       "\n",
       "    .dataframe tbody tr th {\n",
       "        vertical-align: top;\n",
       "    }\n",
       "\n",
       "    .dataframe thead th {\n",
       "        text-align: right;\n",
       "    }\n",
       "</style>\n",
       "<table border=\"1\" class=\"dataframe\">\n",
       "  <thead>\n",
       "    <tr style=\"text-align: right;\">\n",
       "      <th>ticker</th>\n",
       "      <th>ACWI</th>\n",
       "      <th>AGG</th>\n",
       "      <th>AMLP</th>\n",
       "      <th>BIL</th>\n",
       "      <th>BIV</th>\n",
       "      <th>BND</th>\n",
       "      <th>BNDX</th>\n",
       "      <th>BSV</th>\n",
       "      <th>DIA</th>\n",
       "      <th>DVY</th>\n",
       "      <th>...</th>\n",
       "      <th>VXUS</th>\n",
       "      <th>VYM</th>\n",
       "      <th>XLE</th>\n",
       "      <th>XLF</th>\n",
       "      <th>XLI</th>\n",
       "      <th>XLK</th>\n",
       "      <th>XLP</th>\n",
       "      <th>XLU</th>\n",
       "      <th>XLV</th>\n",
       "      <th>XLY</th>\n",
       "    </tr>\n",
       "    <tr>\n",
       "      <th>Date</th>\n",
       "      <th></th>\n",
       "      <th></th>\n",
       "      <th></th>\n",
       "      <th></th>\n",
       "      <th></th>\n",
       "      <th></th>\n",
       "      <th></th>\n",
       "      <th></th>\n",
       "      <th></th>\n",
       "      <th></th>\n",
       "      <th></th>\n",
       "      <th></th>\n",
       "      <th></th>\n",
       "      <th></th>\n",
       "      <th></th>\n",
       "      <th></th>\n",
       "      <th></th>\n",
       "      <th></th>\n",
       "      <th></th>\n",
       "      <th></th>\n",
       "      <th></th>\n",
       "    </tr>\n",
       "  </thead>\n",
       "  <tbody>\n",
       "    <tr>\n",
       "      <th>2013-07-18</th>\n",
       "      <td>46.075481</td>\n",
       "      <td>92.816338</td>\n",
       "      <td>12.366563</td>\n",
       "      <td>88.443031</td>\n",
       "      <td>70.538643</td>\n",
       "      <td>69.637604</td>\n",
       "      <td>44.235397</td>\n",
       "      <td>73.294235</td>\n",
       "      <td>135.647247</td>\n",
       "      <td>55.397823</td>\n",
       "      <td>...</td>\n",
       "      <td>40.860691</td>\n",
       "      <td>49.431366</td>\n",
       "      <td>70.057281</td>\n",
       "      <td>11.441667</td>\n",
       "      <td>39.854500</td>\n",
       "      <td>28.917545</td>\n",
       "      <td>35.445660</td>\n",
       "      <td>32.013935</td>\n",
       "      <td>45.548874</td>\n",
       "      <td>54.773849</td>\n",
       "    </tr>\n",
       "    <tr>\n",
       "      <th>2013-07-19</th>\n",
       "      <td>46.101791</td>\n",
       "      <td>93.058708</td>\n",
       "      <td>12.373424</td>\n",
       "      <td>88.443031</td>\n",
       "      <td>70.808197</td>\n",
       "      <td>69.818207</td>\n",
       "      <td>44.075134</td>\n",
       "      <td>73.339890</td>\n",
       "      <td>135.634964</td>\n",
       "      <td>55.496544</td>\n",
       "      <td>...</td>\n",
       "      <td>40.835247</td>\n",
       "      <td>49.489983</td>\n",
       "      <td>71.033028</td>\n",
       "      <td>11.447189</td>\n",
       "      <td>40.262356</td>\n",
       "      <td>28.429413</td>\n",
       "      <td>35.650356</td>\n",
       "      <td>32.022064</td>\n",
       "      <td>46.151199</td>\n",
       "      <td>54.727905</td>\n",
       "    </tr>\n",
       "    <tr>\n",
       "      <th>2013-07-22</th>\n",
       "      <td>46.268414</td>\n",
       "      <td>93.179863</td>\n",
       "      <td>12.421464</td>\n",
       "      <td>88.443031</td>\n",
       "      <td>70.850342</td>\n",
       "      <td>69.861206</td>\n",
       "      <td>44.208679</td>\n",
       "      <td>73.330772</td>\n",
       "      <td>135.626190</td>\n",
       "      <td>55.545925</td>\n",
       "      <td>...</td>\n",
       "      <td>41.072754</td>\n",
       "      <td>49.565361</td>\n",
       "      <td>70.803909</td>\n",
       "      <td>11.524499</td>\n",
       "      <td>40.288956</td>\n",
       "      <td>28.510767</td>\n",
       "      <td>35.573601</td>\n",
       "      <td>31.989550</td>\n",
       "      <td>46.379349</td>\n",
       "      <td>54.691158</td>\n",
       "    </tr>\n",
       "    <tr>\n",
       "      <th>2013-07-23</th>\n",
       "      <td>46.321033</td>\n",
       "      <td>93.127922</td>\n",
       "      <td>12.366563</td>\n",
       "      <td>88.443031</td>\n",
       "      <td>70.816620</td>\n",
       "      <td>69.844002</td>\n",
       "      <td>44.288822</td>\n",
       "      <td>73.330772</td>\n",
       "      <td>135.844833</td>\n",
       "      <td>55.545925</td>\n",
       "      <td>...</td>\n",
       "      <td>41.259373</td>\n",
       "      <td>49.590488</td>\n",
       "      <td>70.922691</td>\n",
       "      <td>11.480321</td>\n",
       "      <td>40.262356</td>\n",
       "      <td>28.393251</td>\n",
       "      <td>35.505367</td>\n",
       "      <td>32.070835</td>\n",
       "      <td>46.215080</td>\n",
       "      <td>54.617668</td>\n",
       "    </tr>\n",
       "    <tr>\n",
       "      <th>2013-07-24</th>\n",
       "      <td>46.136875</td>\n",
       "      <td>92.825050</td>\n",
       "      <td>12.318522</td>\n",
       "      <td>88.462379</td>\n",
       "      <td>70.471275</td>\n",
       "      <td>69.620415</td>\n",
       "      <td>44.181965</td>\n",
       "      <td>73.212090</td>\n",
       "      <td>135.617523</td>\n",
       "      <td>55.118080</td>\n",
       "      <td>...</td>\n",
       "      <td>41.089718</td>\n",
       "      <td>49.330856</td>\n",
       "      <td>70.133659</td>\n",
       "      <td>11.397493</td>\n",
       "      <td>39.952034</td>\n",
       "      <td>28.583086</td>\n",
       "      <td>35.275093</td>\n",
       "      <td>31.583071</td>\n",
       "      <td>46.142071</td>\n",
       "      <td>54.433918</td>\n",
       "    </tr>\n",
       "  </tbody>\n",
       "</table>\n",
       "<p>5 rows × 100 columns</p>\n",
       "</div>"
      ],
      "text/plain": [
       "ticker           ACWI        AGG       AMLP        BIL        BIV        BND  \\\n",
       "Date                                                                           \n",
       "2013-07-18  46.075481  92.816338  12.366563  88.443031  70.538643  69.637604   \n",
       "2013-07-19  46.101791  93.058708  12.373424  88.443031  70.808197  69.818207   \n",
       "2013-07-22  46.268414  93.179863  12.421464  88.443031  70.850342  69.861206   \n",
       "2013-07-23  46.321033  93.127922  12.366563  88.443031  70.816620  69.844002   \n",
       "2013-07-24  46.136875  92.825050  12.318522  88.462379  70.471275  69.620415   \n",
       "\n",
       "ticker           BNDX        BSV         DIA        DVY  ...       VXUS  \\\n",
       "Date                                                     ...              \n",
       "2013-07-18  44.235397  73.294235  135.647247  55.397823  ...  40.860691   \n",
       "2013-07-19  44.075134  73.339890  135.634964  55.496544  ...  40.835247   \n",
       "2013-07-22  44.208679  73.330772  135.626190  55.545925  ...  41.072754   \n",
       "2013-07-23  44.288822  73.330772  135.844833  55.545925  ...  41.259373   \n",
       "2013-07-24  44.181965  73.212090  135.617523  55.118080  ...  41.089718   \n",
       "\n",
       "ticker            VYM        XLE        XLF        XLI        XLK        XLP  \\\n",
       "Date                                                                           \n",
       "2013-07-18  49.431366  70.057281  11.441667  39.854500  28.917545  35.445660   \n",
       "2013-07-19  49.489983  71.033028  11.447189  40.262356  28.429413  35.650356   \n",
       "2013-07-22  49.565361  70.803909  11.524499  40.288956  28.510767  35.573601   \n",
       "2013-07-23  49.590488  70.922691  11.480321  40.262356  28.393251  35.505367   \n",
       "2013-07-24  49.330856  70.133659  11.397493  39.952034  28.583086  35.275093   \n",
       "\n",
       "ticker            XLU        XLV        XLY  \n",
       "Date                                         \n",
       "2013-07-18  32.013935  45.548874  54.773849  \n",
       "2013-07-19  32.022064  46.151199  54.727905  \n",
       "2013-07-22  31.989550  46.379349  54.691158  \n",
       "2013-07-23  32.070835  46.215080  54.617668  \n",
       "2013-07-24  31.583071  46.142071  54.433918  \n",
       "\n",
       "[5 rows x 100 columns]"
      ]
     },
     "execution_count": 12,
     "metadata": {},
     "output_type": "execute_result"
    }
   ],
   "source": [
    "# Transform dataframe to calculate ETF statistics\n",
    "\n",
    "mydf =etf_df.pivot_table(values='Adj Close', index=['Date'],\n",
    "                   columns=['ticker']).reset_index()\n",
    "mydf = mydf.dropna(axis=0).set_index('Date')\n",
    "\n",
    "mydf.index[0] + timedelta(365*6)\n",
    "#daily_returns(mydf)\n",
    "mydf.head()"
   ]
  },
  {
   "cell_type": "code",
   "execution_count": 28,
   "metadata": {},
   "outputs": [
    {
     "data": {
      "text/plain": [
       "<matplotlib.axes._subplots.AxesSubplot at 0x14251e720f0>"
      ]
     },
     "execution_count": 28,
     "metadata": {},
     "output_type": "execute_result"
    },
    {
     "data": {
      "image/png": "[encoded data removed]",
      "text/plain": [
       "<Figure size 432x288 with 1 Axes>"
      ]
     },
     "metadata": {
      "needs_background": "light"
     },
     "output_type": "display_data"
    }
   ],
   "source": [
    "# Identify top 10 and bottom 10 performers\n",
    "sns.scatterplot(x='SPY', y='HYG', data=etf_daily)"
   ]
  },
  {
   "cell_type": "code",
   "execution_count": 14,
   "metadata": {},
   "outputs": [
    {
     "data": {
      "text/html": [
       "<div>\n",
       "<style scoped>\n",
       "    .dataframe tbody tr th:only-of-type {\n",
       "        vertical-align: middle;\n",
       "    }\n",
       "\n",
       "    .dataframe tbody tr th {\n",
       "        vertical-align: top;\n",
       "    }\n",
       "\n",
       "    .dataframe thead th {\n",
       "        text-align: right;\n",
       "    }\n",
       "</style>\n",
       "<table border=\"1\" class=\"dataframe\">\n",
       "  <thead>\n",
       "    <tr style=\"text-align: right;\">\n",
       "      <th></th>\n",
       "      <th>Name</th>\n",
       "      <th>AUM</th>\n",
       "      <th>Avg Volume</th>\n",
       "      <th>cum_return</th>\n",
       "    </tr>\n",
       "    <tr>\n",
       "      <th>Symbol</th>\n",
       "      <th></th>\n",
       "      <th></th>\n",
       "      <th></th>\n",
       "      <th></th>\n",
       "    </tr>\n",
       "  </thead>\n",
       "  <tbody>\n",
       "    <tr>\n",
       "      <th>VGT</th>\n",
       "      <td>Vanguard Information Technology ETF</td>\n",
       "      <td>21557917970</td>\n",
       "      <td>613,750</td>\n",
       "      <td>2.925227</td>\n",
       "    </tr>\n",
       "    <tr>\n",
       "      <th>FDN</th>\n",
       "      <td>First Trust Dow Jones Internet Index</td>\n",
       "      <td>9177427870</td>\n",
       "      <td>415,830</td>\n",
       "      <td>2.920796</td>\n",
       "    </tr>\n",
       "    <tr>\n",
       "      <th>XLK</th>\n",
       "      <td>Technology Select Sector SPDR Fund</td>\n",
       "      <td>22322560250</td>\n",
       "      <td>12,649,847</td>\n",
       "      <td>2.698708</td>\n",
       "    </tr>\n",
       "    <tr>\n",
       "      <th>QQQ</th>\n",
       "      <td>Invesco QQQ</td>\n",
       "      <td>76501997970</td>\n",
       "      <td>32,553,898</td>\n",
       "      <td>2.641505</td>\n",
       "    </tr>\n",
       "    <tr>\n",
       "      <th>XLF</th>\n",
       "      <td>Financial Select Sector SPDR Fund</td>\n",
       "      <td>25545345180</td>\n",
       "      <td>43,653,383</td>\n",
       "      <td>2.412236</td>\n",
       "    </tr>\n",
       "    <tr>\n",
       "      <th>MTUM</th>\n",
       "      <td>iShares Edge MSCI USA Momentum Factor ETF</td>\n",
       "      <td>10352258560</td>\n",
       "      <td>955,069</td>\n",
       "      <td>2.362234</td>\n",
       "    </tr>\n",
       "    <tr>\n",
       "      <th>IWF</th>\n",
       "      <td>iShares Russell 1000 Growth ETF</td>\n",
       "      <td>46579635150</td>\n",
       "      <td>1,510,542</td>\n",
       "      <td>2.227833</td>\n",
       "    </tr>\n",
       "    <tr>\n",
       "      <th>IVW</th>\n",
       "      <td>iShares S&amp;P 500 Growth ETF</td>\n",
       "      <td>24116342270</td>\n",
       "      <td>453,900</td>\n",
       "      <td>2.208187</td>\n",
       "    </tr>\n",
       "    <tr>\n",
       "      <th>XLY</th>\n",
       "      <td>Consumer Discretionary Select Sector SPDR Fund</td>\n",
       "      <td>14564046720</td>\n",
       "      <td>3,975,405</td>\n",
       "      <td>2.176221</td>\n",
       "    </tr>\n",
       "    <tr>\n",
       "      <th>VUG</th>\n",
       "      <td>Vanguard Growth ETF</td>\n",
       "      <td>42665383440</td>\n",
       "      <td>656,180</td>\n",
       "      <td>2.134822</td>\n",
       "    </tr>\n",
       "    <tr>\n",
       "      <th>MINT</th>\n",
       "      <td>PIMCO Enhanced Short Maturity Strategy Fund</td>\n",
       "      <td>11925333720</td>\n",
       "      <td>891,411</td>\n",
       "      <td>1.093995</td>\n",
       "    </tr>\n",
       "    <tr>\n",
       "      <th>IAU</th>\n",
       "      <td>iShares Gold Trust</td>\n",
       "      <td>13765310560</td>\n",
       "      <td>17,285,215</td>\n",
       "      <td>1.083467</td>\n",
       "    </tr>\n",
       "    <tr>\n",
       "      <th>FLOT</th>\n",
       "      <td>iShares Floating Rate Bond ETF</td>\n",
       "      <td>9826610510</td>\n",
       "      <td>1,419,194</td>\n",
       "      <td>1.082671</td>\n",
       "    </tr>\n",
       "    <tr>\n",
       "      <th>GDX</th>\n",
       "      <td>VanEck Vectors Gold Miners ETF</td>\n",
       "      <td>11086784350</td>\n",
       "      <td>46,423,793</td>\n",
       "      <td>1.074258</td>\n",
       "    </tr>\n",
       "    <tr>\n",
       "      <th>GLD</th>\n",
       "      <td>SPDR Gold Trust</td>\n",
       "      <td>37351959560</td>\n",
       "      <td>8,581,141</td>\n",
       "      <td>1.074107</td>\n",
       "    </tr>\n",
       "    <tr>\n",
       "      <th>SHY</th>\n",
       "      <td>iShares 1-3 Year Treasury Bond ETF</td>\n",
       "      <td>16735180080</td>\n",
       "      <td>2,935,353</td>\n",
       "      <td>1.060803</td>\n",
       "    </tr>\n",
       "    <tr>\n",
       "      <th>SHV</th>\n",
       "      <td>iShares Short Treasury Bond ETF</td>\n",
       "      <td>24559745120</td>\n",
       "      <td>2,226,884</td>\n",
       "      <td>1.041839</td>\n",
       "    </tr>\n",
       "    <tr>\n",
       "      <th>BIL</th>\n",
       "      <td>SPDR Barclays 1-3 Month T-Bill ETF</td>\n",
       "      <td>9139081290</td>\n",
       "      <td>1,825,197</td>\n",
       "      <td>1.033942</td>\n",
       "    </tr>\n",
       "    <tr>\n",
       "      <th>XLE</th>\n",
       "      <td>Energy Select Sector SPDR Fund</td>\n",
       "      <td>11874366570</td>\n",
       "      <td>13,355,519</td>\n",
       "      <td>0.909399</td>\n",
       "    </tr>\n",
       "    <tr>\n",
       "      <th>AMLP</th>\n",
       "      <td>Alerian MLP ETF</td>\n",
       "      <td>8797378480</td>\n",
       "      <td>12,359,997</td>\n",
       "      <td>0.796503</td>\n",
       "    </tr>\n",
       "  </tbody>\n",
       "</table>\n",
       "</div>"
      ],
      "text/plain": [
       "                                                  Name          AUM  \\\n",
       "Symbol                                                                \n",
       "VGT                Vanguard Information Technology ETF  21557917970   \n",
       "FDN               First Trust Dow Jones Internet Index   9177427870   \n",
       "XLK                 Technology Select Sector SPDR Fund  22322560250   \n",
       "QQQ                                        Invesco QQQ  76501997970   \n",
       "XLF                  Financial Select Sector SPDR Fund  25545345180   \n",
       "MTUM         iShares Edge MSCI USA Momentum Factor ETF  10352258560   \n",
       "IWF                    iShares Russell 1000 Growth ETF  46579635150   \n",
       "IVW                         iShares S&P 500 Growth ETF  24116342270   \n",
       "XLY     Consumer Discretionary Select Sector SPDR Fund  14564046720   \n",
       "VUG                                Vanguard Growth ETF  42665383440   \n",
       "MINT       PIMCO Enhanced Short Maturity Strategy Fund  11925333720   \n",
       "IAU                                 iShares Gold Trust  13765310560   \n",
       "FLOT                    iShares Floating Rate Bond ETF   9826610510   \n",
       "GDX                     VanEck Vectors Gold Miners ETF  11086784350   \n",
       "GLD                                    SPDR Gold Trust  37351959560   \n",
       "SHY                 iShares 1-3 Year Treasury Bond ETF  16735180080   \n",
       "SHV                    iShares Short Treasury Bond ETF  24559745120   \n",
       "BIL                 SPDR Barclays 1-3 Month T-Bill ETF   9139081290   \n",
       "XLE                     Energy Select Sector SPDR Fund  11874366570   \n",
       "AMLP                                   Alerian MLP ETF   8797378480   \n",
       "\n",
       "        Avg Volume  cum_return  \n",
       "Symbol                          \n",
       "VGT        613,750    2.925227  \n",
       "FDN        415,830    2.920796  \n",
       "XLK     12,649,847    2.698708  \n",
       "QQQ     32,553,898    2.641505  \n",
       "XLF     43,653,383    2.412236  \n",
       "MTUM       955,069    2.362234  \n",
       "IWF      1,510,542    2.227833  \n",
       "IVW        453,900    2.208187  \n",
       "XLY      3,975,405    2.176221  \n",
       "VUG        656,180    2.134822  \n",
       "MINT       891,411    1.093995  \n",
       "IAU     17,285,215    1.083467  \n",
       "FLOT     1,419,194    1.082671  \n",
       "GDX     46,423,793    1.074258  \n",
       "GLD      8,581,141    1.074107  \n",
       "SHY      2,935,353    1.060803  \n",
       "SHV      2,226,884    1.041839  \n",
       "BIL      1,825,197    1.033942  \n",
       "XLE     13,355,519    0.909399  \n",
       "AMLP    12,359,997    0.796503  "
      ]
     },
     "execution_count": 14,
     "metadata": {},
     "output_type": "execute_result"
    }
   ],
   "source": [
    "etf_cum = cum_return(mydf)\n",
    "\n",
    "bottom_10 = list(etf_cum.iloc[-1].nsmallest(10).index)\n",
    "bottom_10.reverse()\n",
    "top_10 = list(etf_cum.iloc[-1].nlargest(10).index)\n",
    "\n",
    "# Plot top 10 and bottom 10\n",
    "top_bottom = etf_cum[top_10 + bottom_10]\n",
    "n_tickers = etf_tickers[etf_tickers['Symbol'].isin(top_10+bottom_10)]\n",
    "n_tickers.set_index('Symbol', inplace=True)\n",
    "n_tickers = n_tickers.join(top_bottom.iloc[-1], )\n",
    "#top_bottom.iloc[-1]\n",
    "n_tickers.columns = n_tickers.columns.tolist()[:-1] + ['cum_return']\n",
    "n_tickers.sort_values('cum_return', ascending=False)"
   ]
  },
  {
   "cell_type": "markdown",
   "metadata": {},
   "source": [
    "#### As seen from the results above, the top performers are invested in Technology, Finiaciasls, while the low performers are invested in Bonds and Gold and Energy"
   ]
  },
  {
   "cell_type": "code",
   "execution_count": 15,
   "metadata": {},
   "outputs": [
    {
     "data": {
      "text/plain": [
       "1.9535781687732985"
      ]
     },
     "execution_count": 15,
     "metadata": {},
     "output_type": "execute_result"
    },
    {
     "data": {
      "image/png": "[encoded data removed]",
      "text/plain": [
       "<Figure size 1296x576 with 1 Axes>"
      ]
     },
     "metadata": {
      "needs_background": "light"
     },
     "output_type": "display_data"
    }
   ],
   "source": [
    "fig, ax = plt.subplots(figsize=(18,8))\n",
    "\n",
    "top_bottom.plot(kind='line', ax=ax)\n",
    "etf_cum.iloc[-1]['SPY']"
   ]
  },
  {
   "cell_type": "code",
   "execution_count": 16,
   "metadata": {
    "scrolled": true
   },
   "outputs": [
    {
     "data": {
      "text/html": [
       "<div>\n",
       "<style scoped>\n",
       "    .dataframe tbody tr th:only-of-type {\n",
       "        vertical-align: middle;\n",
       "    }\n",
       "\n",
       "    .dataframe tbody tr th {\n",
       "        vertical-align: top;\n",
       "    }\n",
       "\n",
       "    .dataframe thead th {\n",
       "        text-align: right;\n",
       "    }\n",
       "</style>\n",
       "<table border=\"1\" class=\"dataframe\">\n",
       "  <thead>\n",
       "    <tr style=\"text-align: right;\">\n",
       "      <th></th>\n",
       "      <th>Name</th>\n",
       "      <th>AUM</th>\n",
       "      <th>Avg Volume</th>\n",
       "      <th>std</th>\n",
       "    </tr>\n",
       "    <tr>\n",
       "      <th>Symbol</th>\n",
       "      <th></th>\n",
       "      <th></th>\n",
       "      <th></th>\n",
       "      <th></th>\n",
       "    </tr>\n",
       "  </thead>\n",
       "  <tbody>\n",
       "    <tr>\n",
       "      <th>SPY</th>\n",
       "      <td>SPDR S&amp;P 500 ETF</td>\n",
       "      <td>279477625560</td>\n",
       "      <td>67,461,109</td>\n",
       "      <td>0.129093</td>\n",
       "    </tr>\n",
       "    <tr>\n",
       "      <th>IVV</th>\n",
       "      <td>iShares Core S&amp;P 500 ETF</td>\n",
       "      <td>184887090640</td>\n",
       "      <td>3,598,722</td>\n",
       "      <td>0.129310</td>\n",
       "    </tr>\n",
       "    <tr>\n",
       "      <th>VTI</th>\n",
       "      <td>Vanguard Total Stock Market ETF</td>\n",
       "      <td>120845792970</td>\n",
       "      <td>2,472,492</td>\n",
       "      <td>0.130060</td>\n",
       "    </tr>\n",
       "    <tr>\n",
       "      <th>VOO</th>\n",
       "      <td>Vanguard S&amp;P 500 ETF</td>\n",
       "      <td>120178358580</td>\n",
       "      <td>2,696,516</td>\n",
       "      <td>0.129338</td>\n",
       "    </tr>\n",
       "    <tr>\n",
       "      <th>QQQ</th>\n",
       "      <td>Invesco QQQ</td>\n",
       "      <td>76501997970</td>\n",
       "      <td>32,553,898</td>\n",
       "      <td>0.164056</td>\n",
       "    </tr>\n",
       "  </tbody>\n",
       "</table>\n",
       "</div>"
      ],
      "text/plain": [
       "                                   Name           AUM  Avg Volume       std\n",
       "Symbol                                                                     \n",
       "SPY                    SPDR S&P 500 ETF  279477625560  67,461,109  0.129093\n",
       "IVV            iShares Core S&P 500 ETF  184887090640   3,598,722  0.129310\n",
       "VTI     Vanguard Total Stock Market ETF  120845792970   2,472,492  0.130060\n",
       "VOO                Vanguard S&P 500 ETF  120178358580   2,696,516  0.129338\n",
       "QQQ                         Invesco QQQ   76501997970  32,553,898  0.164056"
      ]
     },
     "execution_count": 16,
     "metadata": {},
     "output_type": "execute_result"
    }
   ],
   "source": [
    "etf_daily = daily_returns(mydf)\n",
    "etf_std = (etf_daily.std()*np.sqrt(252)).rename('std')\n",
    "etf_stats = etf_tickers.set_index('Symbol').join(etf_std)\n",
    "etf_stats.head()"
   ]
  },
  {
   "cell_type": "code",
   "execution_count": 17,
   "metadata": {},
   "outputs": [
    {
     "data": {
      "text/html": [
       "<div>\n",
       "<style scoped>\n",
       "    .dataframe tbody tr th:only-of-type {\n",
       "        vertical-align: middle;\n",
       "    }\n",
       "\n",
       "    .dataframe tbody tr th {\n",
       "        vertical-align: top;\n",
       "    }\n",
       "\n",
       "    .dataframe thead th {\n",
       "        text-align: right;\n",
       "    }\n",
       "</style>\n",
       "<table border=\"1\" class=\"dataframe\">\n",
       "  <thead>\n",
       "    <tr style=\"text-align: right;\">\n",
       "      <th></th>\n",
       "      <th>Name</th>\n",
       "      <th>AUM</th>\n",
       "      <th>Avg Volume</th>\n",
       "      <th>std</th>\n",
       "    </tr>\n",
       "    <tr>\n",
       "      <th>Symbol</th>\n",
       "      <th></th>\n",
       "      <th></th>\n",
       "      <th></th>\n",
       "      <th></th>\n",
       "    </tr>\n",
       "  </thead>\n",
       "  <tbody>\n",
       "    <tr>\n",
       "      <th>SHV</th>\n",
       "      <td>iShares Short Treasury Bond ETF</td>\n",
       "      <td>24559745120</td>\n",
       "      <td>2,226,884</td>\n",
       "      <td>0.002104</td>\n",
       "    </tr>\n",
       "    <tr>\n",
       "      <th>BIL</th>\n",
       "      <td>SPDR Barclays 1-3 Month T-Bill ETF</td>\n",
       "      <td>9139081290</td>\n",
       "      <td>1,825,197</td>\n",
       "      <td>0.002606</td>\n",
       "    </tr>\n",
       "    <tr>\n",
       "      <th>MINT</th>\n",
       "      <td>PIMCO Enhanced Short Maturity Strategy Fund</td>\n",
       "      <td>11925333720</td>\n",
       "      <td>891,411</td>\n",
       "      <td>0.004462</td>\n",
       "    </tr>\n",
       "    <tr>\n",
       "      <th>FLOT</th>\n",
       "      <td>iShares Floating Rate Bond ETF</td>\n",
       "      <td>9826610510</td>\n",
       "      <td>1,419,194</td>\n",
       "      <td>0.007732</td>\n",
       "    </tr>\n",
       "    <tr>\n",
       "      <th>SHY</th>\n",
       "      <td>iShares 1-3 Year Treasury Bond ETF</td>\n",
       "      <td>16735180080</td>\n",
       "      <td>2,935,353</td>\n",
       "      <td>0.008903</td>\n",
       "    </tr>\n",
       "    <tr>\n",
       "      <th>IGSB</th>\n",
       "      <td>iShares Short-Term Corporate Bond ETF</td>\n",
       "      <td>12707098360</td>\n",
       "      <td>1,634,795</td>\n",
       "      <td>0.010300</td>\n",
       "    </tr>\n",
       "    <tr>\n",
       "      <th>BSV</th>\n",
       "      <td>Vanguard Short-Term Bond ETF</td>\n",
       "      <td>22466511290</td>\n",
       "      <td>1,373,827</td>\n",
       "      <td>0.013861</td>\n",
       "    </tr>\n",
       "    <tr>\n",
       "      <th>VCSH</th>\n",
       "      <td>Vanguard Short-Term Corporate Bond ETF</td>\n",
       "      <td>24098317690</td>\n",
       "      <td>1,627,683</td>\n",
       "      <td>0.015482</td>\n",
       "    </tr>\n",
       "    <tr>\n",
       "      <th>VMBS</th>\n",
       "      <td>Vanguard Mortgage-Backed Securities ETF</td>\n",
       "      <td>10022629040</td>\n",
       "      <td>911,542</td>\n",
       "      <td>0.025978</td>\n",
       "    </tr>\n",
       "    <tr>\n",
       "      <th>MBB</th>\n",
       "      <td>iShares MBS Bond ETF</td>\n",
       "      <td>18201148550</td>\n",
       "      <td>935,420</td>\n",
       "      <td>0.026411</td>\n",
       "    </tr>\n",
       "  </tbody>\n",
       "</table>\n",
       "</div>"
      ],
      "text/plain": [
       "                                               Name          AUM Avg Volume  \\\n",
       "Symbol                                                                        \n",
       "SHV                 iShares Short Treasury Bond ETF  24559745120  2,226,884   \n",
       "BIL              SPDR Barclays 1-3 Month T-Bill ETF   9139081290  1,825,197   \n",
       "MINT    PIMCO Enhanced Short Maturity Strategy Fund  11925333720    891,411   \n",
       "FLOT                 iShares Floating Rate Bond ETF   9826610510  1,419,194   \n",
       "SHY              iShares 1-3 Year Treasury Bond ETF  16735180080  2,935,353   \n",
       "IGSB          iShares Short-Term Corporate Bond ETF  12707098360  1,634,795   \n",
       "BSV                    Vanguard Short-Term Bond ETF  22466511290  1,373,827   \n",
       "VCSH         Vanguard Short-Term Corporate Bond ETF  24098317690  1,627,683   \n",
       "VMBS        Vanguard Mortgage-Backed Securities ETF  10022629040    911,542   \n",
       "MBB                            iShares MBS Bond ETF  18201148550    935,420   \n",
       "\n",
       "             std  \n",
       "Symbol            \n",
       "SHV     0.002104  \n",
       "BIL     0.002606  \n",
       "MINT    0.004462  \n",
       "FLOT    0.007732  \n",
       "SHY     0.008903  \n",
       "IGSB    0.010300  \n",
       "BSV     0.013861  \n",
       "VCSH    0.015482  \n",
       "VMBS    0.025978  \n",
       "MBB     0.026411  "
      ]
     },
     "execution_count": 17,
     "metadata": {},
     "output_type": "execute_result"
    }
   ],
   "source": [
    "etf_stats.nlargest(5, 'std')\n",
    "etf_stats.nsmallest(10, 'std')"
   ]
  },
  {
   "cell_type": "code",
   "execution_count": 18,
   "metadata": {},
   "outputs": [
    {
     "data": {
      "text/plain": [
       "ticker\n",
       "AMLP   -0.569972\n",
       "XLE    -0.179876\n",
       "GDX     0.006051\n",
       "GLD     0.048599\n",
       "IAU     0.094119\n",
       "EWZ     0.277858\n",
       "IEF     0.631033\n",
       "TLT     0.650746\n",
       "GOVT    0.683117\n",
       "EEM     0.695427\n",
       "VWO     0.720835\n",
       "VGK     0.730844\n",
       "IEMG    0.737594\n",
       "BIL     0.790381\n",
       "BIV     0.797075\n",
       "Name: SPY, dtype: float64"
      ]
     },
     "execution_count": 18,
     "metadata": {},
     "output_type": "execute_result"
    }
   ],
   "source": [
    "#((etf_daily+1).prod(axis=0))['QQQ']\n",
    "#1.000684*1.003829\n",
    "#1.004223*1.003773\n",
    "#1.000571 1.003184\n",
    "#print(1.000571*1.002611)\n",
    "#etf_daily\n",
    "#(gmean(etf_daily+1, axis=0))\n",
    "mydf.corr()['SPY'].nsmallest(15)\n",
    "#etf_daily[['SPY', 'TLT']].plot(x='SPY', y='TLT', kind='scatter')\n"
   ]
  },
  {
   "cell_type": "code",
   "execution_count": 22,
   "metadata": {},
   "outputs": [
    {
     "name": "stdout",
     "output_type": "stream",
     "text": [
      "[4. 2.]\n"
     ]
    },
    {
     "data": {
      "application/vnd.plotly.v1+json": {
       "config": {
        "plotlyServerURL": "https://plot.ly"
       },
       "data": [
        {
         "hoverlabel": {
          "namelength": 0
         },
         "hovertemplate": "ticker=ACWI<br>beta=%{x}<br>alpha=%{y}",
         "legendgroup": "ticker=ACWI",
         "marker": {
          "color": "#636efa",
          "symbol": "circle"
         },
         "mode": "markers",
         "name": "ticker=ACWI",
         "showlegend": true,
         "type": "scatter",
         "x": [
          0.9520639586460281
         ],
         "xaxis": "x",
         "y": [
          0.00014966493644047866
         ],
         "yaxis": "y"
        },
        {
         "hoverlabel": {
          "namelength": 0
         },
         "hovertemplate": "ticker=AGG<br>beta=%{x}<br>alpha=%{y}",
         "legendgroup": "ticker=AGG",
         "marker": {
          "color": "#636efa",
          "symbol": "diamond"
         },
         "mode": "markers",
         "name": "ticker=AGG",
         "showlegend": true,
         "type": "scatter",
         "x": [
          -0.7891748196507784
         ],
         "xaxis": "x",
         "y": [
          0.0005764234919810398
         ],
         "yaxis": "y"
        },
        {
         "hoverlabel": {
          "namelength": 0
         },
         "hovertemplate": "ticker=AMLP<br>beta=%{x}<br>alpha=%{y}",
         "legendgroup": "ticker=AMLP",
         "marker": {
          "color": "#636efa",
          "symbol": "square"
         },
         "mode": "markers",
         "name": "ticker=AMLP",
         "showlegend": true,
         "type": "scatter",
         "x": [
          0.264915064327198
         ],
         "xaxis": "x",
         "y": [
          0.0004921553317159168
         ],
         "yaxis": "y"
        },
        {
         "hoverlabel": {
          "namelength": 0
         },
         "hovertemplate": "ticker=BIL<br>beta=%{x}<br>alpha=%{y}",
         "legendgroup": "ticker=BIL",
         "marker": {
          "color": "#636efa",
          "symbol": "x"
         },
         "mode": "markers",
         "name": "ticker=BIL",
         "showlegend": true,
         "type": "scatter",
         "x": [
          -0.7808306970470853
         ],
         "xaxis": "x",
         "y": [
          0.0004976540785711421
         ],
         "yaxis": "y"
        },
        {
         "hoverlabel": {
          "namelength": 0
         },
         "hovertemplate": "ticker=BIV<br>beta=%{x}<br>alpha=%{y}",
         "legendgroup": "ticker=BIV",
         "marker": {
          "color": "#636efa",
          "symbol": "cross"
         },
         "mode": "markers",
         "name": "ticker=BIV",
         "showlegend": true,
         "type": "scatter",
         "x": [
          -0.8276149893056534
         ],
         "xaxis": "x",
         "y": [
          0.0005941487377417167
         ],
         "yaxis": "y"
        },
        {
         "hoverlabel": {
          "namelength": 0
         },
         "hovertemplate": "ticker=BND<br>beta=%{x}<br>alpha=%{y}",
         "legendgroup": "ticker=BND",
         "marker": {
          "color": "#636efa",
          "symbol": "circle"
         },
         "mode": "markers",
         "name": "ticker=BND",
         "showlegend": true,
         "type": "scatter",
         "x": [
          -0.927899513595328
         ],
         "xaxis": "x",
         "y": [
          0.0005897991488348909
         ],
         "yaxis": "y"
        },
        {
         "hoverlabel": {
          "namelength": 0
         },
         "hovertemplate": "ticker=BNDX<br>beta=%{x}<br>alpha=%{y}",
         "legendgroup": "ticker=BNDX",
         "marker": {
          "color": "#636efa",
          "symbol": "diamond"
         },
         "mode": "markers",
         "name": "ticker=BNDX",
         "showlegend": true,
         "type": "scatter",
         "x": [
          -0.5073331484934516
         ],
         "xaxis": "x",
         "y": [
          0.0005683162359571484
         ],
         "yaxis": "y"
        },
        {
         "hoverlabel": {
          "namelength": 0
         },
         "hovertemplate": "ticker=BSV<br>beta=%{x}<br>alpha=%{y}",
         "legendgroup": "ticker=BSV",
         "marker": {
          "color": "#636efa",
          "symbol": "square"
         },
         "mode": "markers",
         "name": "ticker=BSV",
         "showlegend": true,
         "type": "scatter",
         "x": [
          -2.6318301531730843
         ],
         "xaxis": "x",
         "y": [
          0.0006433188909452577
         ],
         "yaxis": "y"
        },
        {
         "hoverlabel": {
          "namelength": 0
         },
         "hovertemplate": "ticker=DIA<br>beta=%{x}<br>alpha=%{y}",
         "legendgroup": "ticker=DIA",
         "marker": {
          "color": "#636efa",
          "symbol": "x"
         },
         "mode": "markers",
         "name": "ticker=DIA",
         "showlegend": true,
         "type": "scatter",
         "x": [
          0.9652678284014086
         ],
         "xaxis": "x",
         "y": [
          1.5083279282211984e-05
         ],
         "yaxis": "y"
        },
        {
         "hoverlabel": {
          "namelength": 0
         },
         "hovertemplate": "ticker=DVY<br>beta=%{x}<br>alpha=%{y}",
         "legendgroup": "ticker=DVY",
         "marker": {
          "color": "#636efa",
          "symbol": "cross"
         },
         "mode": "markers",
         "name": "ticker=DVY",
         "showlegend": true,
         "type": "scatter",
         "x": [
          1.0060019474531885
         ],
         "xaxis": "x",
         "y": [
          6.129952436465567e-05
         ],
         "yaxis": "y"
        },
        {
         "hoverlabel": {
          "namelength": 0
         },
         "hovertemplate": "ticker=EEM<br>beta=%{x}<br>alpha=%{y}",
         "legendgroup": "ticker=EEM",
         "marker": {
          "color": "#636efa",
          "symbol": "circle"
         },
         "mode": "markers",
         "name": "ticker=EEM",
         "showlegend": true,
         "type": "scatter",
         "x": [
          0.5122485091457579
         ],
         "xaxis": "x",
         "y": [
          0.00037355830854305305
         ],
         "yaxis": "y"
        },
        {
         "hoverlabel": {
          "namelength": 0
         },
         "hovertemplate": "ticker=EFA<br>beta=%{x}<br>alpha=%{y}",
         "legendgroup": "ticker=EFA",
         "marker": {
          "color": "#636efa",
          "symbol": "diamond"
         },
         "mode": "markers",
         "name": "ticker=EFA",
         "showlegend": true,
         "type": "scatter",
         "x": [
          0.7659641634099781
         ],
         "xaxis": "x",
         "y": [
          0.0003193494931864902
         ],
         "yaxis": "y"
        },
        {
         "hoverlabel": {
          "namelength": 0
         },
         "hovertemplate": "ticker=EFAV<br>beta=%{x}<br>alpha=%{y}",
         "legendgroup": "ticker=EFAV",
         "marker": {
          "color": "#636efa",
          "symbol": "square"
         },
         "mode": "markers",
         "name": "ticker=EFAV",
         "showlegend": true,
         "type": "scatter",
         "x": [
          0.9442663997233779
         ],
         "xaxis": "x",
         "y": [
          0.00021515380616531887
         ],
         "yaxis": "y"
        },
        {
         "hoverlabel": {
          "namelength": 0
         },
         "hovertemplate": "ticker=EMB<br>beta=%{x}<br>alpha=%{y}",
         "legendgroup": "ticker=EMB",
         "marker": {
          "color": "#636efa",
          "symbol": "x"
         },
         "mode": "markers",
         "name": "ticker=EMB",
         "showlegend": true,
         "type": "scatter",
         "x": [
          0.8373310780827585
         ],
         "xaxis": "x",
         "y": [
          0.0003065376894665467
         ],
         "yaxis": "y"
        },
        {
         "hoverlabel": {
          "namelength": 0
         },
         "hovertemplate": "ticker=EWJ<br>beta=%{x}<br>alpha=%{y}",
         "legendgroup": "ticker=EWJ",
         "marker": {
          "color": "#636efa",
          "symbol": "cross"
         },
         "mode": "markers",
         "name": "ticker=EWJ",
         "showlegend": true,
         "type": "scatter",
         "x": [
          0.5939551769465606
         ],
         "xaxis": "x",
         "y": [
          0.0003724856093259428
         ],
         "yaxis": "y"
        },
        {
         "hoverlabel": {
          "namelength": 0
         },
         "hovertemplate": "ticker=EWZ<br>beta=%{x}<br>alpha=%{y}",
         "legendgroup": "ticker=EWZ",
         "marker": {
          "color": "#636efa",
          "symbol": "circle"
         },
         "mode": "markers",
         "name": "ticker=EWZ",
         "showlegend": true,
         "type": "scatter",
         "x": [
          0.18267227964115226
         ],
         "xaxis": "x",
         "y": [
          0.0004226553798246091
         ],
         "yaxis": "y"
        },
        {
         "hoverlabel": {
          "namelength": 0
         },
         "hovertemplate": "ticker=FDN<br>beta=%{x}<br>alpha=%{y}",
         "legendgroup": "ticker=FDN",
         "marker": {
          "color": "#636efa",
          "symbol": "diamond"
         },
         "mode": "markers",
         "name": "ticker=FDN",
         "showlegend": true,
         "type": "scatter",
         "x": [
          0.5398065212801907
         ],
         "xaxis": "x",
         "y": [
          5.224395439869348e-05
         ],
         "yaxis": "y"
        },
        {
         "hoverlabel": {
          "namelength": 0
         },
         "hovertemplate": "ticker=FLOT<br>beta=%{x}<br>alpha=%{y}",
         "legendgroup": "ticker=FLOT",
         "marker": {
          "color": "#636efa",
          "symbol": "square"
         },
         "mode": "markers",
         "name": "ticker=FLOT",
         "showlegend": true,
         "type": "scatter",
         "x": [
          1.0567529648453762
         ],
         "xaxis": "x",
         "y": [
          0.00042408393381721687
         ],
         "yaxis": "y"
        },
        {
         "hoverlabel": {
          "namelength": 0
         },
         "hovertemplate": "ticker=GDX<br>beta=%{x}<br>alpha=%{y}",
         "legendgroup": "ticker=GDX",
         "marker": {
          "color": "#636efa",
          "symbol": "x"
         },
         "mode": "markers",
         "name": "ticker=GDX",
         "showlegend": true,
         "type": "scatter",
         "x": [
          0.02078155102356858
         ],
         "xaxis": "x",
         "y": [
          0.0004732729475144575
         ],
         "yaxis": "y"
        },
        {
         "hoverlabel": {
          "namelength": 0
         },
         "hovertemplate": "ticker=GLD<br>beta=%{x}<br>alpha=%{y}",
         "legendgroup": "ticker=GLD",
         "marker": {
          "color": "#636efa",
          "symbol": "cross"
         },
         "mode": "markers",
         "name": "ticker=GLD",
         "showlegend": true,
         "type": "scatter",
         "x": [
          -0.12491628251874254
         ],
         "xaxis": "x",
         "y": [
          0.0004907704714282898
         ],
         "yaxis": "y"
        },
        {
         "hoverlabel": {
          "namelength": 0
         },
         "hovertemplate": "ticker=GOVT<br>beta=%{x}<br>alpha=%{y}",
         "legendgroup": "ticker=GOVT",
         "marker": {
          "color": "#636efa",
          "symbol": "circle"
         },
         "mode": "markers",
         "name": "ticker=GOVT",
         "showlegend": true,
         "type": "scatter",
         "x": [
          -1.2600112494803284
         ],
         "xaxis": "x",
         "y": [
          0.0005971966649275223
         ],
         "yaxis": "y"
        },
        {
         "hoverlabel": {
          "namelength": 0
         },
         "hovertemplate": "ticker=HYG<br>beta=%{x}<br>alpha=%{y}",
         "legendgroup": "ticker=HYG",
         "marker": {
          "color": "#636efa",
          "symbol": "diamond"
         },
         "mode": "markers",
         "name": "ticker=HYG",
         "showlegend": true,
         "type": "scatter",
         "x": [
          1.5221086846784653
         ],
         "xaxis": "x",
         "y": [
          0.00022153493423973872
         ],
         "yaxis": "y"
        },
        {
         "hoverlabel": {
          "namelength": 0
         },
         "hovertemplate": "ticker=IAU<br>beta=%{x}<br>alpha=%{y}",
         "legendgroup": "ticker=IAU",
         "marker": {
          "color": "#636efa",
          "symbol": "square"
         },
         "mode": "markers",
         "name": "ticker=IAU",
         "showlegend": true,
         "type": "scatter",
         "x": [
          -0.1254825622300826
         ],
         "xaxis": "x",
         "y": [
          0.0004915748529360329
         ],
         "yaxis": "y"
        },
        {
         "hoverlabel": {
          "namelength": 0
         },
         "hovertemplate": "ticker=IEF<br>beta=%{x}<br>alpha=%{y}",
         "legendgroup": "ticker=IEF",
         "marker": {
          "color": "#636efa",
          "symbol": "x"
         },
         "mode": "markers",
         "name": "ticker=IEF",
         "showlegend": true,
         "type": "scatter",
         "x": [
          -0.8799387155656063
         ],
         "xaxis": "x",
         "y": [
          0.000597139384121413
         ],
         "yaxis": "y"
        },
        {
         "hoverlabel": {
          "namelength": 0
         },
         "hovertemplate": "ticker=IEFA<br>beta=%{x}<br>alpha=%{y}",
         "legendgroup": "ticker=IEFA",
         "marker": {
          "color": "#636efa",
          "symbol": "cross"
         },
         "mode": "markers",
         "name": "ticker=IEFA",
         "showlegend": true,
         "type": "scatter",
         "x": [
          0.7727344389777081
         ],
         "xaxis": "x",
         "y": [
          0.0003033873397210184
         ],
         "yaxis": "y"
        },
        {
         "hoverlabel": {
          "namelength": 0
         },
         "hovertemplate": "ticker=IEMG<br>beta=%{x}<br>alpha=%{y}",
         "legendgroup": "ticker=IEMG",
         "marker": {
          "color": "#636efa",
          "symbol": "circle"
         },
         "mode": "markers",
         "name": "ticker=IEMG",
         "showlegend": true,
         "type": "scatter",
         "x": [
          0.5414773809064471
         ],
         "xaxis": "x",
         "y": [
          0.0003633879323746856
         ],
         "yaxis": "y"
        },
        {
         "hoverlabel": {
          "namelength": 0
         },
         "hovertemplate": "ticker=IGSB<br>beta=%{x}<br>alpha=%{y}",
         "legendgroup": "ticker=IGSB",
         "marker": {
          "color": "#636efa",
          "symbol": "diamond"
         },
         "mode": "markers",
         "name": "ticker=IGSB",
         "showlegend": true,
         "type": "scatter",
         "x": [
          -0.6505511131032443
         ],
         "xaxis": "x",
         "y": [
          0.0005295965168305005
         ],
         "yaxis": "y"
        },
        {
         "hoverlabel": {
          "namelength": 0
         },
         "hovertemplate": "ticker=IJH<br>beta=%{x}<br>alpha=%{y}",
         "legendgroup": "ticker=IJH",
         "marker": {
          "color": "#636efa",
          "symbol": "square"
         },
         "mode": "markers",
         "name": "ticker=IJH",
         "showlegend": true,
         "type": "scatter",
         "x": [
          0.8499969912483823
         ],
         "xaxis": "x",
         "y": [
          0.00013753720763245596
         ],
         "yaxis": "y"
        },
        {
         "hoverlabel": {
          "namelength": 0
         },
         "hovertemplate": "ticker=IJR<br>beta=%{x}<br>alpha=%{y}",
         "legendgroup": "ticker=IJR",
         "marker": {
          "color": "#636efa",
          "symbol": "x"
         },
         "mode": "markers",
         "name": "ticker=IJR",
         "showlegend": true,
         "type": "scatter",
         "x": [
          0.6989333808006776
         ],
         "xaxis": "x",
         "y": [
          0.0001855050169237771
         ],
         "yaxis": "y"
        },
        {
         "hoverlabel": {
          "namelength": 0
         },
         "hovertemplate": "ticker=ITOT<br>beta=%{x}<br>alpha=%{y}",
         "legendgroup": "ticker=ITOT",
         "marker": {
          "color": "#636efa",
          "symbol": "cross"
         },
         "mode": "markers",
         "name": "ticker=ITOT",
         "showlegend": true,
         "type": "scatter",
         "x": [
          0.9920089860438438
         ],
         "xaxis": "x",
         "y": [
          7.928144314694275e-06
         ],
         "yaxis": "y"
        },
        {
         "hoverlabel": {
          "namelength": 0
         },
         "hovertemplate": "ticker=IVE<br>beta=%{x}<br>alpha=%{y}",
         "legendgroup": "ticker=IVE",
         "marker": {
          "color": "#636efa",
          "symbol": "circle"
         },
         "mode": "markers",
         "name": "ticker=IVE",
         "showlegend": true,
         "type": "scatter",
         "x": [
          0.9906271457410856
         ],
         "xaxis": "x",
         "y": [
          0.00010681767305973938
         ],
         "yaxis": "y"
        },
        {
         "hoverlabel": {
          "namelength": 0
         },
         "hovertemplate": "ticker=IVV<br>beta=%{x}<br>alpha=%{y}",
         "legendgroup": "ticker=IVV",
         "marker": {
          "color": "#636efa",
          "symbol": "diamond"
         },
         "mode": "markers",
         "name": "ticker=IVV",
         "showlegend": true,
         "type": "scatter",
         "x": [
          0.9973083648556519
         ],
         "xaxis": "x",
         "y": [
          -1.342934606275902e-06
         ],
         "yaxis": "y"
        },
        {
         "hoverlabel": {
          "namelength": 0
         },
         "hovertemplate": "ticker=IVW<br>beta=%{x}<br>alpha=%{y}",
         "legendgroup": "ticker=IVW",
         "marker": {
          "color": "#636efa",
          "symbol": "square"
         },
         "mode": "markers",
         "name": "ticker=IVW",
         "showlegend": true,
         "type": "scatter",
         "x": [
          0.9106128465188931
         ],
         "xaxis": "x",
         "y": [
          -3.609567420756819e-05
         ],
         "yaxis": "y"
        },
        {
         "hoverlabel": {
          "namelength": 0
         },
         "hovertemplate": "ticker=IWB<br>beta=%{x}<br>alpha=%{y}",
         "legendgroup": "ticker=IWB",
         "marker": {
          "color": "#636efa",
          "symbol": "x"
         },
         "mode": "markers",
         "name": "ticker=IWB",
         "showlegend": true,
         "type": "scatter",
         "x": [
          0.9963660043851458
         ],
         "xaxis": "x",
         "y": [
          6.7828222443693075e-06
         ],
         "yaxis": "y"
        },
        {
         "hoverlabel": {
          "namelength": 0
         },
         "hovertemplate": "ticker=IWD<br>beta=%{x}<br>alpha=%{y}",
         "legendgroup": "ticker=IWD",
         "marker": {
          "color": "#636efa",
          "symbol": "cross"
         },
         "mode": "markers",
         "name": "ticker=IWD",
         "showlegend": true,
         "type": "scatter",
         "x": [
          0.9994692530170887
         ],
         "xaxis": "x",
         "y": [
          0.00011041285649505378
         ],
         "yaxis": "y"
        },
        {
         "hoverlabel": {
          "namelength": 0
         },
         "hovertemplate": "ticker=IWF<br>beta=%{x}<br>alpha=%{y}",
         "legendgroup": "ticker=IWF",
         "marker": {
          "color": "#636efa",
          "symbol": "circle"
         },
         "mode": "markers",
         "name": "ticker=IWF",
         "showlegend": true,
         "type": "scatter",
         "x": [
          0.8974970743581898
         ],
         "xaxis": "x",
         "y": [
          -3.4759451923117374e-05
         ],
         "yaxis": "y"
        },
        {
         "hoverlabel": {
          "namelength": 0
         },
         "hovertemplate": "ticker=IWM<br>beta=%{x}<br>alpha=%{y}",
         "legendgroup": "ticker=IWM",
         "marker": {
          "color": "#636efa",
          "symbol": "diamond"
         },
         "mode": "markers",
         "name": "ticker=IWM",
         "showlegend": true,
         "type": "scatter",
         "x": [
          0.6924608872089206
         ],
         "xaxis": "x",
         "y": [
          0.0002219155832098175
         ],
         "yaxis": "y"
        },
        {
         "hoverlabel": {
          "namelength": 0
         },
         "hovertemplate": "ticker=IWN<br>beta=%{x}<br>alpha=%{y}",
         "legendgroup": "ticker=IWN",
         "marker": {
          "color": "#636efa",
          "symbol": "square"
         },
         "mode": "markers",
         "name": "ticker=IWN",
         "showlegend": true,
         "type": "scatter",
         "x": [
          0.7184705009037402
         ],
         "xaxis": "x",
         "y": [
          0.0002632234641293635
         ],
         "yaxis": "y"
        },
        {
         "hoverlabel": {
          "namelength": 0
         },
         "hovertemplate": "ticker=IWO<br>beta=%{x}<br>alpha=%{y}",
         "legendgroup": "ticker=IWO",
         "marker": {
          "color": "#636efa",
          "symbol": "x"
         },
         "mode": "markers",
         "name": "ticker=IWO",
         "showlegend": true,
         "type": "scatter",
         "x": [
          0.6183369787194875
         ],
         "xaxis": "x",
         "y": [
          0.00020906824866276477
         ],
         "yaxis": "y"
        },
        {
         "hoverlabel": {
          "namelength": 0
         },
         "hovertemplate": "ticker=IWP<br>beta=%{x}<br>alpha=%{y}",
         "legendgroup": "ticker=IWP",
         "marker": {
          "color": "#636efa",
          "symbol": "cross"
         },
         "mode": "markers",
         "name": "ticker=IWP",
         "showlegend": true,
         "type": "scatter",
         "x": [
          0.8464655979183489
         ],
         "xaxis": "x",
         "y": [
          5.66345033782523e-05
         ],
         "yaxis": "y"
        },
        {
         "hoverlabel": {
          "namelength": 0
         },
         "hovertemplate": "ticker=IWR<br>beta=%{x}<br>alpha=%{y}",
         "legendgroup": "ticker=IWR",
         "marker": {
          "color": "#636efa",
          "symbol": "circle"
         },
         "mode": "markers",
         "name": "ticker=IWR",
         "showlegend": true,
         "type": "scatter",
         "x": [
          0.933860444065982
         ],
         "xaxis": "x",
         "y": [
          8.263835608843436e-05
         ],
         "yaxis": "y"
        },
        {
         "hoverlabel": {
          "namelength": 0
         },
         "hovertemplate": "ticker=IWS<br>beta=%{x}<br>alpha=%{y}",
         "legendgroup": "ticker=IWS",
         "marker": {
          "color": "#636efa",
          "symbol": "diamond"
         },
         "mode": "markers",
         "name": "ticker=IWS",
         "showlegend": true,
         "type": "scatter",
         "x": [
          0.9403444460875673
         ],
         "xaxis": "x",
         "y": [
          0.00013285739281184054
         ],
         "yaxis": "y"
        },
        {
         "hoverlabel": {
          "namelength": 0
         },
         "hovertemplate": "ticker=IWV<br>beta=%{x}<br>alpha=%{y}",
         "legendgroup": "ticker=IWV",
         "marker": {
          "color": "#636efa",
          "symbol": "square"
         },
         "mode": "markers",
         "name": "ticker=IWV",
         "showlegend": true,
         "type": "scatter",
         "x": [
          0.9849024912984629
         ],
         "xaxis": "x",
         "y": [
          2.3124024788971037e-05
         ],
         "yaxis": "y"
        },
        {
         "hoverlabel": {
          "namelength": 0
         },
         "hovertemplate": "ticker=IXUS<br>beta=%{x}<br>alpha=%{y}",
         "legendgroup": "ticker=IXUS",
         "marker": {
          "color": "#636efa",
          "symbol": "x"
         },
         "mode": "markers",
         "name": "ticker=IXUS",
         "showlegend": true,
         "type": "scatter",
         "x": [
          0.7736607476605013
         ],
         "xaxis": "x",
         "y": [
          0.00031300077947898485
         ],
         "yaxis": "y"
        },
        {
         "hoverlabel": {
          "namelength": 0
         },
         "hovertemplate": "ticker=JNK<br>beta=%{x}<br>alpha=%{y}",
         "legendgroup": "ticker=JNK",
         "marker": {
          "color": "#636efa",
          "symbol": "cross"
         },
         "mode": "markers",
         "name": "ticker=JNK",
         "showlegend": true,
         "type": "scatter",
         "x": [
          1.519589814228377
         ],
         "xaxis": "x",
         "y": [
          0.00023237905804166097
         ],
         "yaxis": "y"
        },
        {
         "hoverlabel": {
          "namelength": 0
         },
         "hovertemplate": "ticker=LQD<br>beta=%{x}<br>alpha=%{y}",
         "legendgroup": "ticker=LQD",
         "marker": {
          "color": "#636efa",
          "symbol": "circle"
         },
         "mode": "markers",
         "name": "ticker=LQD",
         "showlegend": true,
         "type": "scatter",
         "x": [
          -0.09068056448675071
         ],
         "xaxis": "x",
         "y": [
          0.0004978827417940075
         ],
         "yaxis": "y"
        },
        {
         "hoverlabel": {
          "namelength": 0
         },
         "hovertemplate": "ticker=MBB<br>beta=%{x}<br>alpha=%{y}",
         "legendgroup": "ticker=MBB",
         "marker": {
          "color": "#636efa",
          "symbol": "diamond"
         },
         "mode": "markers",
         "name": "ticker=MBB",
         "showlegend": true,
         "type": "scatter",
         "x": [
          -0.9842100253753071
         ],
         "xaxis": "x",
         "y": [
          0.000588773422953509
         ],
         "yaxis": "y"
        },
        {
         "hoverlabel": {
          "namelength": 0
         },
         "hovertemplate": "ticker=MDY<br>beta=%{x}<br>alpha=%{y}",
         "legendgroup": "ticker=MDY",
         "marker": {
          "color": "#636efa",
          "symbol": "square"
         },
         "mode": "markers",
         "name": "ticker=MDY",
         "showlegend": true,
         "type": "scatter",
         "x": [
          0.844716461702981
         ],
         "xaxis": "x",
         "y": [
          0.0001456746377234316
         ],
         "yaxis": "y"
        },
        {
         "hoverlabel": {
          "namelength": 0
         },
         "hovertemplate": "ticker=MINT<br>beta=%{x}<br>alpha=%{y}",
         "legendgroup": "ticker=MINT",
         "marker": {
          "color": "#636efa",
          "symbol": "x"
         },
         "mode": "markers",
         "name": "ticker=MINT",
         "showlegend": true,
         "type": "scatter",
         "x": [
          -3.4468636200317317
         ],
         "xaxis": "x",
         "y": [
          0.0006870983476889352
         ],
         "yaxis": "y"
        },
        {
         "hoverlabel": {
          "namelength": 0
         },
         "hovertemplate": "ticker=MTUM<br>beta=%{x}<br>alpha=%{y}",
         "legendgroup": "ticker=MTUM",
         "marker": {
          "color": "#636efa",
          "symbol": "cross"
         },
         "mode": "markers",
         "name": "ticker=MTUM",
         "showlegend": true,
         "type": "scatter",
         "x": [
          0.8109013672111466
         ],
         "xaxis": "x",
         "y": [
          -1.9956761203453775e-05
         ],
         "yaxis": "y"
        },
        {
         "hoverlabel": {
          "namelength": 0
         },
         "hovertemplate": "ticker=MUB<br>beta=%{x}<br>alpha=%{y}",
         "legendgroup": "ticker=MUB",
         "marker": {
          "color": "#636efa",
          "symbol": "circle"
         },
         "mode": "markers",
         "name": "ticker=MUB",
         "showlegend": true,
         "type": "scatter",
         "x": [
          -0.8891506210938083
         ],
         "xaxis": "x",
         "y": [
          0.000613433192069112
         ],
         "yaxis": "y"
        },
        {
         "hoverlabel": {
          "namelength": 0
         },
         "hovertemplate": "ticker=PFF<br>beta=%{x}<br>alpha=%{y}",
         "legendgroup": "ticker=PFF",
         "marker": {
          "color": "#636efa",
          "symbol": "diamond"
         },
         "mode": "markers",
         "name": "ticker=PFF",
         "showlegend": true,
         "type": "scatter",
         "x": [
          1.203741530573868
         ],
         "xaxis": "x",
         "y": [
          0.0002375697566548854
         ],
         "yaxis": "y"
        },
        {
         "hoverlabel": {
          "namelength": 0
         },
         "hovertemplate": "ticker=QQQ<br>beta=%{x}<br>alpha=%{y}",
         "legendgroup": "ticker=QQQ",
         "marker": {
          "color": "#636efa",
          "symbol": "square"
         },
         "mode": "markers",
         "name": "ticker=QQQ",
         "showlegend": true,
         "type": "scatter",
         "x": [
          0.724938502515342
         ],
         "xaxis": "x",
         "y": [
          -2.8748093844812157e-05
         ],
         "yaxis": "y"
        },
        {
         "hoverlabel": {
          "namelength": 0
         },
         "hovertemplate": "ticker=QUAL<br>beta=%{x}<br>alpha=%{y}",
         "legendgroup": "ticker=QUAL",
         "marker": {
          "color": "#636efa",
          "symbol": "x"
         },
         "mode": "markers",
         "name": "ticker=QUAL",
         "showlegend": true,
         "type": "scatter",
         "x": [
          0.9802269260407792
         ],
         "xaxis": "x",
         "y": [
          -9.88148883305082e-06
         ],
         "yaxis": "y"
        },
        {
         "hoverlabel": {
          "namelength": 0
         },
         "hovertemplate": "ticker=RSP<br>beta=%{x}<br>alpha=%{y}",
         "legendgroup": "ticker=RSP",
         "marker": {
          "color": "#636efa",
          "symbol": "cross"
         },
         "mode": "markers",
         "name": "ticker=RSP",
         "showlegend": true,
         "type": "scatter",
         "x": [
          0.965102616150071
         ],
         "xaxis": "x",
         "y": [
          5.7632738033396305e-05
         ],
         "yaxis": "y"
        },
        {
         "hoverlabel": {
          "namelength": 0
         },
         "hovertemplate": "ticker=SCHB<br>beta=%{x}<br>alpha=%{y}",
         "legendgroup": "ticker=SCHB",
         "marker": {
          "color": "#636efa",
          "symbol": "circle"
         },
         "mode": "markers",
         "name": "ticker=SCHB",
         "showlegend": true,
         "type": "scatter",
         "x": [
          0.9925241720269045
         ],
         "xaxis": "x",
         "y": [
          1.4198170847262146e-05
         ],
         "yaxis": "y"
        },
        {
         "hoverlabel": {
          "namelength": 0
         },
         "hovertemplate": "ticker=SCHD<br>beta=%{x}<br>alpha=%{y}",
         "legendgroup": "ticker=SCHD",
         "marker": {
          "color": "#636efa",
          "symbol": "diamond"
         },
         "mode": "markers",
         "name": "ticker=SCHD",
         "showlegend": true,
         "type": "scatter",
         "x": [
          1.031939867095183
         ],
         "xaxis": "x",
         "y": [
          3.07569231304379e-05
         ],
         "yaxis": "y"
        },
        {
         "hoverlabel": {
          "namelength": 0
         },
         "hovertemplate": "ticker=SCHF<br>beta=%{x}<br>alpha=%{y}",
         "legendgroup": "ticker=SCHF",
         "marker": {
          "color": "#636efa",
          "symbol": "square"
         },
         "mode": "markers",
         "name": "ticker=SCHF",
         "showlegend": true,
         "type": "scatter",
         "x": [
          0.7954860628695898
         ],
         "xaxis": "x",
         "y": [
          0.00031123866041252065
         ],
         "yaxis": "y"
        },
        {
         "hoverlabel": {
          "namelength": 0
         },
         "hovertemplate": "ticker=SCHX<br>beta=%{x}<br>alpha=%{y}",
         "legendgroup": "ticker=SCHX",
         "marker": {
          "color": "#636efa",
          "symbol": "x"
         },
         "mode": "markers",
         "name": "ticker=SCHX",
         "showlegend": true,
         "type": "scatter",
         "x": [
          1.0040375835743243
         ],
         "xaxis": "x",
         "y": [
          -1.972969520824115e-06
         ],
         "yaxis": "y"
        },
        {
         "hoverlabel": {
          "namelength": 0
         },
         "hovertemplate": "ticker=SCZ<br>beta=%{x}<br>alpha=%{y}",
         "legendgroup": "ticker=SCZ",
         "marker": {
          "color": "#636efa",
          "symbol": "cross"
         },
         "mode": "markers",
         "name": "ticker=SCZ",
         "showlegend": true,
         "type": "scatter",
         "x": [
          0.7709858620181617
         ],
         "xaxis": "x",
         "y": [
          0.0002494953691664188
         ],
         "yaxis": "y"
        },
        {
         "hoverlabel": {
          "namelength": 0
         },
         "hovertemplate": "ticker=SDY<br>beta=%{x}<br>alpha=%{y}",
         "legendgroup": "ticker=SDY",
         "marker": {
          "color": "#636efa",
          "symbol": "circle"
         },
         "mode": "markers",
         "name": "ticker=SDY",
         "showlegend": true,
         "type": "scatter",
         "x": [
          1.0412649324617902
         ],
         "xaxis": "x",
         "y": [
          1.94510644923286e-05
         ],
         "yaxis": "y"
        },
        {
         "hoverlabel": {
          "namelength": 0
         },
         "hovertemplate": "ticker=SHV<br>beta=%{x}<br>alpha=%{y}",
         "legendgroup": "ticker=SHV",
         "marker": {
          "color": "#636efa",
          "symbol": "diamond"
         },
         "mode": "markers",
         "name": "ticker=SHV",
         "showlegend": true,
         "type": "scatter",
         "x": [
          -6.310886195832953
         ],
         "xaxis": "x",
         "y": [
          0.0006529788516797681
         ],
         "yaxis": "y"
        },
        {
         "hoverlabel": {
          "namelength": 0
         },
         "hovertemplate": "ticker=SHY<br>beta=%{x}<br>alpha=%{y}",
         "legendgroup": "ticker=SHY",
         "marker": {
          "color": "#636efa",
          "symbol": "square"
         },
         "mode": "markers",
         "name": "ticker=SHY",
         "showlegend": true,
         "type": "scatter",
         "x": [
          -4.399361131789906
         ],
         "xaxis": "x",
         "y": [
          0.0006542882139641942
         ],
         "yaxis": "y"
        },
        {
         "hoverlabel": {
          "namelength": 0
         },
         "hovertemplate": "ticker=SPLV<br>beta=%{x}<br>alpha=%{y}",
         "legendgroup": "ticker=SPLV",
         "marker": {
          "color": "#636efa",
          "symbol": "x"
         },
         "mode": "markers",
         "name": "ticker=SPLV",
         "showlegend": true,
         "type": "scatter",
         "x": [
          0.9826500134310514
         ],
         "xaxis": "x",
         "y": [
          2.27183207049127e-05
         ],
         "yaxis": "y"
        },
        {
         "hoverlabel": {
          "namelength": 0
         },
         "hovertemplate": "ticker=TIP<br>beta=%{x}<br>alpha=%{y}",
         "legendgroup": "ticker=TIP",
         "marker": {
          "color": "#636efa",
          "symbol": "cross"
         },
         "mode": "markers",
         "name": "ticker=TIP",
         "showlegend": true,
         "type": "scatter",
         "x": [
          -0.48320251280972354
         ],
         "xaxis": "x",
         "y": [
          0.000519178285599981
         ],
         "yaxis": "y"
        },
        {
         "hoverlabel": {
          "namelength": 0
         },
         "hovertemplate": "ticker=TLT<br>beta=%{x}<br>alpha=%{y}",
         "legendgroup": "ticker=TLT",
         "marker": {
          "color": "#636efa",
          "symbol": "circle"
         },
         "mode": "markers",
         "name": "ticker=TLT",
         "showlegend": true,
         "type": "scatter",
         "x": [
          -0.3683143513658221
         ],
         "xaxis": "x",
         "y": [
          0.0005809239735601992
         ],
         "yaxis": "y"
        },
        {
         "hoverlabel": {
          "namelength": 0
         },
         "hovertemplate": "ticker=USMV<br>beta=%{x}<br>alpha=%{y}",
         "legendgroup": "ticker=USMV",
         "marker": {
          "color": "#636efa",
          "symbol": "diamond"
         },
         "mode": "markers",
         "name": "ticker=USMV",
         "showlegend": true,
         "type": "scatter",
         "x": [
          1.1438565008148245
         ],
         "xaxis": "x",
         "y": [
          -9.515510658963651e-05
         ],
         "yaxis": "y"
        },
        {
         "hoverlabel": {
          "namelength": 0
         },
         "hovertemplate": "ticker=VB<br>beta=%{x}<br>alpha=%{y}",
         "legendgroup": "ticker=VB",
         "marker": {
          "color": "#636efa",
          "symbol": "square"
         },
         "mode": "markers",
         "name": "ticker=VB",
         "showlegend": true,
         "type": "scatter",
         "x": [
          0.7945000487216317
         ],
         "xaxis": "x",
         "y": [
          0.0001594256776056651
         ],
         "yaxis": "y"
        },
        {
         "hoverlabel": {
          "namelength": 0
         },
         "hovertemplate": "ticker=VBK<br>beta=%{x}<br>alpha=%{y}",
         "legendgroup": "ticker=VBK",
         "marker": {
          "color": "#636efa",
          "symbol": "x"
         },
         "mode": "markers",
         "name": "ticker=VBK",
         "showlegend": true,
         "type": "scatter",
         "x": [
          0.7218661976949285
         ],
         "xaxis": "x",
         "y": [
          0.00016387192643255456
         ],
         "yaxis": "y"
        },
        {
         "hoverlabel": {
          "namelength": 0
         },
         "hovertemplate": "ticker=VBR<br>beta=%{x}<br>alpha=%{y}",
         "legendgroup": "ticker=VBR",
         "marker": {
          "color": "#636efa",
          "symbol": "cross"
         },
         "mode": "markers",
         "name": "ticker=VBR",
         "showlegend": true,
         "type": "scatter",
         "x": [
          0.8162276224500105
         ],
         "xaxis": "x",
         "y": [
          0.0001733060523311077
         ],
         "yaxis": "y"
        },
        {
         "hoverlabel": {
          "namelength": 0
         },
         "hovertemplate": "ticker=VCIT<br>beta=%{x}<br>alpha=%{y}",
         "legendgroup": "ticker=VCIT",
         "marker": {
          "color": "#636efa",
          "symbol": "circle"
         },
         "mode": "markers",
         "name": "ticker=VCIT",
         "showlegend": true,
         "type": "scatter",
         "x": [
          -0.3447286042835326
         ],
         "xaxis": "x",
         "y": [
          0.0005436299895029066
         ],
         "yaxis": "y"
        },
        {
         "hoverlabel": {
          "namelength": 0
         },
         "hovertemplate": "ticker=VCSH<br>beta=%{x}<br>alpha=%{y}",
         "legendgroup": "ticker=VCSH",
         "marker": {
          "color": "#636efa",
          "symbol": "diamond"
         },
         "mode": "markers",
         "name": "ticker=VCSH",
         "showlegend": true,
         "type": "scatter",
         "x": [
          -0.485992157779448
         ],
         "xaxis": "x",
         "y": [
          0.0005277539320296445
         ],
         "yaxis": "y"
        },
        {
         "hoverlabel": {
          "namelength": 0
         },
         "hovertemplate": "ticker=VEA<br>beta=%{x}<br>alpha=%{y}",
         "legendgroup": "ticker=VEA",
         "marker": {
          "color": "#636efa",
          "symbol": "square"
         },
         "mode": "markers",
         "name": "ticker=VEA",
         "showlegend": true,
         "type": "scatter",
         "x": [
          0.7794850223868672
         ],
         "xaxis": "x",
         "y": [
          0.0003062238469332669
         ],
         "yaxis": "y"
        },
        {
         "hoverlabel": {
          "namelength": 0
         },
         "hovertemplate": "ticker=VEU<br>beta=%{x}<br>alpha=%{y}",
         "legendgroup": "ticker=VEU",
         "marker": {
          "color": "#636efa",
          "symbol": "x"
         },
         "mode": "markers",
         "name": "ticker=VEU",
         "showlegend": true,
         "type": "scatter",
         "x": [
          0.7719636539351349
         ],
         "xaxis": "x",
         "y": [
          0.0003128115176127153
         ],
         "yaxis": "y"
        },
        {
         "hoverlabel": {
          "namelength": 0
         },
         "hovertemplate": "ticker=VGK<br>beta=%{x}<br>alpha=%{y}",
         "legendgroup": "ticker=VGK",
         "marker": {
          "color": "#636efa",
          "symbol": "cross"
         },
         "mode": "markers",
         "name": "ticker=VGK",
         "showlegend": true,
         "type": "scatter",
         "x": [
          0.6566303219137797
         ],
         "xaxis": "x",
         "y": [
          0.00032883997350709204
         ],
         "yaxis": "y"
        },
        {
         "hoverlabel": {
          "namelength": 0
         },
         "hovertemplate": "ticker=VGT<br>beta=%{x}<br>alpha=%{y}",
         "legendgroup": "ticker=VGT",
         "marker": {
          "color": "#636efa",
          "symbol": "circle"
         },
         "mode": "markers",
         "name": "ticker=VGT",
         "showlegend": true,
         "type": "scatter",
         "x": [
          0.6986597286276499
         ],
         "xaxis": "x",
         "y": [
          -5.982856572075813e-05
         ],
         "yaxis": "y"
        },
        {
         "hoverlabel": {
          "namelength": 0
         },
         "hovertemplate": "ticker=VHT<br>beta=%{x}<br>alpha=%{y}",
         "legendgroup": "ticker=VHT",
         "marker": {
          "color": "#636efa",
          "symbol": "diamond"
         },
         "mode": "markers",
         "name": "ticker=VHT",
         "showlegend": true,
         "type": "scatter",
         "x": [
          0.7149403354163536
         ],
         "xaxis": "x",
         "y": [
          9.631691052043508e-05
         ],
         "yaxis": "y"
        },
        {
         "hoverlabel": {
          "namelength": 0
         },
         "hovertemplate": "ticker=VIG<br>beta=%{x}<br>alpha=%{y}",
         "legendgroup": "ticker=VIG",
         "marker": {
          "color": "#636efa",
          "symbol": "square"
         },
         "mode": "markers",
         "name": "ticker=VIG",
         "showlegend": true,
         "type": "scatter",
         "x": [
          1.0401691948845904
         ],
         "xaxis": "x",
         "y": [
          1.4974745489325967e-05
         ],
         "yaxis": "y"
        },
        {
         "hoverlabel": {
          "namelength": 0
         },
         "hovertemplate": "ticker=VMBS<br>beta=%{x}<br>alpha=%{y}",
         "legendgroup": "ticker=VMBS",
         "marker": {
          "color": "#636efa",
          "symbol": "x"
         },
         "mode": "markers",
         "name": "ticker=VMBS",
         "showlegend": true,
         "type": "scatter",
         "x": [
          -1.0423454873951514
         ],
         "xaxis": "x",
         "y": [
          0.0005966958925128736
         ],
         "yaxis": "y"
        },
        {
         "hoverlabel": {
          "namelength": 0
         },
         "hovertemplate": "ticker=VNQ<br>beta=%{x}<br>alpha=%{y}",
         "legendgroup": "ticker=VNQ",
         "marker": {
          "color": "#636efa",
          "symbol": "cross"
         },
         "mode": "markers",
         "name": "ticker=VNQ",
         "showlegend": true,
         "type": "scatter",
         "x": [
          0.5023294632073666
         ],
         "xaxis": "x",
         "y": [
          0.0003107310108070087
         ],
         "yaxis": "y"
        },
        {
         "hoverlabel": {
          "namelength": 0
         },
         "hovertemplate": "ticker=VO<br>beta=%{x}<br>alpha=%{y}",
         "legendgroup": "ticker=VO",
         "marker": {
          "color": "#636efa",
          "symbol": "circle"
         },
         "mode": "markers",
         "name": "ticker=VO",
         "showlegend": true,
         "type": "scatter",
         "x": [
          0.9042764383514917
         ],
         "xaxis": "x",
         "y": [
          8.285232417778427e-05
         ],
         "yaxis": "y"
        },
        {
         "hoverlabel": {
          "namelength": 0
         },
         "hovertemplate": "ticker=VOE<br>beta=%{x}<br>alpha=%{y}",
         "legendgroup": "ticker=VOE",
         "marker": {
          "color": "#636efa",
          "symbol": "diamond"
         },
         "mode": "markers",
         "name": "ticker=VOE",
         "showlegend": true,
         "type": "scatter",
         "x": [
          0.9367069388862086
         ],
         "xaxis": "x",
         "y": [
          0.00010446225309330919
         ],
         "yaxis": "y"
        },
        {
         "hoverlabel": {
          "namelength": 0
         },
         "hovertemplate": "ticker=VOO<br>beta=%{x}<br>alpha=%{y}",
         "legendgroup": "ticker=VOO",
         "marker": {
          "color": "#636efa",
          "symbol": "square"
         },
         "mode": "markers",
         "name": "ticker=VOO",
         "showlegend": true,
         "type": "scatter",
         "x": [
          0.9969782587242212
         ],
         "xaxis": "x",
         "y": [
          -1.8768168455909113e-06
         ],
         "yaxis": "y"
        },
        {
         "hoverlabel": {
          "namelength": 0
         },
         "hovertemplate": "ticker=VT<br>beta=%{x}<br>alpha=%{y}",
         "legendgroup": "ticker=VT",
         "marker": {
          "color": "#636efa",
          "symbol": "x"
         },
         "mode": "markers",
         "name": "ticker=VT",
         "showlegend": true,
         "type": "scatter",
         "x": [
          0.9523544274722743
         ],
         "xaxis": "x",
         "y": [
          0.00015335664468197266
         ],
         "yaxis": "y"
        },
        {
         "hoverlabel": {
          "namelength": 0
         },
         "hovertemplate": "ticker=VTI<br>beta=%{x}<br>alpha=%{y}",
         "legendgroup": "ticker=VTI",
         "marker": {
          "color": "#636efa",
          "symbol": "cross"
         },
         "mode": "markers",
         "name": "ticker=VTI",
         "showlegend": true,
         "type": "scatter",
         "x": [
          0.9881951512136123
         ],
         "xaxis": "x",
         "y": [
          1.4658919201457708e-05
         ],
         "yaxis": "y"
        },
        {
         "hoverlabel": {
          "namelength": 0
         },
         "hovertemplate": "ticker=VTV<br>beta=%{x}<br>alpha=%{y}",
         "legendgroup": "ticker=VTV",
         "marker": {
          "color": "#636efa",
          "symbol": "circle"
         },
         "mode": "markers",
         "name": "ticker=VTV",
         "showlegend": true,
         "type": "scatter",
         "x": [
          1.0081268682836784
         ],
         "xaxis": "x",
         "y": [
          5.484190833394182e-05
         ],
         "yaxis": "y"
        },
        {
         "hoverlabel": {
          "namelength": 0
         },
         "hovertemplate": "ticker=VUG<br>beta=%{x}<br>alpha=%{y}",
         "legendgroup": "ticker=VUG",
         "marker": {
          "color": "#636efa",
          "symbol": "diamond"
         },
         "mode": "markers",
         "name": "ticker=VUG",
         "showlegend": true,
         "type": "scatter",
         "x": [
          0.8733577913514424
         ],
         "xaxis": "x",
         "y": [
          2.6320225545344984e-06
         ],
         "yaxis": "y"
        },
        {
         "hoverlabel": {
          "namelength": 0
         },
         "hovertemplate": "ticker=VV<br>beta=%{x}<br>alpha=%{y}",
         "legendgroup": "ticker=VV",
         "marker": {
          "color": "#636efa",
          "symbol": "square"
         },
         "mode": "markers",
         "name": "ticker=VV",
         "showlegend": true,
         "type": "scatter",
         "x": [
          0.9983245887417281
         ],
         "xaxis": "x",
         "y": [
          -7.377263659281547e-07
         ],
         "yaxis": "y"
        },
        {
         "hoverlabel": {
          "namelength": 0
         },
         "hovertemplate": "ticker=VWO<br>beta=%{x}<br>alpha=%{y}",
         "legendgroup": "ticker=VWO",
         "marker": {
          "color": "#636efa",
          "symbol": "x"
         },
         "mode": "markers",
         "name": "ticker=VWO",
         "showlegend": true,
         "type": "scatter",
         "x": [
          0.52348368495331
         ],
         "xaxis": "x",
         "y": [
          0.0003671552419658857
         ],
         "yaxis": "y"
        },
        {
         "hoverlabel": {
          "namelength": 0
         },
         "hovertemplate": "ticker=VXUS<br>beta=%{x}<br>alpha=%{y}",
         "legendgroup": "ticker=VXUS",
         "marker": {
          "color": "#636efa",
          "symbol": "cross"
         },
         "mode": "markers",
         "name": "ticker=VXUS",
         "showlegend": true,
         "type": "scatter",
         "x": [
          0.7627255257523072
         ],
         "xaxis": "x",
         "y": [
          0.0003196922127516126
         ],
         "yaxis": "y"
        },
        {
         "hoverlabel": {
          "namelength": 0
         },
         "hovertemplate": "ticker=VYM<br>beta=%{x}<br>alpha=%{y}",
         "legendgroup": "ticker=VYM",
         "marker": {
          "color": "#636efa",
          "symbol": "circle"
         },
         "mode": "markers",
         "name": "ticker=VYM",
         "showlegend": true,
         "type": "scatter",
         "x": [
          1.0505290544620132
         ],
         "xaxis": "x",
         "y": [
          5.1393875399566835e-05
         ],
         "yaxis": "y"
        },
        {
         "hoverlabel": {
          "namelength": 0
         },
         "hovertemplate": "ticker=XLE<br>beta=%{x}<br>alpha=%{y}",
         "legendgroup": "ticker=XLE",
         "marker": {
          "color": "#636efa",
          "symbol": "diamond"
         },
         "mode": "markers",
         "name": "ticker=XLE",
         "showlegend": true,
         "type": "scatter",
         "x": [
          0.4425276519223913
         ],
         "xaxis": "x",
         "y": [
          0.00047190040923350486
         ],
         "yaxis": "y"
        },
        {
         "hoverlabel": {
          "namelength": 0
         },
         "hovertemplate": "ticker=XLF<br>beta=%{x}<br>alpha=%{y}",
         "legendgroup": "ticker=XLF",
         "marker": {
          "color": "#636efa",
          "symbol": "square"
         },
         "mode": "markers",
         "name": "ticker=XLF",
         "showlegend": true,
         "type": "scatter",
         "x": [
          0.42427074866159026
         ],
         "xaxis": "x",
         "y": [
          0.00019732155756384576
         ],
         "yaxis": "y"
        },
        {
         "hoverlabel": {
          "namelength": 0
         },
         "hovertemplate": "ticker=XLI<br>beta=%{x}<br>alpha=%{y}",
         "legendgroup": "ticker=XLI",
         "marker": {
          "color": "#636efa",
          "symbol": "x"
         },
         "mode": "markers",
         "name": "ticker=XLI",
         "showlegend": true,
         "type": "scatter",
         "x": [
          0.792235990703245
         ],
         "xaxis": "x",
         "y": [
          9.465537907416761e-05
         ],
         "yaxis": "y"
        },
        {
         "hoverlabel": {
          "namelength": 0
         },
         "hovertemplate": "ticker=XLK<br>beta=%{x}<br>alpha=%{y}",
         "legendgroup": "ticker=XLK",
         "marker": {
          "color": "#636efa",
          "symbol": "cross"
         },
         "mode": "markers",
         "name": "ticker=XLK",
         "showlegend": true,
         "type": "scatter",
         "x": [
          0.7207067068371859
         ],
         "xaxis": "x",
         "y": [
          -3.5710841640399025e-05
         ],
         "yaxis": "y"
        },
        {
         "hoverlabel": {
          "namelength": 0
         },
         "hovertemplate": "ticker=XLP<br>beta=%{x}<br>alpha=%{y}",
         "legendgroup": "ticker=XLP",
         "marker": {
          "color": "#636efa",
          "symbol": "circle"
         },
         "mode": "markers",
         "name": "ticker=XLP",
         "showlegend": true,
         "type": "scatter",
         "x": [
          0.8006364413365937
         ],
         "xaxis": "x",
         "y": [
          0.00019514284032774113
         ],
         "yaxis": "y"
        },
        {
         "hoverlabel": {
          "namelength": 0
         },
         "hovertemplate": "ticker=XLU<br>beta=%{x}<br>alpha=%{y}",
         "legendgroup": "ticker=XLU",
         "marker": {
          "color": "#636efa",
          "symbol": "diamond"
         },
         "mode": "markers",
         "name": "ticker=XLU",
         "showlegend": true,
         "type": "scatter",
         "x": [
          0.32959327728167415
         ],
         "xaxis": "x",
         "y": [
          0.0003302707329435057
         ],
         "yaxis": "y"
        },
        {
         "hoverlabel": {
          "namelength": 0
         },
         "hovertemplate": "ticker=XLV<br>beta=%{x}<br>alpha=%{y}",
         "legendgroup": "ticker=XLV",
         "marker": {
          "color": "#636efa",
          "symbol": "square"
         },
         "mode": "markers",
         "name": "ticker=XLV",
         "showlegend": true,
         "type": "scatter",
         "x": [
          0.7277320501957009
         ],
         "xaxis": "x",
         "y": [
          0.0001034078940180735
         ],
         "yaxis": "y"
        },
        {
         "hoverlabel": {
          "namelength": 0
         },
         "hovertemplate": "ticker=XLY<br>beta=%{x}<br>alpha=%{y}",
         "legendgroup": "ticker=XLY",
         "marker": {
          "color": "#636efa",
          "symbol": "x"
         },
         "mode": "markers",
         "name": "ticker=XLY",
         "showlegend": true,
         "type": "scatter",
         "x": [
          0.8097234041437704
         ],
         "xaxis": "x",
         "y": [
          2.5912910984685977e-05
         ],
         "yaxis": "y"
        }
       ],
       "layout": {
        "height": 600,
        "legend": {
         "tracegroupgap": 0
        },
        "margin": {
         "t": 60
        },
        "template": {
         "data": {
          "bar": [
           {
            "error_x": {
             "color": "#2a3f5f"
            },
            "error_y": {
             "color": "#2a3f5f"
            },
            "marker": {
             "line": {
              "color": "#E5ECF6",
              "width": 0.5
             }
            },
            "type": "bar"
           }
          ],
          "barpolar": [
           {
            "marker": {
             "line": {
              "color": "#E5ECF6",
              "width": 0.5
             }
            },
            "type": "barpolar"
           }
          ],
          "carpet": [
           {
            "aaxis": {
             "endlinecolor": "#2a3f5f",
             "gridcolor": "white",
             "linecolor": "white",
             "minorgridcolor": "white",
             "startlinecolor": "#2a3f5f"
            },
            "baxis": {
             "endlinecolor": "#2a3f5f",
             "gridcolor": "white",
             "linecolor": "white",
             "minorgridcolor": "white",
             "startlinecolor": "#2a3f5f"
            },
            "type": "carpet"
           }
          ],
          "choropleth": [
           {
            "colorbar": {
             "outlinewidth": 0,
             "ticks": ""
            },
            "type": "choropleth"
           }
          ],
          "contour": [
           {
            "colorbar": {
             "outlinewidth": 0,
             "ticks": ""
            },
            "colorscale": [
             [
              0,
              "#0d0887"
             ],
             [
              0.1111111111111111,
              "#46039f"
             ],
             [
              0.2222222222222222,
              "#7201a8"
             ],
             [
              0.3333333333333333,
              "#9c179e"
             ],
             [
              0.4444444444444444,
              "#bd3786"
             ],
             [
              0.5555555555555556,
              "#d8576b"
             ],
             [
              0.6666666666666666,
              "#ed7953"
             ],
             [
              0.7777777777777778,
              "#fb9f3a"
             ],
             [
              0.8888888888888888,
              "#fdca26"
             ],
             [
              1,
              "#f0f921"
             ]
            ],
            "type": "contour"
           }
          ],
          "contourcarpet": [
           {
            "colorbar": {
             "outlinewidth": 0,
             "ticks": ""
            },
            "type": "contourcarpet"
           }
          ],
          "heatmap": [
           {
            "colorbar": {
             "outlinewidth": 0,
             "ticks": ""
            },
            "colorscale": [
             [
              0,
              "#0d0887"
             ],
             [
              0.1111111111111111,
              "#46039f"
             ],
             [
              0.2222222222222222,
              "#7201a8"
             ],
             [
              0.3333333333333333,
              "#9c179e"
             ],
             [
              0.4444444444444444,
              "#bd3786"
             ],
             [
              0.5555555555555556,
              "#d8576b"
             ],
             [
              0.6666666666666666,
              "#ed7953"
             ],
             [
              0.7777777777777778,
              "#fb9f3a"
             ],
             [
              0.8888888888888888,
              "#fdca26"
             ],
             [
              1,
              "#f0f921"
             ]
            ],
            "type": "heatmap"
           }
          ],
          "heatmapgl": [
           {
            "colorbar": {
             "outlinewidth": 0,
             "ticks": ""
            },
            "colorscale": [
             [
              0,
              "#0d0887"
             ],
             [
              0.1111111111111111,
              "#46039f"
             ],
             [
              0.2222222222222222,
              "#7201a8"
             ],
             [
              0.3333333333333333,
              "#9c179e"
             ],
             [
              0.4444444444444444,
              "#bd3786"
             ],
             [
              0.5555555555555556,
              "#d8576b"
             ],
             [
              0.6666666666666666,
              "#ed7953"
             ],
             [
              0.7777777777777778,
              "#fb9f3a"
             ],
             [
              0.8888888888888888,
              "#fdca26"
             ],
             [
              1,
              "#f0f921"
             ]
            ],
            "type": "heatmapgl"
           }
          ],
          "histogram": [
           {
            "marker": {
             "colorbar": {
              "outlinewidth": 0,
              "ticks": ""
             }
            },
            "type": "histogram"
           }
          ],
          "histogram2d": [
           {
            "colorbar": {
             "outlinewidth": 0,
             "ticks": ""
            },
            "colorscale": [
             [
              0,
              "#0d0887"
             ],
             [
              0.1111111111111111,
              "#46039f"
             ],
             [
              0.2222222222222222,
              "#7201a8"
             ],
             [
              0.3333333333333333,
              "#9c179e"
             ],
             [
              0.4444444444444444,
              "#bd3786"
             ],
             [
              0.5555555555555556,
              "#d8576b"
             ],
             [
              0.6666666666666666,
              "#ed7953"
             ],
             [
              0.7777777777777778,
              "#fb9f3a"
             ],
             [
              0.8888888888888888,
              "#fdca26"
             ],
             [
              1,
              "#f0f921"
             ]
            ],
            "type": "histogram2d"
           }
          ],
          "histogram2dcontour": [
           {
            "colorbar": {
             "outlinewidth": 0,
             "ticks": ""
            },
            "colorscale": [
             [
              0,
              "#0d0887"
             ],
             [
              0.1111111111111111,
              "#46039f"
             ],
             [
              0.2222222222222222,
              "#7201a8"
             ],
             [
              0.3333333333333333,
              "#9c179e"
             ],
             [
              0.4444444444444444,
              "#bd3786"
             ],
             [
              0.5555555555555556,
              "#d8576b"
             ],
             [
              0.6666666666666666,
              "#ed7953"
             ],
             [
              0.7777777777777778,
              "#fb9f3a"
             ],
             [
              0.8888888888888888,
              "#fdca26"
             ],
             [
              1,
              "#f0f921"
             ]
            ],
            "type": "histogram2dcontour"
           }
          ],
          "mesh3d": [
           {
            "colorbar": {
             "outlinewidth": 0,
             "ticks": ""
            },
            "type": "mesh3d"
           }
          ],
          "parcoords": [
           {
            "line": {
             "colorbar": {
              "outlinewidth": 0,
              "ticks": ""
             }
            },
            "type": "parcoords"
           }
          ],
          "scatter": [
           {
            "marker": {
             "colorbar": {
              "outlinewidth": 0,
              "ticks": ""
             }
            },
            "type": "scatter"
           }
          ],
          "scatter3d": [
           {
            "line": {
             "colorbar": {
              "outlinewidth": 0,
              "ticks": ""
             }
            },
            "marker": {
             "colorbar": {
              "outlinewidth": 0,
              "ticks": ""
             }
            },
            "type": "scatter3d"
           }
          ],
          "scattercarpet": [
           {
            "marker": {
             "colorbar": {
              "outlinewidth": 0,
              "ticks": ""
             }
            },
            "type": "scattercarpet"
           }
          ],
          "scattergeo": [
           {
            "marker": {
             "colorbar": {
              "outlinewidth": 0,
              "ticks": ""
             }
            },
            "type": "scattergeo"
           }
          ],
          "scattergl": [
           {
            "marker": {
             "colorbar": {
              "outlinewidth": 0,
              "ticks": ""
             }
            },
            "type": "scattergl"
           }
          ],
          "scattermapbox": [
           {
            "marker": {
             "colorbar": {
              "outlinewidth": 0,
              "ticks": ""
             }
            },
            "type": "scattermapbox"
           }
          ],
          "scatterpolar": [
           {
            "marker": {
             "colorbar": {
              "outlinewidth": 0,
              "ticks": ""
             }
            },
            "type": "scatterpolar"
           }
          ],
          "scatterpolargl": [
           {
            "marker": {
             "colorbar": {
              "outlinewidth": 0,
              "ticks": ""
             }
            },
            "type": "scatterpolargl"
           }
          ],
          "scatterternary": [
           {
            "marker": {
             "colorbar": {
              "outlinewidth": 0,
              "ticks": ""
             }
            },
            "type": "scatterternary"
           }
          ],
          "surface": [
           {
            "colorbar": {
             "outlinewidth": 0,
             "ticks": ""
            },
            "colorscale": [
             [
              0,
              "#0d0887"
             ],
             [
              0.1111111111111111,
              "#46039f"
             ],
             [
              0.2222222222222222,
              "#7201a8"
             ],
             [
              0.3333333333333333,
              "#9c179e"
             ],
             [
              0.4444444444444444,
              "#bd3786"
             ],
             [
              0.5555555555555556,
              "#d8576b"
             ],
             [
              0.6666666666666666,
              "#ed7953"
             ],
             [
              0.7777777777777778,
              "#fb9f3a"
             ],
             [
              0.8888888888888888,
              "#fdca26"
             ],
             [
              1,
              "#f0f921"
             ]
            ],
            "type": "surface"
           }
          ],
          "table": [
           {
            "cells": {
             "fill": {
              "color": "#EBF0F8"
             },
             "line": {
              "color": "white"
             }
            },
            "header": {
             "fill": {
              "color": "#C8D4E3"
             },
             "line": {
              "color": "white"
             }
            },
            "type": "table"
           }
          ]
         },
         "layout": {
          "annotationdefaults": {
           "arrowcolor": "#2a3f5f",
           "arrowhead": 0,
           "arrowwidth": 1
          },
          "colorscale": {
           "diverging": [
            [
             0,
             "#8e0152"
            ],
            [
             0.1,
             "#c51b7d"
            ],
            [
             0.2,
             "#de77ae"
            ],
            [
             0.3,
             "#f1b6da"
            ],
            [
             0.4,
             "#fde0ef"
            ],
            [
             0.5,
             "#f7f7f7"
            ],
            [
             0.6,
             "#e6f5d0"
            ],
            [
             0.7,
             "#b8e186"
            ],
            [
             0.8,
             "#7fbc41"
            ],
            [
             0.9,
             "#4d9221"
            ],
            [
             1,
             "#276419"
            ]
           ],
           "sequential": [
            [
             0,
             "#0d0887"
            ],
            [
             0.1111111111111111,
             "#46039f"
            ],
            [
             0.2222222222222222,
             "#7201a8"
            ],
            [
             0.3333333333333333,
             "#9c179e"
            ],
            [
             0.4444444444444444,
             "#bd3786"
            ],
            [
             0.5555555555555556,
             "#d8576b"
            ],
            [
             0.6666666666666666,
             "#ed7953"
            ],
            [
             0.7777777777777778,
             "#fb9f3a"
            ],
            [
             0.8888888888888888,
             "#fdca26"
            ],
            [
             1,
             "#f0f921"
            ]
           ],
           "sequentialminus": [
            [
             0,
             "#0d0887"
            ],
            [
             0.1111111111111111,
             "#46039f"
            ],
            [
             0.2222222222222222,
             "#7201a8"
            ],
            [
             0.3333333333333333,
             "#9c179e"
            ],
            [
             0.4444444444444444,
             "#bd3786"
            ],
            [
             0.5555555555555556,
             "#d8576b"
            ],
            [
             0.6666666666666666,
             "#ed7953"
            ],
            [
             0.7777777777777778,
             "#fb9f3a"
            ],
            [
             0.8888888888888888,
             "#fdca26"
            ],
            [
             1,
             "#f0f921"
            ]
           ]
          },
          "colorway": [
           "#636efa",
           "#EF553B",
           "#00cc96",
           "#ab63fa",
           "#FFA15A",
           "#19d3f3",
           "#FF6692",
           "#B6E880",
           "#FF97FF",
           "#FECB52"
          ],
          "font": {
           "color": "#2a3f5f"
          },
          "geo": {
           "bgcolor": "white",
           "lakecolor": "white",
           "landcolor": "#E5ECF6",
           "showlakes": true,
           "showland": true,
           "subunitcolor": "white"
          },
          "hoverlabel": {
           "align": "left"
          },
          "hovermode": "closest",
          "mapbox": {
           "style": "light"
          },
          "paper_bgcolor": "white",
          "plot_bgcolor": "#E5ECF6",
          "polar": {
           "angularaxis": {
            "gridcolor": "white",
            "linecolor": "white",
            "ticks": ""
           },
           "bgcolor": "#E5ECF6",
           "radialaxis": {
            "gridcolor": "white",
            "linecolor": "white",
            "ticks": ""
           }
          },
          "scene": {
           "xaxis": {
            "backgroundcolor": "#E5ECF6",
            "gridcolor": "white",
            "gridwidth": 2,
            "linecolor": "white",
            "showbackground": true,
            "ticks": "",
            "zerolinecolor": "white"
           },
           "yaxis": {
            "backgroundcolor": "#E5ECF6",
            "gridcolor": "white",
            "gridwidth": 2,
            "linecolor": "white",
            "showbackground": true,
            "ticks": "",
            "zerolinecolor": "white"
           },
           "zaxis": {
            "backgroundcolor": "#E5ECF6",
            "gridcolor": "white",
            "gridwidth": 2,
            "linecolor": "white",
            "showbackground": true,
            "ticks": "",
            "zerolinecolor": "white"
           }
          },
          "shapedefaults": {
           "line": {
            "color": "#2a3f5f"
           }
          },
          "ternary": {
           "aaxis": {
            "gridcolor": "white",
            "linecolor": "white",
            "ticks": ""
           },
           "baxis": {
            "gridcolor": "white",
            "linecolor": "white",
            "ticks": ""
           },
           "bgcolor": "#E5ECF6",
           "caxis": {
            "gridcolor": "white",
            "linecolor": "white",
            "ticks": ""
           }
          },
          "title": {
           "x": 0.05
          },
          "xaxis": {
           "automargin": true,
           "gridcolor": "white",
           "linecolor": "white",
           "ticks": "",
           "zerolinecolor": "white",
           "zerolinewidth": 2
          },
          "yaxis": {
           "automargin": true,
           "gridcolor": "white",
           "linecolor": "white",
           "ticks": "",
           "zerolinecolor": "white",
           "zerolinewidth": 2
          }
         }
        },
        "xaxis": {
         "anchor": "y",
         "domain": [
          0,
          0.98
         ],
         "title": {
          "text": "beta"
         }
        },
        "yaxis": {
         "anchor": "x",
         "domain": [
          0,
          1
         ],
         "title": {
          "text": "alpha"
         }
        }
       }
      },
      "text/html": [
       "<div>\n",
       "        \n",
       "        \n",
       "            <div id=\"44d91729-9bc4-4ede-bc8d-dc73b197f02d\" class=\"plotly-graph-div\" style=\"height:600px; width:100%;\"></div>\n",
       "            <script type=\"text/javascript\">\n",
       "                require([\"plotly\"], function(Plotly) {\n",
       "                    window.PLOTLYENV=window.PLOTLYENV || {};\n",
       "                    \n",
       "                if (document.getElementById(\"44d91729-9bc4-4ede-bc8d-dc73b197f02d\")) {\n",
       "                    Plotly.newPlot(\n",
       "                        '44d91729-9bc4-4ede-bc8d-dc73b197f02d',\n",
       "                        [{\"hoverlabel\": {\"namelength\": 0}, \"hovertemplate\": \"ticker=ACWI<br>beta=%{x}<br>alpha=%{y}\", \"legendgroup\": \"ticker=ACWI\", \"marker\": {\"color\": \"#636efa\", \"symbol\": \"circle\"}, \"mode\": \"markers\", \"name\": \"ticker=ACWI\", \"showlegend\": true, \"type\": \"scatter\", \"x\": [0.9520639586460281], \"xaxis\": \"x\", \"y\": [0.00014966493644047866], \"yaxis\": \"y\"}, {\"hoverlabel\": {\"namelength\": 0}, \"hovertemplate\": \"ticker=AGG<br>beta=%{x}<br>alpha=%{y}\", \"legendgroup\": \"ticker=AGG\", \"marker\": {\"color\": \"#636efa\", \"symbol\": \"diamond\"}, \"mode\": \"markers\", \"name\": \"ticker=AGG\", \"showlegend\": true, \"type\": \"scatter\", \"x\": [-0.7891748196507784], \"xaxis\": \"x\", \"y\": [0.0005764234919810398], \"yaxis\": \"y\"}, {\"hoverlabel\": {\"namelength\": 0}, \"hovertemplate\": \"ticker=AMLP<br>beta=%{x}<br>alpha=%{y}\", \"legendgroup\": \"ticker=AMLP\", \"marker\": {\"color\": \"#636efa\", \"symbol\": \"square\"}, \"mode\": \"markers\", \"name\": \"ticker=AMLP\", \"showlegend\": true, \"type\": \"scatter\", \"x\": [0.264915064327198], \"xaxis\": \"x\", \"y\": [0.0004921553317159168], \"yaxis\": \"y\"}, {\"hoverlabel\": {\"namelength\": 0}, \"hovertemplate\": \"ticker=BIL<br>beta=%{x}<br>alpha=%{y}\", \"legendgroup\": \"ticker=BIL\", \"marker\": {\"color\": \"#636efa\", \"symbol\": \"x\"}, \"mode\": \"markers\", \"name\": \"ticker=BIL\", \"showlegend\": true, \"type\": \"scatter\", \"x\": [-0.7808306970470853], \"xaxis\": \"x\", \"y\": [0.0004976540785711421], \"yaxis\": \"y\"}, {\"hoverlabel\": {\"namelength\": 0}, \"hovertemplate\": \"ticker=BIV<br>beta=%{x}<br>alpha=%{y}\", \"legendgroup\": \"ticker=BIV\", \"marker\": {\"color\": \"#636efa\", \"symbol\": \"cross\"}, \"mode\": \"markers\", \"name\": \"ticker=BIV\", \"showlegend\": true, \"type\": \"scatter\", \"x\": [-0.8276149893056534], \"xaxis\": \"x\", \"y\": [0.0005941487377417167], \"yaxis\": \"y\"}, {\"hoverlabel\": {\"namelength\": 0}, \"hovertemplate\": \"ticker=BND<br>beta=%{x}<br>alpha=%{y}\", \"legendgroup\": \"ticker=BND\", \"marker\": {\"color\": \"#636efa\", \"symbol\": \"circle\"}, \"mode\": \"markers\", \"name\": \"ticker=BND\", \"showlegend\": true, \"type\": \"scatter\", \"x\": [-0.927899513595328], \"xaxis\": \"x\", \"y\": [0.0005897991488348909], \"yaxis\": \"y\"}, {\"hoverlabel\": {\"namelength\": 0}, \"hovertemplate\": \"ticker=BNDX<br>beta=%{x}<br>alpha=%{y}\", \"legendgroup\": \"ticker=BNDX\", \"marker\": {\"color\": \"#636efa\", \"symbol\": \"diamond\"}, \"mode\": \"markers\", \"name\": \"ticker=BNDX\", \"showlegend\": true, \"type\": \"scatter\", \"x\": [-0.5073331484934516], \"xaxis\": \"x\", \"y\": [0.0005683162359571484], \"yaxis\": \"y\"}, {\"hoverlabel\": {\"namelength\": 0}, \"hovertemplate\": \"ticker=BSV<br>beta=%{x}<br>alpha=%{y}\", \"legendgroup\": \"ticker=BSV\", \"marker\": {\"color\": \"#636efa\", \"symbol\": \"square\"}, \"mode\": \"markers\", \"name\": \"ticker=BSV\", \"showlegend\": true, \"type\": \"scatter\", \"x\": [-2.6318301531730843], \"xaxis\": \"x\", \"y\": [0.0006433188909452577], \"yaxis\": \"y\"}, {\"hoverlabel\": {\"namelength\": 0}, \"hovertemplate\": \"ticker=DIA<br>beta=%{x}<br>alpha=%{y}\", \"legendgroup\": \"ticker=DIA\", \"marker\": {\"color\": \"#636efa\", \"symbol\": \"x\"}, \"mode\": \"markers\", \"name\": \"ticker=DIA\", \"showlegend\": true, \"type\": \"scatter\", \"x\": [0.9652678284014086], \"xaxis\": \"x\", \"y\": [1.5083279282211984e-05], \"yaxis\": \"y\"}, {\"hoverlabel\": {\"namelength\": 0}, \"hovertemplate\": \"ticker=DVY<br>beta=%{x}<br>alpha=%{y}\", \"legendgroup\": \"ticker=DVY\", \"marker\": {\"color\": \"#636efa\", \"symbol\": \"cross\"}, \"mode\": \"markers\", \"name\": \"ticker=DVY\", \"showlegend\": true, \"type\": \"scatter\", \"x\": [1.0060019474531885], \"xaxis\": \"x\", \"y\": [6.129952436465567e-05], \"yaxis\": \"y\"}, {\"hoverlabel\": {\"namelength\": 0}, \"hovertemplate\": \"ticker=EEM<br>beta=%{x}<br>alpha=%{y}\", \"legendgroup\": \"ticker=EEM\", \"marker\": {\"color\": \"#636efa\", \"symbol\": \"circle\"}, \"mode\": \"markers\", \"name\": \"ticker=EEM\", \"showlegend\": true, \"type\": \"scatter\", \"x\": [0.5122485091457579], \"xaxis\": \"x\", \"y\": [0.00037355830854305305], \"yaxis\": \"y\"}, {\"hoverlabel\": {\"namelength\": 0}, \"hovertemplate\": \"ticker=EFA<br>beta=%{x}<br>alpha=%{y}\", \"legendgroup\": \"ticker=EFA\", \"marker\": {\"color\": \"#636efa\", \"symbol\": \"diamond\"}, \"mode\": \"markers\", \"name\": \"ticker=EFA\", \"showlegend\": true, \"type\": \"scatter\", \"x\": [0.7659641634099781], \"xaxis\": \"x\", \"y\": [0.0003193494931864902], \"yaxis\": \"y\"}, {\"hoverlabel\": {\"namelength\": 0}, \"hovertemplate\": \"ticker=EFAV<br>beta=%{x}<br>alpha=%{y}\", \"legendgroup\": \"ticker=EFAV\", \"marker\": {\"color\": \"#636efa\", \"symbol\": \"square\"}, \"mode\": \"markers\", \"name\": \"ticker=EFAV\", \"showlegend\": true, \"type\": \"scatter\", \"x\": [0.9442663997233779], \"xaxis\": \"x\", \"y\": [0.00021515380616531887], \"yaxis\": \"y\"}, {\"hoverlabel\": {\"namelength\": 0}, \"hovertemplate\": \"ticker=EMB<br>beta=%{x}<br>alpha=%{y}\", \"legendgroup\": \"ticker=EMB\", \"marker\": {\"color\": \"#636efa\", \"symbol\": \"x\"}, \"mode\": \"markers\", \"name\": \"ticker=EMB\", \"showlegend\": true, \"type\": \"scatter\", \"x\": [0.8373310780827585], \"xaxis\": \"x\", \"y\": [0.0003065376894665467], \"yaxis\": \"y\"}, {\"hoverlabel\": {\"namelength\": 0}, \"hovertemplate\": \"ticker=EWJ<br>beta=%{x}<br>alpha=%{y}\", \"legendgroup\": \"ticker=EWJ\", \"marker\": {\"color\": \"#636efa\", \"symbol\": \"cross\"}, \"mode\": \"markers\", \"name\": \"ticker=EWJ\", \"showlegend\": true, \"type\": \"scatter\", \"x\": [0.5939551769465606], \"xaxis\": \"x\", \"y\": [0.0003724856093259428], \"yaxis\": \"y\"}, {\"hoverlabel\": {\"namelength\": 0}, \"hovertemplate\": \"ticker=EWZ<br>beta=%{x}<br>alpha=%{y}\", \"legendgroup\": \"ticker=EWZ\", \"marker\": {\"color\": \"#636efa\", \"symbol\": \"circle\"}, \"mode\": \"markers\", \"name\": \"ticker=EWZ\", \"showlegend\": true, \"type\": \"scatter\", \"x\": [0.18267227964115226], \"xaxis\": \"x\", \"y\": [0.0004226553798246091], \"yaxis\": \"y\"}, {\"hoverlabel\": {\"namelength\": 0}, \"hovertemplate\": \"ticker=FDN<br>beta=%{x}<br>alpha=%{y}\", \"legendgroup\": \"ticker=FDN\", \"marker\": {\"color\": \"#636efa\", \"symbol\": \"diamond\"}, \"mode\": \"markers\", \"name\": \"ticker=FDN\", \"showlegend\": true, \"type\": \"scatter\", \"x\": [0.5398065212801907], \"xaxis\": \"x\", \"y\": [5.224395439869348e-05], \"yaxis\": \"y\"}, {\"hoverlabel\": {\"namelength\": 0}, \"hovertemplate\": \"ticker=FLOT<br>beta=%{x}<br>alpha=%{y}\", \"legendgroup\": \"ticker=FLOT\", \"marker\": {\"color\": \"#636efa\", \"symbol\": \"square\"}, \"mode\": \"markers\", \"name\": \"ticker=FLOT\", \"showlegend\": true, \"type\": \"scatter\", \"x\": [1.0567529648453762], \"xaxis\": \"x\", \"y\": [0.00042408393381721687], \"yaxis\": \"y\"}, {\"hoverlabel\": {\"namelength\": 0}, \"hovertemplate\": \"ticker=GDX<br>beta=%{x}<br>alpha=%{y}\", \"legendgroup\": \"ticker=GDX\", \"marker\": {\"color\": \"#636efa\", \"symbol\": \"x\"}, \"mode\": \"markers\", \"name\": \"ticker=GDX\", \"showlegend\": true, \"type\": \"scatter\", \"x\": [0.02078155102356858], \"xaxis\": \"x\", \"y\": [0.0004732729475144575], \"yaxis\": \"y\"}, {\"hoverlabel\": {\"namelength\": 0}, \"hovertemplate\": \"ticker=GLD<br>beta=%{x}<br>alpha=%{y}\", \"legendgroup\": \"ticker=GLD\", \"marker\": {\"color\": \"#636efa\", \"symbol\": \"cross\"}, \"mode\": \"markers\", \"name\": \"ticker=GLD\", \"showlegend\": true, \"type\": \"scatter\", \"x\": [-0.12491628251874254], \"xaxis\": \"x\", \"y\": [0.0004907704714282898], \"yaxis\": \"y\"}, {\"hoverlabel\": {\"namelength\": 0}, \"hovertemplate\": \"ticker=GOVT<br>beta=%{x}<br>alpha=%{y}\", \"legendgroup\": \"ticker=GOVT\", \"marker\": {\"color\": \"#636efa\", \"symbol\": \"circle\"}, \"mode\": \"markers\", \"name\": \"ticker=GOVT\", \"showlegend\": true, \"type\": \"scatter\", \"x\": [-1.2600112494803284], \"xaxis\": \"x\", \"y\": [0.0005971966649275223], \"yaxis\": \"y\"}, {\"hoverlabel\": {\"namelength\": 0}, \"hovertemplate\": \"ticker=HYG<br>beta=%{x}<br>alpha=%{y}\", \"legendgroup\": \"ticker=HYG\", \"marker\": {\"color\": \"#636efa\", \"symbol\": \"diamond\"}, \"mode\": \"markers\", \"name\": \"ticker=HYG\", \"showlegend\": true, \"type\": \"scatter\", \"x\": [1.5221086846784653], \"xaxis\": \"x\", \"y\": [0.00022153493423973872], \"yaxis\": \"y\"}, {\"hoverlabel\": {\"namelength\": 0}, \"hovertemplate\": \"ticker=IAU<br>beta=%{x}<br>alpha=%{y}\", \"legendgroup\": \"ticker=IAU\", \"marker\": {\"color\": \"#636efa\", \"symbol\": \"square\"}, \"mode\": \"markers\", \"name\": \"ticker=IAU\", \"showlegend\": true, \"type\": \"scatter\", \"x\": [-0.1254825622300826], \"xaxis\": \"x\", \"y\": [0.0004915748529360329], \"yaxis\": \"y\"}, {\"hoverlabel\": {\"namelength\": 0}, \"hovertemplate\": \"ticker=IEF<br>beta=%{x}<br>alpha=%{y}\", \"legendgroup\": \"ticker=IEF\", \"marker\": {\"color\": \"#636efa\", \"symbol\": \"x\"}, \"mode\": \"markers\", \"name\": \"ticker=IEF\", \"showlegend\": true, \"type\": \"scatter\", \"x\": [-0.8799387155656063], \"xaxis\": \"x\", \"y\": [0.000597139384121413], \"yaxis\": \"y\"}, {\"hoverlabel\": {\"namelength\": 0}, \"hovertemplate\": \"ticker=IEFA<br>beta=%{x}<br>alpha=%{y}\", \"legendgroup\": \"ticker=IEFA\", \"marker\": {\"color\": \"#636efa\", \"symbol\": \"cross\"}, \"mode\": \"markers\", \"name\": \"ticker=IEFA\", \"showlegend\": true, \"type\": \"scatter\", \"x\": [0.7727344389777081], \"xaxis\": \"x\", \"y\": [0.0003033873397210184], \"yaxis\": \"y\"}, {\"hoverlabel\": {\"namelength\": 0}, \"hovertemplate\": \"ticker=IEMG<br>beta=%{x}<br>alpha=%{y}\", \"legendgroup\": \"ticker=IEMG\", \"marker\": {\"color\": \"#636efa\", \"symbol\": \"circle\"}, \"mode\": \"markers\", \"name\": \"ticker=IEMG\", \"showlegend\": true, \"type\": \"scatter\", \"x\": [0.5414773809064471], \"xaxis\": \"x\", \"y\": [0.0003633879323746856], \"yaxis\": \"y\"}, {\"hoverlabel\": {\"namelength\": 0}, \"hovertemplate\": \"ticker=IGSB<br>beta=%{x}<br>alpha=%{y}\", \"legendgroup\": \"ticker=IGSB\", \"marker\": {\"color\": \"#636efa\", \"symbol\": \"diamond\"}, \"mode\": \"markers\", \"name\": \"ticker=IGSB\", \"showlegend\": true, \"type\": \"scatter\", \"x\": [-0.6505511131032443], \"xaxis\": \"x\", \"y\": [0.0005295965168305005], \"yaxis\": \"y\"}, {\"hoverlabel\": {\"namelength\": 0}, \"hovertemplate\": \"ticker=IJH<br>beta=%{x}<br>alpha=%{y}\", \"legendgroup\": \"ticker=IJH\", \"marker\": {\"color\": \"#636efa\", \"symbol\": \"square\"}, \"mode\": \"markers\", \"name\": \"ticker=IJH\", \"showlegend\": true, \"type\": \"scatter\", \"x\": [0.8499969912483823], \"xaxis\": \"x\", \"y\": [0.00013753720763245596], \"yaxis\": \"y\"}, {\"hoverlabel\": {\"namelength\": 0}, \"hovertemplate\": \"ticker=IJR<br>beta=%{x}<br>alpha=%{y}\", \"legendgroup\": \"ticker=IJR\", \"marker\": {\"color\": \"#636efa\", \"symbol\": \"x\"}, \"mode\": \"markers\", \"name\": \"ticker=IJR\", \"showlegend\": true, \"type\": \"scatter\", \"x\": [0.6989333808006776], \"xaxis\": \"x\", \"y\": [0.0001855050169237771], \"yaxis\": \"y\"}, {\"hoverlabel\": {\"namelength\": 0}, \"hovertemplate\": \"ticker=ITOT<br>beta=%{x}<br>alpha=%{y}\", \"legendgroup\": \"ticker=ITOT\", \"marker\": {\"color\": \"#636efa\", \"symbol\": \"cross\"}, \"mode\": \"markers\", \"name\": \"ticker=ITOT\", \"showlegend\": true, \"type\": \"scatter\", \"x\": [0.9920089860438438], \"xaxis\": \"x\", \"y\": [7.928144314694275e-06], \"yaxis\": \"y\"}, {\"hoverlabel\": {\"namelength\": 0}, \"hovertemplate\": \"ticker=IVE<br>beta=%{x}<br>alpha=%{y}\", \"legendgroup\": \"ticker=IVE\", \"marker\": {\"color\": \"#636efa\", \"symbol\": \"circle\"}, \"mode\": \"markers\", \"name\": \"ticker=IVE\", \"showlegend\": true, \"type\": \"scatter\", \"x\": [0.9906271457410856], \"xaxis\": \"x\", \"y\": [0.00010681767305973938], \"yaxis\": \"y\"}, {\"hoverlabel\": {\"namelength\": 0}, \"hovertemplate\": \"ticker=IVV<br>beta=%{x}<br>alpha=%{y}\", \"legendgroup\": \"ticker=IVV\", \"marker\": {\"color\": \"#636efa\", \"symbol\": \"diamond\"}, \"mode\": \"markers\", \"name\": \"ticker=IVV\", \"showlegend\": true, \"type\": \"scatter\", \"x\": [0.9973083648556519], \"xaxis\": \"x\", \"y\": [-1.342934606275902e-06], \"yaxis\": \"y\"}, {\"hoverlabel\": {\"namelength\": 0}, \"hovertemplate\": \"ticker=IVW<br>beta=%{x}<br>alpha=%{y}\", \"legendgroup\": \"ticker=IVW\", \"marker\": {\"color\": \"#636efa\", \"symbol\": \"square\"}, \"mode\": \"markers\", \"name\": \"ticker=IVW\", \"showlegend\": true, \"type\": \"scatter\", \"x\": [0.9106128465188931], \"xaxis\": \"x\", \"y\": [-3.609567420756819e-05], \"yaxis\": \"y\"}, {\"hoverlabel\": {\"namelength\": 0}, \"hovertemplate\": \"ticker=IWB<br>beta=%{x}<br>alpha=%{y}\", \"legendgroup\": \"ticker=IWB\", \"marker\": {\"color\": \"#636efa\", \"symbol\": \"x\"}, \"mode\": \"markers\", \"name\": \"ticker=IWB\", \"showlegend\": true, \"type\": \"scatter\", \"x\": [0.9963660043851458], \"xaxis\": \"x\", \"y\": [6.7828222443693075e-06], \"yaxis\": \"y\"}, {\"hoverlabel\": {\"namelength\": 0}, \"hovertemplate\": \"ticker=IWD<br>beta=%{x}<br>alpha=%{y}\", \"legendgroup\": \"ticker=IWD\", \"marker\": {\"color\": \"#636efa\", \"symbol\": \"cross\"}, \"mode\": \"markers\", \"name\": \"ticker=IWD\", \"showlegend\": true, \"type\": \"scatter\", \"x\": [0.9994692530170887], \"xaxis\": \"x\", \"y\": [0.00011041285649505378], \"yaxis\": \"y\"}, {\"hoverlabel\": {\"namelength\": 0}, \"hovertemplate\": \"ticker=IWF<br>beta=%{x}<br>alpha=%{y}\", \"legendgroup\": \"ticker=IWF\", \"marker\": {\"color\": \"#636efa\", \"symbol\": \"circle\"}, \"mode\": \"markers\", \"name\": \"ticker=IWF\", \"showlegend\": true, \"type\": \"scatter\", \"x\": [0.8974970743581898], \"xaxis\": \"x\", \"y\": [-3.4759451923117374e-05], \"yaxis\": \"y\"}, {\"hoverlabel\": {\"namelength\": 0}, \"hovertemplate\": \"ticker=IWM<br>beta=%{x}<br>alpha=%{y}\", \"legendgroup\": \"ticker=IWM\", \"marker\": {\"color\": \"#636efa\", \"symbol\": \"diamond\"}, \"mode\": \"markers\", \"name\": \"ticker=IWM\", \"showlegend\": true, \"type\": \"scatter\", \"x\": [0.6924608872089206], \"xaxis\": \"x\", \"y\": [0.0002219155832098175], \"yaxis\": \"y\"}, {\"hoverlabel\": {\"namelength\": 0}, \"hovertemplate\": \"ticker=IWN<br>beta=%{x}<br>alpha=%{y}\", \"legendgroup\": \"ticker=IWN\", \"marker\": {\"color\": \"#636efa\", \"symbol\": \"square\"}, \"mode\": \"markers\", \"name\": \"ticker=IWN\", \"showlegend\": true, \"type\": \"scatter\", \"x\": [0.7184705009037402], \"xaxis\": \"x\", \"y\": [0.0002632234641293635], \"yaxis\": \"y\"}, {\"hoverlabel\": {\"namelength\": 0}, \"hovertemplate\": \"ticker=IWO<br>beta=%{x}<br>alpha=%{y}\", \"legendgroup\": \"ticker=IWO\", \"marker\": {\"color\": \"#636efa\", \"symbol\": \"x\"}, \"mode\": \"markers\", \"name\": \"ticker=IWO\", \"showlegend\": true, \"type\": \"scatter\", \"x\": [0.6183369787194875], \"xaxis\": \"x\", \"y\": [0.00020906824866276477], \"yaxis\": \"y\"}, {\"hoverlabel\": {\"namelength\": 0}, \"hovertemplate\": \"ticker=IWP<br>beta=%{x}<br>alpha=%{y}\", \"legendgroup\": \"ticker=IWP\", \"marker\": {\"color\": \"#636efa\", \"symbol\": \"cross\"}, \"mode\": \"markers\", \"name\": \"ticker=IWP\", \"showlegend\": true, \"type\": \"scatter\", \"x\": [0.8464655979183489], \"xaxis\": \"x\", \"y\": [5.66345033782523e-05], \"yaxis\": \"y\"}, {\"hoverlabel\": {\"namelength\": 0}, \"hovertemplate\": \"ticker=IWR<br>beta=%{x}<br>alpha=%{y}\", \"legendgroup\": \"ticker=IWR\", \"marker\": {\"color\": \"#636efa\", \"symbol\": \"circle\"}, \"mode\": \"markers\", \"name\": \"ticker=IWR\", \"showlegend\": true, \"type\": \"scatter\", \"x\": [0.933860444065982], \"xaxis\": \"x\", \"y\": [8.263835608843436e-05], \"yaxis\": \"y\"}, {\"hoverlabel\": {\"namelength\": 0}, \"hovertemplate\": \"ticker=IWS<br>beta=%{x}<br>alpha=%{y}\", \"legendgroup\": \"ticker=IWS\", \"marker\": {\"color\": \"#636efa\", \"symbol\": \"diamond\"}, \"mode\": \"markers\", \"name\": \"ticker=IWS\", \"showlegend\": true, \"type\": \"scatter\", \"x\": [0.9403444460875673], \"xaxis\": \"x\", \"y\": [0.00013285739281184054], \"yaxis\": \"y\"}, {\"hoverlabel\": {\"namelength\": 0}, \"hovertemplate\": \"ticker=IWV<br>beta=%{x}<br>alpha=%{y}\", \"legendgroup\": \"ticker=IWV\", \"marker\": {\"color\": \"#636efa\", \"symbol\": \"square\"}, \"mode\": \"markers\", \"name\": \"ticker=IWV\", \"showlegend\": true, \"type\": \"scatter\", \"x\": [0.9849024912984629], \"xaxis\": \"x\", \"y\": [2.3124024788971037e-05], \"yaxis\": \"y\"}, {\"hoverlabel\": {\"namelength\": 0}, \"hovertemplate\": \"ticker=IXUS<br>beta=%{x}<br>alpha=%{y}\", \"legendgroup\": \"ticker=IXUS\", \"marker\": {\"color\": \"#636efa\", \"symbol\": \"x\"}, \"mode\": \"markers\", \"name\": \"ticker=IXUS\", \"showlegend\": true, \"type\": \"scatter\", \"x\": [0.7736607476605013], \"xaxis\": \"x\", \"y\": [0.00031300077947898485], \"yaxis\": \"y\"}, {\"hoverlabel\": {\"namelength\": 0}, \"hovertemplate\": \"ticker=JNK<br>beta=%{x}<br>alpha=%{y}\", \"legendgroup\": \"ticker=JNK\", \"marker\": {\"color\": \"#636efa\", \"symbol\": \"cross\"}, \"mode\": \"markers\", \"name\": \"ticker=JNK\", \"showlegend\": true, \"type\": \"scatter\", \"x\": [1.519589814228377], \"xaxis\": \"x\", \"y\": [0.00023237905804166097], \"yaxis\": \"y\"}, {\"hoverlabel\": {\"namelength\": 0}, \"hovertemplate\": \"ticker=LQD<br>beta=%{x}<br>alpha=%{y}\", \"legendgroup\": \"ticker=LQD\", \"marker\": {\"color\": \"#636efa\", \"symbol\": \"circle\"}, \"mode\": \"markers\", \"name\": \"ticker=LQD\", \"showlegend\": true, \"type\": \"scatter\", \"x\": [-0.09068056448675071], \"xaxis\": \"x\", \"y\": [0.0004978827417940075], \"yaxis\": \"y\"}, {\"hoverlabel\": {\"namelength\": 0}, \"hovertemplate\": \"ticker=MBB<br>beta=%{x}<br>alpha=%{y}\", \"legendgroup\": \"ticker=MBB\", \"marker\": {\"color\": \"#636efa\", \"symbol\": \"diamond\"}, \"mode\": \"markers\", \"name\": \"ticker=MBB\", \"showlegend\": true, \"type\": \"scatter\", \"x\": [-0.9842100253753071], \"xaxis\": \"x\", \"y\": [0.000588773422953509], \"yaxis\": \"y\"}, {\"hoverlabel\": {\"namelength\": 0}, \"hovertemplate\": \"ticker=MDY<br>beta=%{x}<br>alpha=%{y}\", \"legendgroup\": \"ticker=MDY\", \"marker\": {\"color\": \"#636efa\", \"symbol\": \"square\"}, \"mode\": \"markers\", \"name\": \"ticker=MDY\", \"showlegend\": true, \"type\": \"scatter\", \"x\": [0.844716461702981], \"xaxis\": \"x\", \"y\": [0.0001456746377234316], \"yaxis\": \"y\"}, {\"hoverlabel\": {\"namelength\": 0}, \"hovertemplate\": \"ticker=MINT<br>beta=%{x}<br>alpha=%{y}\", \"legendgroup\": \"ticker=MINT\", \"marker\": {\"color\": \"#636efa\", \"symbol\": \"x\"}, \"mode\": \"markers\", \"name\": \"ticker=MINT\", \"showlegend\": true, \"type\": \"scatter\", \"x\": [-3.4468636200317317], \"xaxis\": \"x\", \"y\": [0.0006870983476889352], \"yaxis\": \"y\"}, {\"hoverlabel\": {\"namelength\": 0}, \"hovertemplate\": \"ticker=MTUM<br>beta=%{x}<br>alpha=%{y}\", \"legendgroup\": \"ticker=MTUM\", \"marker\": {\"color\": \"#636efa\", \"symbol\": \"cross\"}, \"mode\": \"markers\", \"name\": \"ticker=MTUM\", \"showlegend\": true, \"type\": \"scatter\", \"x\": [0.8109013672111466], \"xaxis\": \"x\", \"y\": [-1.9956761203453775e-05], \"yaxis\": \"y\"}, {\"hoverlabel\": {\"namelength\": 0}, \"hovertemplate\": \"ticker=MUB<br>beta=%{x}<br>alpha=%{y}\", \"legendgroup\": \"ticker=MUB\", \"marker\": {\"color\": \"#636efa\", \"symbol\": \"circle\"}, \"mode\": \"markers\", \"name\": \"ticker=MUB\", \"showlegend\": true, \"type\": \"scatter\", \"x\": [-0.8891506210938083], \"xaxis\": \"x\", \"y\": [0.000613433192069112], \"yaxis\": \"y\"}, {\"hoverlabel\": {\"namelength\": 0}, \"hovertemplate\": \"ticker=PFF<br>beta=%{x}<br>alpha=%{y}\", \"legendgroup\": \"ticker=PFF\", \"marker\": {\"color\": \"#636efa\", \"symbol\": \"diamond\"}, \"mode\": \"markers\", \"name\": \"ticker=PFF\", \"showlegend\": true, \"type\": \"scatter\", \"x\": [1.203741530573868], \"xaxis\": \"x\", \"y\": [0.0002375697566548854], \"yaxis\": \"y\"}, {\"hoverlabel\": {\"namelength\": 0}, \"hovertemplate\": \"ticker=QQQ<br>beta=%{x}<br>alpha=%{y}\", \"legendgroup\": \"ticker=QQQ\", \"marker\": {\"color\": \"#636efa\", \"symbol\": \"square\"}, \"mode\": \"markers\", \"name\": \"ticker=QQQ\", \"showlegend\": true, \"type\": \"scatter\", \"x\": [0.724938502515342], \"xaxis\": \"x\", \"y\": [-2.8748093844812157e-05], \"yaxis\": \"y\"}, {\"hoverlabel\": {\"namelength\": 0}, \"hovertemplate\": \"ticker=QUAL<br>beta=%{x}<br>alpha=%{y}\", \"legendgroup\": \"ticker=QUAL\", \"marker\": {\"color\": \"#636efa\", \"symbol\": \"x\"}, \"mode\": \"markers\", \"name\": \"ticker=QUAL\", \"showlegend\": true, \"type\": \"scatter\", \"x\": [0.9802269260407792], \"xaxis\": \"x\", \"y\": [-9.88148883305082e-06], \"yaxis\": \"y\"}, {\"hoverlabel\": {\"namelength\": 0}, \"hovertemplate\": \"ticker=RSP<br>beta=%{x}<br>alpha=%{y}\", \"legendgroup\": \"ticker=RSP\", \"marker\": {\"color\": \"#636efa\", \"symbol\": \"cross\"}, \"mode\": \"markers\", \"name\": \"ticker=RSP\", \"showlegend\": true, \"type\": \"scatter\", \"x\": [0.965102616150071], \"xaxis\": \"x\", \"y\": [5.7632738033396305e-05], \"yaxis\": \"y\"}, {\"hoverlabel\": {\"namelength\": 0}, \"hovertemplate\": \"ticker=SCHB<br>beta=%{x}<br>alpha=%{y}\", \"legendgroup\": \"ticker=SCHB\", \"marker\": {\"color\": \"#636efa\", \"symbol\": \"circle\"}, \"mode\": \"markers\", \"name\": \"ticker=SCHB\", \"showlegend\": true, \"type\": \"scatter\", \"x\": [0.9925241720269045], \"xaxis\": \"x\", \"y\": [1.4198170847262146e-05], \"yaxis\": \"y\"}, {\"hoverlabel\": {\"namelength\": 0}, \"hovertemplate\": \"ticker=SCHD<br>beta=%{x}<br>alpha=%{y}\", \"legendgroup\": \"ticker=SCHD\", \"marker\": {\"color\": \"#636efa\", \"symbol\": \"diamond\"}, \"mode\": \"markers\", \"name\": \"ticker=SCHD\", \"showlegend\": true, \"type\": \"scatter\", \"x\": [1.031939867095183], \"xaxis\": \"x\", \"y\": [3.07569231304379e-05], \"yaxis\": \"y\"}, {\"hoverlabel\": {\"namelength\": 0}, \"hovertemplate\": \"ticker=SCHF<br>beta=%{x}<br>alpha=%{y}\", \"legendgroup\": \"ticker=SCHF\", \"marker\": {\"color\": \"#636efa\", \"symbol\": \"square\"}, \"mode\": \"markers\", \"name\": \"ticker=SCHF\", \"showlegend\": true, \"type\": \"scatter\", \"x\": [0.7954860628695898], \"xaxis\": \"x\", \"y\": [0.00031123866041252065], \"yaxis\": \"y\"}, {\"hoverlabel\": {\"namelength\": 0}, \"hovertemplate\": \"ticker=SCHX<br>beta=%{x}<br>alpha=%{y}\", \"legendgroup\": \"ticker=SCHX\", \"marker\": {\"color\": \"#636efa\", \"symbol\": \"x\"}, \"mode\": \"markers\", \"name\": \"ticker=SCHX\", \"showlegend\": true, \"type\": \"scatter\", \"x\": [1.0040375835743243], \"xaxis\": \"x\", \"y\": [-1.972969520824115e-06], \"yaxis\": \"y\"}, {\"hoverlabel\": {\"namelength\": 0}, \"hovertemplate\": \"ticker=SCZ<br>beta=%{x}<br>alpha=%{y}\", \"legendgroup\": \"ticker=SCZ\", \"marker\": {\"color\": \"#636efa\", \"symbol\": \"cross\"}, \"mode\": \"markers\", \"name\": \"ticker=SCZ\", \"showlegend\": true, \"type\": \"scatter\", \"x\": [0.7709858620181617], \"xaxis\": \"x\", \"y\": [0.0002494953691664188], \"yaxis\": \"y\"}, {\"hoverlabel\": {\"namelength\": 0}, \"hovertemplate\": \"ticker=SDY<br>beta=%{x}<br>alpha=%{y}\", \"legendgroup\": \"ticker=SDY\", \"marker\": {\"color\": \"#636efa\", \"symbol\": \"circle\"}, \"mode\": \"markers\", \"name\": \"ticker=SDY\", \"showlegend\": true, \"type\": \"scatter\", \"x\": [1.0412649324617902], \"xaxis\": \"x\", \"y\": [1.94510644923286e-05], \"yaxis\": \"y\"}, {\"hoverlabel\": {\"namelength\": 0}, \"hovertemplate\": \"ticker=SHV<br>beta=%{x}<br>alpha=%{y}\", \"legendgroup\": \"ticker=SHV\", \"marker\": {\"color\": \"#636efa\", \"symbol\": \"diamond\"}, \"mode\": \"markers\", \"name\": \"ticker=SHV\", \"showlegend\": true, \"type\": \"scatter\", \"x\": [-6.310886195832953], \"xaxis\": \"x\", \"y\": [0.0006529788516797681], \"yaxis\": \"y\"}, {\"hoverlabel\": {\"namelength\": 0}, \"hovertemplate\": \"ticker=SHY<br>beta=%{x}<br>alpha=%{y}\", \"legendgroup\": \"ticker=SHY\", \"marker\": {\"color\": \"#636efa\", \"symbol\": \"square\"}, \"mode\": \"markers\", \"name\": \"ticker=SHY\", \"showlegend\": true, \"type\": \"scatter\", \"x\": [-4.399361131789906], \"xaxis\": \"x\", \"y\": [0.0006542882139641942], \"yaxis\": \"y\"}, {\"hoverlabel\": {\"namelength\": 0}, \"hovertemplate\": \"ticker=SPLV<br>beta=%{x}<br>alpha=%{y}\", \"legendgroup\": \"ticker=SPLV\", \"marker\": {\"color\": \"#636efa\", \"symbol\": \"x\"}, \"mode\": \"markers\", \"name\": \"ticker=SPLV\", \"showlegend\": true, \"type\": \"scatter\", \"x\": [0.9826500134310514], \"xaxis\": \"x\", \"y\": [2.27183207049127e-05], \"yaxis\": \"y\"}, {\"hoverlabel\": {\"namelength\": 0}, \"hovertemplate\": \"ticker=TIP<br>beta=%{x}<br>alpha=%{y}\", \"legendgroup\": \"ticker=TIP\", \"marker\": {\"color\": \"#636efa\", \"symbol\": \"cross\"}, \"mode\": \"markers\", \"name\": \"ticker=TIP\", \"showlegend\": true, \"type\": \"scatter\", \"x\": [-0.48320251280972354], \"xaxis\": \"x\", \"y\": [0.000519178285599981], \"yaxis\": \"y\"}, {\"hoverlabel\": {\"namelength\": 0}, \"hovertemplate\": \"ticker=TLT<br>beta=%{x}<br>alpha=%{y}\", \"legendgroup\": \"ticker=TLT\", \"marker\": {\"color\": \"#636efa\", \"symbol\": \"circle\"}, \"mode\": \"markers\", \"name\": \"ticker=TLT\", \"showlegend\": true, \"type\": \"scatter\", \"x\": [-0.3683143513658221], \"xaxis\": \"x\", \"y\": [0.0005809239735601992], \"yaxis\": \"y\"}, {\"hoverlabel\": {\"namelength\": 0}, \"hovertemplate\": \"ticker=USMV<br>beta=%{x}<br>alpha=%{y}\", \"legendgroup\": \"ticker=USMV\", \"marker\": {\"color\": \"#636efa\", \"symbol\": \"diamond\"}, \"mode\": \"markers\", \"name\": \"ticker=USMV\", \"showlegend\": true, \"type\": \"scatter\", \"x\": [1.1438565008148245], \"xaxis\": \"x\", \"y\": [-9.515510658963651e-05], \"yaxis\": \"y\"}, {\"hoverlabel\": {\"namelength\": 0}, \"hovertemplate\": \"ticker=VB<br>beta=%{x}<br>alpha=%{y}\", \"legendgroup\": \"ticker=VB\", \"marker\": {\"color\": \"#636efa\", \"symbol\": \"square\"}, \"mode\": \"markers\", \"name\": \"ticker=VB\", \"showlegend\": true, \"type\": \"scatter\", \"x\": [0.7945000487216317], \"xaxis\": \"x\", \"y\": [0.0001594256776056651], \"yaxis\": \"y\"}, {\"hoverlabel\": {\"namelength\": 0}, \"hovertemplate\": \"ticker=VBK<br>beta=%{x}<br>alpha=%{y}\", \"legendgroup\": \"ticker=VBK\", \"marker\": {\"color\": \"#636efa\", \"symbol\": \"x\"}, \"mode\": \"markers\", \"name\": \"ticker=VBK\", \"showlegend\": true, \"type\": \"scatter\", \"x\": [0.7218661976949285], \"xaxis\": \"x\", \"y\": [0.00016387192643255456], \"yaxis\": \"y\"}, {\"hoverlabel\": {\"namelength\": 0}, \"hovertemplate\": \"ticker=VBR<br>beta=%{x}<br>alpha=%{y}\", \"legendgroup\": \"ticker=VBR\", \"marker\": {\"color\": \"#636efa\", \"symbol\": \"cross\"}, \"mode\": \"markers\", \"name\": \"ticker=VBR\", \"showlegend\": true, \"type\": \"scatter\", \"x\": [0.8162276224500105], \"xaxis\": \"x\", \"y\": [0.0001733060523311077], \"yaxis\": \"y\"}, {\"hoverlabel\": {\"namelength\": 0}, \"hovertemplate\": \"ticker=VCIT<br>beta=%{x}<br>alpha=%{y}\", \"legendgroup\": \"ticker=VCIT\", \"marker\": {\"color\": \"#636efa\", \"symbol\": \"circle\"}, \"mode\": \"markers\", \"name\": \"ticker=VCIT\", \"showlegend\": true, \"type\": \"scatter\", \"x\": [-0.3447286042835326], \"xaxis\": \"x\", \"y\": [0.0005436299895029066], \"yaxis\": \"y\"}, {\"hoverlabel\": {\"namelength\": 0}, \"hovertemplate\": \"ticker=VCSH<br>beta=%{x}<br>alpha=%{y}\", \"legendgroup\": \"ticker=VCSH\", \"marker\": {\"color\": \"#636efa\", \"symbol\": \"diamond\"}, \"mode\": \"markers\", \"name\": \"ticker=VCSH\", \"showlegend\": true, \"type\": \"scatter\", \"x\": [-0.485992157779448], \"xaxis\": \"x\", \"y\": [0.0005277539320296445], \"yaxis\": \"y\"}, {\"hoverlabel\": {\"namelength\": 0}, \"hovertemplate\": \"ticker=VEA<br>beta=%{x}<br>alpha=%{y}\", \"legendgroup\": \"ticker=VEA\", \"marker\": {\"color\": \"#636efa\", \"symbol\": \"square\"}, \"mode\": \"markers\", \"name\": \"ticker=VEA\", \"showlegend\": true, \"type\": \"scatter\", \"x\": [0.7794850223868672], \"xaxis\": \"x\", \"y\": [0.0003062238469332669], \"yaxis\": \"y\"}, {\"hoverlabel\": {\"namelength\": 0}, \"hovertemplate\": \"ticker=VEU<br>beta=%{x}<br>alpha=%{y}\", \"legendgroup\": \"ticker=VEU\", \"marker\": {\"color\": \"#636efa\", \"symbol\": \"x\"}, \"mode\": \"markers\", \"name\": \"ticker=VEU\", \"showlegend\": true, \"type\": \"scatter\", \"x\": [0.7719636539351349], \"xaxis\": \"x\", \"y\": [0.0003128115176127153], \"yaxis\": \"y\"}, {\"hoverlabel\": {\"namelength\": 0}, \"hovertemplate\": \"ticker=VGK<br>beta=%{x}<br>alpha=%{y}\", \"legendgroup\": \"ticker=VGK\", \"marker\": {\"color\": \"#636efa\", \"symbol\": \"cross\"}, \"mode\": \"markers\", \"name\": \"ticker=VGK\", \"showlegend\": true, \"type\": \"scatter\", \"x\": [0.6566303219137797], \"xaxis\": \"x\", \"y\": [0.00032883997350709204], \"yaxis\": \"y\"}, {\"hoverlabel\": {\"namelength\": 0}, \"hovertemplate\": \"ticker=VGT<br>beta=%{x}<br>alpha=%{y}\", \"legendgroup\": \"ticker=VGT\", \"marker\": {\"color\": \"#636efa\", \"symbol\": \"circle\"}, \"mode\": \"markers\", \"name\": \"ticker=VGT\", \"showlegend\": true, \"type\": \"scatter\", \"x\": [0.6986597286276499], \"xaxis\": \"x\", \"y\": [-5.982856572075813e-05], \"yaxis\": \"y\"}, {\"hoverlabel\": {\"namelength\": 0}, \"hovertemplate\": \"ticker=VHT<br>beta=%{x}<br>alpha=%{y}\", \"legendgroup\": \"ticker=VHT\", \"marker\": {\"color\": \"#636efa\", \"symbol\": \"diamond\"}, \"mode\": \"markers\", \"name\": \"ticker=VHT\", \"showlegend\": true, \"type\": \"scatter\", \"x\": [0.7149403354163536], \"xaxis\": \"x\", \"y\": [9.631691052043508e-05], \"yaxis\": \"y\"}, {\"hoverlabel\": {\"namelength\": 0}, \"hovertemplate\": \"ticker=VIG<br>beta=%{x}<br>alpha=%{y}\", \"legendgroup\": \"ticker=VIG\", \"marker\": {\"color\": \"#636efa\", \"symbol\": \"square\"}, \"mode\": \"markers\", \"name\": \"ticker=VIG\", \"showlegend\": true, \"type\": \"scatter\", \"x\": [1.0401691948845904], \"xaxis\": \"x\", \"y\": [1.4974745489325967e-05], \"yaxis\": \"y\"}, {\"hoverlabel\": {\"namelength\": 0}, \"hovertemplate\": \"ticker=VMBS<br>beta=%{x}<br>alpha=%{y}\", \"legendgroup\": \"ticker=VMBS\", \"marker\": {\"color\": \"#636efa\", \"symbol\": \"x\"}, \"mode\": \"markers\", \"name\": \"ticker=VMBS\", \"showlegend\": true, \"type\": \"scatter\", \"x\": [-1.0423454873951514], \"xaxis\": \"x\", \"y\": [0.0005966958925128736], \"yaxis\": \"y\"}, {\"hoverlabel\": {\"namelength\": 0}, \"hovertemplate\": \"ticker=VNQ<br>beta=%{x}<br>alpha=%{y}\", \"legendgroup\": \"ticker=VNQ\", \"marker\": {\"color\": \"#636efa\", \"symbol\": \"cross\"}, \"mode\": \"markers\", \"name\": \"ticker=VNQ\", \"showlegend\": true, \"type\": \"scatter\", \"x\": [0.5023294632073666], \"xaxis\": \"x\", \"y\": [0.0003107310108070087], \"yaxis\": \"y\"}, {\"hoverlabel\": {\"namelength\": 0}, \"hovertemplate\": \"ticker=VO<br>beta=%{x}<br>alpha=%{y}\", \"legendgroup\": \"ticker=VO\", \"marker\": {\"color\": \"#636efa\", \"symbol\": \"circle\"}, \"mode\": \"markers\", \"name\": \"ticker=VO\", \"showlegend\": true, \"type\": \"scatter\", \"x\": [0.9042764383514917], \"xaxis\": \"x\", \"y\": [8.285232417778427e-05], \"yaxis\": \"y\"}, {\"hoverlabel\": {\"namelength\": 0}, \"hovertemplate\": \"ticker=VOE<br>beta=%{x}<br>alpha=%{y}\", \"legendgroup\": \"ticker=VOE\", \"marker\": {\"color\": \"#636efa\", \"symbol\": \"diamond\"}, \"mode\": \"markers\", \"name\": \"ticker=VOE\", \"showlegend\": true, \"type\": \"scatter\", \"x\": [0.9367069388862086], \"xaxis\": \"x\", \"y\": [0.00010446225309330919], \"yaxis\": \"y\"}, {\"hoverlabel\": {\"namelength\": 0}, \"hovertemplate\": \"ticker=VOO<br>beta=%{x}<br>alpha=%{y}\", \"legendgroup\": \"ticker=VOO\", \"marker\": {\"color\": \"#636efa\", \"symbol\": \"square\"}, \"mode\": \"markers\", \"name\": \"ticker=VOO\", \"showlegend\": true, \"type\": \"scatter\", \"x\": [0.9969782587242212], \"xaxis\": \"x\", \"y\": [-1.8768168455909113e-06], \"yaxis\": \"y\"}, {\"hoverlabel\": {\"namelength\": 0}, \"hovertemplate\": \"ticker=VT<br>beta=%{x}<br>alpha=%{y}\", \"legendgroup\": \"ticker=VT\", \"marker\": {\"color\": \"#636efa\", \"symbol\": \"x\"}, \"mode\": \"markers\", \"name\": \"ticker=VT\", \"showlegend\": true, \"type\": \"scatter\", \"x\": [0.9523544274722743], \"xaxis\": \"x\", \"y\": [0.00015335664468197266], \"yaxis\": \"y\"}, {\"hoverlabel\": {\"namelength\": 0}, \"hovertemplate\": \"ticker=VTI<br>beta=%{x}<br>alpha=%{y}\", \"legendgroup\": \"ticker=VTI\", \"marker\": {\"color\": \"#636efa\", \"symbol\": \"cross\"}, \"mode\": \"markers\", \"name\": \"ticker=VTI\", \"showlegend\": true, \"type\": \"scatter\", \"x\": [0.9881951512136123], \"xaxis\": \"x\", \"y\": [1.4658919201457708e-05], \"yaxis\": \"y\"}, {\"hoverlabel\": {\"namelength\": 0}, \"hovertemplate\": \"ticker=VTV<br>beta=%{x}<br>alpha=%{y}\", \"legendgroup\": \"ticker=VTV\", \"marker\": {\"color\": \"#636efa\", \"symbol\": \"circle\"}, \"mode\": \"markers\", \"name\": \"ticker=VTV\", \"showlegend\": true, \"type\": \"scatter\", \"x\": [1.0081268682836784], \"xaxis\": \"x\", \"y\": [5.484190833394182e-05], \"yaxis\": \"y\"}, {\"hoverlabel\": {\"namelength\": 0}, \"hovertemplate\": \"ticker=VUG<br>beta=%{x}<br>alpha=%{y}\", \"legendgroup\": \"ticker=VUG\", \"marker\": {\"color\": \"#636efa\", \"symbol\": \"diamond\"}, \"mode\": \"markers\", \"name\": \"ticker=VUG\", \"showlegend\": true, \"type\": \"scatter\", \"x\": [0.8733577913514424], \"xaxis\": \"x\", \"y\": [2.6320225545344984e-06], \"yaxis\": \"y\"}, {\"hoverlabel\": {\"namelength\": 0}, \"hovertemplate\": \"ticker=VV<br>beta=%{x}<br>alpha=%{y}\", \"legendgroup\": \"ticker=VV\", \"marker\": {\"color\": \"#636efa\", \"symbol\": \"square\"}, \"mode\": \"markers\", \"name\": \"ticker=VV\", \"showlegend\": true, \"type\": \"scatter\", \"x\": [0.9983245887417281], \"xaxis\": \"x\", \"y\": [-7.377263659281547e-07], \"yaxis\": \"y\"}, {\"hoverlabel\": {\"namelength\": 0}, \"hovertemplate\": \"ticker=VWO<br>beta=%{x}<br>alpha=%{y}\", \"legendgroup\": \"ticker=VWO\", \"marker\": {\"color\": \"#636efa\", \"symbol\": \"x\"}, \"mode\": \"markers\", \"name\": \"ticker=VWO\", \"showlegend\": true, \"type\": \"scatter\", \"x\": [0.52348368495331], \"xaxis\": \"x\", \"y\": [0.0003671552419658857], \"yaxis\": \"y\"}, {\"hoverlabel\": {\"namelength\": 0}, \"hovertemplate\": \"ticker=VXUS<br>beta=%{x}<br>alpha=%{y}\", \"legendgroup\": \"ticker=VXUS\", \"marker\": {\"color\": \"#636efa\", \"symbol\": \"cross\"}, \"mode\": \"markers\", \"name\": \"ticker=VXUS\", \"showlegend\": true, \"type\": \"scatter\", \"x\": [0.7627255257523072], \"xaxis\": \"x\", \"y\": [0.0003196922127516126], \"yaxis\": \"y\"}, {\"hoverlabel\": {\"namelength\": 0}, \"hovertemplate\": \"ticker=VYM<br>beta=%{x}<br>alpha=%{y}\", \"legendgroup\": \"ticker=VYM\", \"marker\": {\"color\": \"#636efa\", \"symbol\": \"circle\"}, \"mode\": \"markers\", \"name\": \"ticker=VYM\", \"showlegend\": true, \"type\": \"scatter\", \"x\": [1.0505290544620132], \"xaxis\": \"x\", \"y\": [5.1393875399566835e-05], \"yaxis\": \"y\"}, {\"hoverlabel\": {\"namelength\": 0}, \"hovertemplate\": \"ticker=XLE<br>beta=%{x}<br>alpha=%{y}\", \"legendgroup\": \"ticker=XLE\", \"marker\": {\"color\": \"#636efa\", \"symbol\": \"diamond\"}, \"mode\": \"markers\", \"name\": \"ticker=XLE\", \"showlegend\": true, \"type\": \"scatter\", \"x\": [0.4425276519223913], \"xaxis\": \"x\", \"y\": [0.00047190040923350486], \"yaxis\": \"y\"}, {\"hoverlabel\": {\"namelength\": 0}, \"hovertemplate\": \"ticker=XLF<br>beta=%{x}<br>alpha=%{y}\", \"legendgroup\": \"ticker=XLF\", \"marker\": {\"color\": \"#636efa\", \"symbol\": \"square\"}, \"mode\": \"markers\", \"name\": \"ticker=XLF\", \"showlegend\": true, \"type\": \"scatter\", \"x\": [0.42427074866159026], \"xaxis\": \"x\", \"y\": [0.00019732155756384576], \"yaxis\": \"y\"}, {\"hoverlabel\": {\"namelength\": 0}, \"hovertemplate\": \"ticker=XLI<br>beta=%{x}<br>alpha=%{y}\", \"legendgroup\": \"ticker=XLI\", \"marker\": {\"color\": \"#636efa\", \"symbol\": \"x\"}, \"mode\": \"markers\", \"name\": \"ticker=XLI\", \"showlegend\": true, \"type\": \"scatter\", \"x\": [0.792235990703245], \"xaxis\": \"x\", \"y\": [9.465537907416761e-05], \"yaxis\": \"y\"}, {\"hoverlabel\": {\"namelength\": 0}, \"hovertemplate\": \"ticker=XLK<br>beta=%{x}<br>alpha=%{y}\", \"legendgroup\": \"ticker=XLK\", \"marker\": {\"color\": \"#636efa\", \"symbol\": \"cross\"}, \"mode\": \"markers\", \"name\": \"ticker=XLK\", \"showlegend\": true, \"type\": \"scatter\", \"x\": [0.7207067068371859], \"xaxis\": \"x\", \"y\": [-3.5710841640399025e-05], \"yaxis\": \"y\"}, {\"hoverlabel\": {\"namelength\": 0}, \"hovertemplate\": \"ticker=XLP<br>beta=%{x}<br>alpha=%{y}\", \"legendgroup\": \"ticker=XLP\", \"marker\": {\"color\": \"#636efa\", \"symbol\": \"circle\"}, \"mode\": \"markers\", \"name\": \"ticker=XLP\", \"showlegend\": true, \"type\": \"scatter\", \"x\": [0.8006364413365937], \"xaxis\": \"x\", \"y\": [0.00019514284032774113], \"yaxis\": \"y\"}, {\"hoverlabel\": {\"namelength\": 0}, \"hovertemplate\": \"ticker=XLU<br>beta=%{x}<br>alpha=%{y}\", \"legendgroup\": \"ticker=XLU\", \"marker\": {\"color\": \"#636efa\", \"symbol\": \"diamond\"}, \"mode\": \"markers\", \"name\": \"ticker=XLU\", \"showlegend\": true, \"type\": \"scatter\", \"x\": [0.32959327728167415], \"xaxis\": \"x\", \"y\": [0.0003302707329435057], \"yaxis\": \"y\"}, {\"hoverlabel\": {\"namelength\": 0}, \"hovertemplate\": \"ticker=XLV<br>beta=%{x}<br>alpha=%{y}\", \"legendgroup\": \"ticker=XLV\", \"marker\": {\"color\": \"#636efa\", \"symbol\": \"square\"}, \"mode\": \"markers\", \"name\": \"ticker=XLV\", \"showlegend\": true, \"type\": \"scatter\", \"x\": [0.7277320501957009], \"xaxis\": \"x\", \"y\": [0.0001034078940180735], \"yaxis\": \"y\"}, {\"hoverlabel\": {\"namelength\": 0}, \"hovertemplate\": \"ticker=XLY<br>beta=%{x}<br>alpha=%{y}\", \"legendgroup\": \"ticker=XLY\", \"marker\": {\"color\": \"#636efa\", \"symbol\": \"x\"}, \"mode\": \"markers\", \"name\": \"ticker=XLY\", \"showlegend\": true, \"type\": \"scatter\", \"x\": [0.8097234041437704], \"xaxis\": \"x\", \"y\": [2.5912910984685977e-05], \"yaxis\": \"y\"}],\n",
       "                        {\"height\": 600, \"legend\": {\"tracegroupgap\": 0}, \"margin\": {\"t\": 60}, \"template\": {\"data\": {\"bar\": [{\"error_x\": {\"color\": \"#2a3f5f\"}, \"error_y\": {\"color\": \"#2a3f5f\"}, \"marker\": {\"line\": {\"color\": \"#E5ECF6\", \"width\": 0.5}}, \"type\": \"bar\"}], \"barpolar\": [{\"marker\": {\"line\": {\"color\": \"#E5ECF6\", \"width\": 0.5}}, \"type\": \"barpolar\"}], \"carpet\": [{\"aaxis\": {\"endlinecolor\": \"#2a3f5f\", \"gridcolor\": \"white\", \"linecolor\": \"white\", \"minorgridcolor\": \"white\", \"startlinecolor\": \"#2a3f5f\"}, \"baxis\": {\"endlinecolor\": \"#2a3f5f\", \"gridcolor\": \"white\", \"linecolor\": \"white\", \"minorgridcolor\": \"white\", \"startlinecolor\": \"#2a3f5f\"}, \"type\": \"carpet\"}], \"choropleth\": [{\"colorbar\": {\"outlinewidth\": 0, \"ticks\": \"\"}, \"type\": \"choropleth\"}], \"contour\": [{\"colorbar\": {\"outlinewidth\": 0, \"ticks\": \"\"}, \"colorscale\": [[0.0, \"#0d0887\"], [0.1111111111111111, \"#46039f\"], [0.2222222222222222, \"#7201a8\"], [0.3333333333333333, \"#9c179e\"], [0.4444444444444444, \"#bd3786\"], [0.5555555555555556, \"#d8576b\"], [0.6666666666666666, \"#ed7953\"], [0.7777777777777778, \"#fb9f3a\"], [0.8888888888888888, \"#fdca26\"], [1.0, \"#f0f921\"]], \"type\": \"contour\"}], \"contourcarpet\": [{\"colorbar\": {\"outlinewidth\": 0, \"ticks\": \"\"}, \"type\": \"contourcarpet\"}], \"heatmap\": [{\"colorbar\": {\"outlinewidth\": 0, \"ticks\": \"\"}, \"colorscale\": [[0.0, \"#0d0887\"], [0.1111111111111111, \"#46039f\"], [0.2222222222222222, \"#7201a8\"], [0.3333333333333333, \"#9c179e\"], [0.4444444444444444, \"#bd3786\"], [0.5555555555555556, \"#d8576b\"], [0.6666666666666666, \"#ed7953\"], [0.7777777777777778, \"#fb9f3a\"], [0.8888888888888888, \"#fdca26\"], [1.0, \"#f0f921\"]], \"type\": \"heatmap\"}], \"heatmapgl\": [{\"colorbar\": {\"outlinewidth\": 0, \"ticks\": \"\"}, \"colorscale\": [[0.0, \"#0d0887\"], [0.1111111111111111, \"#46039f\"], [0.2222222222222222, \"#7201a8\"], [0.3333333333333333, \"#9c179e\"], [0.4444444444444444, \"#bd3786\"], [0.5555555555555556, \"#d8576b\"], [0.6666666666666666, \"#ed7953\"], [0.7777777777777778, \"#fb9f3a\"], [0.8888888888888888, \"#fdca26\"], [1.0, \"#f0f921\"]], \"type\": \"heatmapgl\"}], \"histogram\": [{\"marker\": {\"colorbar\": {\"outlinewidth\": 0, \"ticks\": \"\"}}, \"type\": \"histogram\"}], \"histogram2d\": [{\"colorbar\": {\"outlinewidth\": 0, \"ticks\": \"\"}, \"colorscale\": [[0.0, \"#0d0887\"], [0.1111111111111111, \"#46039f\"], [0.2222222222222222, \"#7201a8\"], [0.3333333333333333, \"#9c179e\"], [0.4444444444444444, \"#bd3786\"], [0.5555555555555556, \"#d8576b\"], [0.6666666666666666, \"#ed7953\"], [0.7777777777777778, \"#fb9f3a\"], [0.8888888888888888, \"#fdca26\"], [1.0, \"#f0f921\"]], \"type\": \"histogram2d\"}], \"histogram2dcontour\": [{\"colorbar\": {\"outlinewidth\": 0, \"ticks\": \"\"}, \"colorscale\": [[0.0, \"#0d0887\"], [0.1111111111111111, \"#46039f\"], [0.2222222222222222, \"#7201a8\"], [0.3333333333333333, \"#9c179e\"], [0.4444444444444444, \"#bd3786\"], [0.5555555555555556, \"#d8576b\"], [0.6666666666666666, \"#ed7953\"], [0.7777777777777778, \"#fb9f3a\"], [0.8888888888888888, \"#fdca26\"], [1.0, \"#f0f921\"]], \"type\": \"histogram2dcontour\"}], \"mesh3d\": [{\"colorbar\": {\"outlinewidth\": 0, \"ticks\": \"\"}, \"type\": \"mesh3d\"}], \"parcoords\": [{\"line\": {\"colorbar\": {\"outlinewidth\": 0, \"ticks\": \"\"}}, \"type\": \"parcoords\"}], \"scatter\": [{\"marker\": {\"colorbar\": {\"outlinewidth\": 0, \"ticks\": \"\"}}, \"type\": \"scatter\"}], \"scatter3d\": [{\"line\": {\"colorbar\": {\"outlinewidth\": 0, \"ticks\": \"\"}}, \"marker\": {\"colorbar\": {\"outlinewidth\": 0, \"ticks\": \"\"}}, \"type\": \"scatter3d\"}], \"scattercarpet\": [{\"marker\": {\"colorbar\": {\"outlinewidth\": 0, \"ticks\": \"\"}}, \"type\": \"scattercarpet\"}], \"scattergeo\": [{\"marker\": {\"colorbar\": {\"outlinewidth\": 0, \"ticks\": \"\"}}, \"type\": \"scattergeo\"}], \"scattergl\": [{\"marker\": {\"colorbar\": {\"outlinewidth\": 0, \"ticks\": \"\"}}, \"type\": \"scattergl\"}], \"scattermapbox\": [{\"marker\": {\"colorbar\": {\"outlinewidth\": 0, \"ticks\": \"\"}}, \"type\": \"scattermapbox\"}], \"scatterpolar\": [{\"marker\": {\"colorbar\": {\"outlinewidth\": 0, \"ticks\": \"\"}}, \"type\": \"scatterpolar\"}], \"scatterpolargl\": [{\"marker\": {\"colorbar\": {\"outlinewidth\": 0, \"ticks\": \"\"}}, \"type\": \"scatterpolargl\"}], \"scatterternary\": [{\"marker\": {\"colorbar\": {\"outlinewidth\": 0, \"ticks\": \"\"}}, \"type\": \"scatterternary\"}], \"surface\": [{\"colorbar\": {\"outlinewidth\": 0, \"ticks\": \"\"}, \"colorscale\": [[0.0, \"#0d0887\"], [0.1111111111111111, \"#46039f\"], [0.2222222222222222, \"#7201a8\"], [0.3333333333333333, \"#9c179e\"], [0.4444444444444444, \"#bd3786\"], [0.5555555555555556, \"#d8576b\"], [0.6666666666666666, \"#ed7953\"], [0.7777777777777778, \"#fb9f3a\"], [0.8888888888888888, \"#fdca26\"], [1.0, \"#f0f921\"]], \"type\": \"surface\"}], \"table\": [{\"cells\": {\"fill\": {\"color\": \"#EBF0F8\"}, \"line\": {\"color\": \"white\"}}, \"header\": {\"fill\": {\"color\": \"#C8D4E3\"}, \"line\": {\"color\": \"white\"}}, \"type\": \"table\"}]}, \"layout\": {\"annotationdefaults\": {\"arrowcolor\": \"#2a3f5f\", \"arrowhead\": 0, \"arrowwidth\": 1}, \"colorscale\": {\"diverging\": [[0, \"#8e0152\"], [0.1, \"#c51b7d\"], [0.2, \"#de77ae\"], [0.3, \"#f1b6da\"], [0.4, \"#fde0ef\"], [0.5, \"#f7f7f7\"], [0.6, \"#e6f5d0\"], [0.7, \"#b8e186\"], [0.8, \"#7fbc41\"], [0.9, \"#4d9221\"], [1, \"#276419\"]], \"sequential\": [[0.0, \"#0d0887\"], [0.1111111111111111, \"#46039f\"], [0.2222222222222222, \"#7201a8\"], [0.3333333333333333, \"#9c179e\"], [0.4444444444444444, \"#bd3786\"], [0.5555555555555556, \"#d8576b\"], [0.6666666666666666, \"#ed7953\"], [0.7777777777777778, \"#fb9f3a\"], [0.8888888888888888, \"#fdca26\"], [1.0, \"#f0f921\"]], \"sequentialminus\": [[0.0, \"#0d0887\"], [0.1111111111111111, \"#46039f\"], [0.2222222222222222, \"#7201a8\"], [0.3333333333333333, \"#9c179e\"], [0.4444444444444444, \"#bd3786\"], [0.5555555555555556, \"#d8576b\"], [0.6666666666666666, \"#ed7953\"], [0.7777777777777778, \"#fb9f3a\"], [0.8888888888888888, \"#fdca26\"], [1.0, \"#f0f921\"]]}, \"colorway\": [\"#636efa\", \"#EF553B\", \"#00cc96\", \"#ab63fa\", \"#FFA15A\", \"#19d3f3\", \"#FF6692\", \"#B6E880\", \"#FF97FF\", \"#FECB52\"], \"font\": {\"color\": \"#2a3f5f\"}, \"geo\": {\"bgcolor\": \"white\", \"lakecolor\": \"white\", \"landcolor\": \"#E5ECF6\", \"showlakes\": true, \"showland\": true, \"subunitcolor\": \"white\"}, \"hoverlabel\": {\"align\": \"left\"}, \"hovermode\": \"closest\", \"mapbox\": {\"style\": \"light\"}, \"paper_bgcolor\": \"white\", \"plot_bgcolor\": \"#E5ECF6\", \"polar\": {\"angularaxis\": {\"gridcolor\": \"white\", \"linecolor\": \"white\", \"ticks\": \"\"}, \"bgcolor\": \"#E5ECF6\", \"radialaxis\": {\"gridcolor\": \"white\", \"linecolor\": \"white\", \"ticks\": \"\"}}, \"scene\": {\"xaxis\": {\"backgroundcolor\": \"#E5ECF6\", \"gridcolor\": \"white\", \"gridwidth\": 2, \"linecolor\": \"white\", \"showbackground\": true, \"ticks\": \"\", \"zerolinecolor\": \"white\"}, \"yaxis\": {\"backgroundcolor\": \"#E5ECF6\", \"gridcolor\": \"white\", \"gridwidth\": 2, \"linecolor\": \"white\", \"showbackground\": true, \"ticks\": \"\", \"zerolinecolor\": \"white\"}, \"zaxis\": {\"backgroundcolor\": \"#E5ECF6\", \"gridcolor\": \"white\", \"gridwidth\": 2, \"linecolor\": \"white\", \"showbackground\": true, \"ticks\": \"\", \"zerolinecolor\": \"white\"}}, \"shapedefaults\": {\"line\": {\"color\": \"#2a3f5f\"}}, \"ternary\": {\"aaxis\": {\"gridcolor\": \"white\", \"linecolor\": \"white\", \"ticks\": \"\"}, \"baxis\": {\"gridcolor\": \"white\", \"linecolor\": \"white\", \"ticks\": \"\"}, \"bgcolor\": \"#E5ECF6\", \"caxis\": {\"gridcolor\": \"white\", \"linecolor\": \"white\", \"ticks\": \"\"}}, \"title\": {\"x\": 0.05}, \"xaxis\": {\"automargin\": true, \"gridcolor\": \"white\", \"linecolor\": \"white\", \"ticks\": \"\", \"zerolinecolor\": \"white\", \"zerolinewidth\": 2}, \"yaxis\": {\"automargin\": true, \"gridcolor\": \"white\", \"linecolor\": \"white\", \"ticks\": \"\", \"zerolinecolor\": \"white\", \"zerolinewidth\": 2}}}, \"xaxis\": {\"anchor\": \"y\", \"domain\": [0.0, 0.98], \"title\": {\"text\": \"beta\"}}, \"yaxis\": {\"anchor\": \"x\", \"domain\": [0.0, 1.0], \"title\": {\"text\": \"alpha\"}}},\n",
       "                        {\"responsive\": true}\n",
       "                    ).then(function(){\n",
       "                            \n",
       "var gd = document.getElementById('44d91729-9bc4-4ede-bc8d-dc73b197f02d');\n",
       "var x = new MutationObserver(function (mutations, observer) {{\n",
       "        var display = window.getComputedStyle(gd).display;\n",
       "        if (!display || display === 'none') {{\n",
       "            console.log([gd, 'removed!']);\n",
       "            Plotly.purge(gd);\n",
       "            observer.disconnect();\n",
       "        }}\n",
       "}});\n",
       "\n",
       "// Listen for the removal of the full notebook cells\n",
       "var notebookContainer = gd.closest('#notebook-container');\n",
       "if (notebookContainer) {{\n",
       "    x.observe(notebookContainer, {childList: true});\n",
       "}}\n",
       "\n",
       "// Listen for the clearing of the current output cell\n",
       "var outputEl = gd.closest('.output');\n",
       "if (outputEl) {{\n",
       "    x.observe(outputEl, {childList: true});\n",
       "}}\n",
       "\n",
       "                        })\n",
       "                };\n",
       "                });\n",
       "            </script>\n",
       "        </div>"
      ]
     },
     "metadata": {},
     "output_type": "display_data"
    },
    {
     "data": {
      "image/png": "[encoded data removed]",
      "text/plain": [
       "<Figure size 792x576 with 1 Axes>"
      ]
     },
     "metadata": {
      "needs_background": "light"
     },
     "output_type": "display_data"
    }
   ],
   "source": [
    "x = np.array(list(range(1,11)))\n",
    "y = x*4 + 2\n",
    "print(np.polyfit(x,y, 1))\n",
    "#model = LinearRegression()\n",
    "#model.fit(x.reshape(-1,1),y)\n",
    "#model.coef_\n",
    "#model.intercept_\n",
    "def get_coeff(x,y):\n",
    "    return np.polyfit(x,y, 1)\n",
    "def alpha_beta(df):\n",
    "    df.apply(get_coeff, axis=0, args=(SPY))\n",
    "#np.polyfit(x,y, 1)\n",
    "cols = mydf.columns.tolist()\n",
    "cols.remove('SPY')\n",
    "\n",
    "alpha_beta = etf_daily[cols].apply(get_coeff, axis=0,  y=(etf_daily['SPY'].values))\n",
    "alpha_beta.index = ['beta', 'alpha']\n",
    "#mydf['SPY']\n",
    "fig,ax = plt.subplots(figsize=(11,8))\n",
    "#plt.xlim(0,1.3)\n",
    "alpha_beta.transpose().plot(x='beta', y='alpha', kind='scatter', ax=ax)\n",
    "px.scatter(alpha_beta.transpose().reset_index(), x='beta', y='alpha', symbol='ticker')"
   ]
  },
  {
   "cell_type": "code",
   "execution_count": 24,
   "metadata": {},
   "outputs": [
    {
     "data": {
      "text/plain": [
       "beta     0.329593\n",
       "alpha    0.000330\n",
       "Name: XLU, dtype: float64"
      ]
     },
     "execution_count": 24,
     "metadata": {},
     "output_type": "execute_result"
    }
   ],
   "source": [
    "alpha_beta['XLU']['alpha']"
   ]
  },
  {
   "cell_type": "code",
   "execution_count": 19,
   "metadata": {},
   "outputs": [
    {
     "ename": "SyntaxError",
     "evalue": "invalid syntax (<ipython-input-19-435697d2e152>, line 1)",
     "output_type": "error",
     "traceback": [
      "\u001b[1;36m  File \u001b[1;32m\"<ipython-input-19-435697d2e152>\"\u001b[1;36m, line \u001b[1;32m1\u001b[0m\n\u001b[1;33m    1. Select top 10 performers and bottom 10 performs\u001b[0m\n\u001b[1;37m            ^\u001b[0m\n\u001b[1;31mSyntaxError\u001b[0m\u001b[1;31m:\u001b[0m invalid syntax\n"
     ]
    }
   ],
   "source": [
    "1. Select top 10 performers and bottom 10 performs\n",
    "2. Select top 10 volatile ETF and least volatile\n",
    "3. get annualized return and annualized standard deviation\n",
    "4. plot against each other, \n",
    "5  Perform clustering of 5 groups"
   ]
  },
  {
   "cell_type": "code",
   "execution_count": null,
   "metadata": {},
   "outputs": [],
   "source": [
    "daily_returns(mydf)\n",
    "mydf.std()\n",
    "ans = (mydf.div(mydf.iloc[0].values, axis=1)) - 1\n",
    "\n",
    "fig, ax = plt.subplots(figsize=(11,6), dpi=100)\n",
    "ax = sns.scatterplot(mydf.std(),ans.iloc[-1])\n",
    "ax.set_xlabel('volatility')\n",
    "ax.set_ylabel('Return')\n",
    "\n",
    "plot_df = pd.DataFrame({'mean_returns': ans.iloc[-1], 'std': mydf.std()})\n",
    "plot_df.reset_index(inplace=True)\n",
    "#px.scatter(plot_df, 'std', 'mean_returns', symbol='ticker')\n"
   ]
  },
  {
   "cell_type": "code",
   "execution_count": 21,
   "metadata": {},
   "outputs": [],
   "source": [
    "#etf_df.groupby('ticker')['Date'].min().astype('datetime64[M]').sort_values()#.astype(str).values\n",
    "#date(2013, 7, 18)+timedelta(365*5)\n",
    "#df = etf_df[['Date']]\n",
    "#df.groupby([df[\"Date\"].dt.year, df[\"Date\"].dt.month]).count().plot(kind=\"bar\")\n",
    "dttt = Fetcher(r'^GSPC', [2019,7,1])"
   ]
  },
  {
   "cell_type": "code",
   "execution_count": 22,
   "metadata": {},
   "outputs": [
    {
     "data": {
      "text/html": [
       "<div>\n",
       "<style scoped>\n",
       "    .dataframe tbody tr th:only-of-type {\n",
       "        vertical-align: middle;\n",
       "    }\n",
       "\n",
       "    .dataframe tbody tr th {\n",
       "        vertical-align: top;\n",
       "    }\n",
       "\n",
       "    .dataframe thead th {\n",
       "        text-align: right;\n",
       "    }\n",
       "</style>\n",
       "<table border=\"1\" class=\"dataframe\">\n",
       "  <thead>\n",
       "    <tr style=\"text-align: right;\">\n",
       "      <th></th>\n",
       "      <th>Date</th>\n",
       "      <th>Open</th>\n",
       "      <th>High</th>\n",
       "      <th>Low</th>\n",
       "      <th>Close</th>\n",
       "      <th>Adj Close</th>\n",
       "      <th>Volume</th>\n",
       "    </tr>\n",
       "  </thead>\n",
       "  <tbody>\n",
       "    <tr>\n",
       "      <th>0</th>\n",
       "      <td>2019-07-01</td>\n",
       "      <td>2971.409912</td>\n",
       "      <td>2977.929932</td>\n",
       "      <td>2952.219971</td>\n",
       "      <td>2964.330078</td>\n",
       "      <td>2964.330078</td>\n",
       "      <td>3513270000</td>\n",
       "    </tr>\n",
       "    <tr>\n",
       "      <th>1</th>\n",
       "      <td>2019-07-02</td>\n",
       "      <td>2964.659912</td>\n",
       "      <td>2973.209961</td>\n",
       "      <td>2955.919922</td>\n",
       "      <td>2973.010010</td>\n",
       "      <td>2973.010010</td>\n",
       "      <td>3206840000</td>\n",
       "    </tr>\n",
       "    <tr>\n",
       "      <th>2</th>\n",
       "      <td>2019-07-03</td>\n",
       "      <td>2978.080078</td>\n",
       "      <td>2995.840088</td>\n",
       "      <td>2977.959961</td>\n",
       "      <td>2995.820068</td>\n",
       "      <td>2995.820068</td>\n",
       "      <td>1963720000</td>\n",
       "    </tr>\n",
       "    <tr>\n",
       "      <th>3</th>\n",
       "      <td>2019-07-05</td>\n",
       "      <td>2984.250000</td>\n",
       "      <td>2994.030029</td>\n",
       "      <td>2967.969971</td>\n",
       "      <td>2990.409912</td>\n",
       "      <td>2990.409912</td>\n",
       "      <td>2434210000</td>\n",
       "    </tr>\n",
       "    <tr>\n",
       "      <th>4</th>\n",
       "      <td>2019-07-08</td>\n",
       "      <td>2979.770020</td>\n",
       "      <td>2980.760010</td>\n",
       "      <td>2970.090088</td>\n",
       "      <td>2975.949951</td>\n",
       "      <td>2975.949951</td>\n",
       "      <td>2904550000</td>\n",
       "    </tr>\n",
       "    <tr>\n",
       "      <th>5</th>\n",
       "      <td>2019-07-09</td>\n",
       "      <td>2965.520020</td>\n",
       "      <td>2981.899902</td>\n",
       "      <td>2963.439941</td>\n",
       "      <td>2979.629883</td>\n",
       "      <td>2979.629883</td>\n",
       "      <td>3028210000</td>\n",
       "    </tr>\n",
       "    <tr>\n",
       "      <th>6</th>\n",
       "      <td>2019-07-10</td>\n",
       "      <td>2989.300049</td>\n",
       "      <td>3002.979980</td>\n",
       "      <td>2984.620117</td>\n",
       "      <td>2993.070068</td>\n",
       "      <td>2993.070068</td>\n",
       "      <td>3154240000</td>\n",
       "    </tr>\n",
       "    <tr>\n",
       "      <th>7</th>\n",
       "      <td>2019-07-11</td>\n",
       "      <td>2999.620117</td>\n",
       "      <td>3002.330078</td>\n",
       "      <td>2988.800049</td>\n",
       "      <td>2999.909912</td>\n",
       "      <td>2999.909912</td>\n",
       "      <td>3154620000</td>\n",
       "    </tr>\n",
       "    <tr>\n",
       "      <th>8</th>\n",
       "      <td>2019-07-12</td>\n",
       "      <td>3003.360107</td>\n",
       "      <td>3013.919922</td>\n",
       "      <td>3001.870117</td>\n",
       "      <td>3013.770020</td>\n",
       "      <td>3013.770020</td>\n",
       "      <td>2974960000</td>\n",
       "    </tr>\n",
       "    <tr>\n",
       "      <th>9</th>\n",
       "      <td>2019-07-15</td>\n",
       "      <td>3017.800049</td>\n",
       "      <td>3017.800049</td>\n",
       "      <td>3008.770020</td>\n",
       "      <td>3014.300049</td>\n",
       "      <td>3014.300049</td>\n",
       "      <td>2874970000</td>\n",
       "    </tr>\n",
       "    <tr>\n",
       "      <th>10</th>\n",
       "      <td>2019-07-16</td>\n",
       "      <td>3012.129883</td>\n",
       "      <td>3015.020020</td>\n",
       "      <td>3001.149902</td>\n",
       "      <td>3004.040039</td>\n",
       "      <td>3004.040039</td>\n",
       "      <td>3290650000</td>\n",
       "    </tr>\n",
       "    <tr>\n",
       "      <th>11</th>\n",
       "      <td>2019-07-17</td>\n",
       "      <td>3005.100098</td>\n",
       "      <td>3005.260010</td>\n",
       "      <td>2984.250000</td>\n",
       "      <td>2984.419922</td>\n",
       "      <td>2984.419922</td>\n",
       "      <td>3181600000</td>\n",
       "    </tr>\n",
       "    <tr>\n",
       "      <th>12</th>\n",
       "      <td>2019-07-18</td>\n",
       "      <td>2978.870117</td>\n",
       "      <td>2998.280029</td>\n",
       "      <td>2973.090088</td>\n",
       "      <td>2995.110107</td>\n",
       "      <td>2995.110107</td>\n",
       "      <td>3296580000</td>\n",
       "    </tr>\n",
       "    <tr>\n",
       "      <th>13</th>\n",
       "      <td>2019-07-19</td>\n",
       "      <td>3004.260010</td>\n",
       "      <td>3006.020020</td>\n",
       "      <td>2975.860107</td>\n",
       "      <td>2976.610107</td>\n",
       "      <td>2976.610107</td>\n",
       "      <td>3260360000</td>\n",
       "    </tr>\n",
       "    <tr>\n",
       "      <th>14</th>\n",
       "      <td>2019-07-22</td>\n",
       "      <td>2981.929932</td>\n",
       "      <td>2990.709961</td>\n",
       "      <td>2976.649902</td>\n",
       "      <td>2985.030029</td>\n",
       "      <td>2985.030029</td>\n",
       "      <td>3003720000</td>\n",
       "    </tr>\n",
       "    <tr>\n",
       "      <th>15</th>\n",
       "      <td>2019-07-23</td>\n",
       "      <td>2994.739990</td>\n",
       "      <td>3005.899902</td>\n",
       "      <td>2988.560059</td>\n",
       "      <td>3005.469971</td>\n",
       "      <td>3005.469971</td>\n",
       "      <td>3313660000</td>\n",
       "    </tr>\n",
       "    <tr>\n",
       "      <th>16</th>\n",
       "      <td>2019-07-24</td>\n",
       "      <td>2998.770020</td>\n",
       "      <td>3019.590088</td>\n",
       "      <td>2996.820068</td>\n",
       "      <td>3019.560059</td>\n",
       "      <td>3019.560059</td>\n",
       "      <td>3428980000</td>\n",
       "    </tr>\n",
       "    <tr>\n",
       "      <th>17</th>\n",
       "      <td>2019-07-25</td>\n",
       "      <td>3016.260010</td>\n",
       "      <td>3016.310059</td>\n",
       "      <td>2997.239990</td>\n",
       "      <td>3003.669922</td>\n",
       "      <td>3003.669922</td>\n",
       "      <td>3645270000</td>\n",
       "    </tr>\n",
       "    <tr>\n",
       "      <th>18</th>\n",
       "      <td>2019-07-26</td>\n",
       "      <td>3013.250000</td>\n",
       "      <td>3027.979980</td>\n",
       "      <td>3012.590088</td>\n",
       "      <td>3025.860107</td>\n",
       "      <td>3025.860107</td>\n",
       "      <td>3257590000</td>\n",
       "    </tr>\n",
       "    <tr>\n",
       "      <th>19</th>\n",
       "      <td>2019-07-29</td>\n",
       "      <td>3024.469971</td>\n",
       "      <td>3025.610107</td>\n",
       "      <td>3014.300049</td>\n",
       "      <td>3020.969971</td>\n",
       "      <td>3020.969971</td>\n",
       "      <td>3203710000</td>\n",
       "    </tr>\n",
       "    <tr>\n",
       "      <th>20</th>\n",
       "      <td>2019-07-30</td>\n",
       "      <td>3007.659912</td>\n",
       "      <td>3017.189941</td>\n",
       "      <td>3000.939941</td>\n",
       "      <td>3013.179932</td>\n",
       "      <td>3013.179932</td>\n",
       "      <td>3634330000</td>\n",
       "    </tr>\n",
       "    <tr>\n",
       "      <th>21</th>\n",
       "      <td>2019-07-31</td>\n",
       "      <td>3016.219971</td>\n",
       "      <td>3017.399902</td>\n",
       "      <td>2958.080078</td>\n",
       "      <td>2980.379883</td>\n",
       "      <td>2980.379883</td>\n",
       "      <td>4623430000</td>\n",
       "    </tr>\n",
       "    <tr>\n",
       "      <th>22</th>\n",
       "      <td>2019-08-01</td>\n",
       "      <td>2980.320068</td>\n",
       "      <td>3013.590088</td>\n",
       "      <td>2945.229980</td>\n",
       "      <td>2953.560059</td>\n",
       "      <td>2953.560059</td>\n",
       "      <td>4762300000</td>\n",
       "    </tr>\n",
       "    <tr>\n",
       "      <th>23</th>\n",
       "      <td>2019-08-02</td>\n",
       "      <td>2943.899902</td>\n",
       "      <td>2945.500000</td>\n",
       "      <td>2914.110107</td>\n",
       "      <td>2932.050049</td>\n",
       "      <td>2932.050049</td>\n",
       "      <td>3874660000</td>\n",
       "    </tr>\n",
       "    <tr>\n",
       "      <th>24</th>\n",
       "      <td>2019-08-05</td>\n",
       "      <td>2898.070068</td>\n",
       "      <td>2898.070068</td>\n",
       "      <td>2822.120117</td>\n",
       "      <td>2844.739990</td>\n",
       "      <td>2844.739990</td>\n",
       "      <td>2614970778</td>\n",
       "    </tr>\n",
       "  </tbody>\n",
       "</table>\n",
       "</div>"
      ],
      "text/plain": [
       "          Date         Open         High          Low        Close  \\\n",
       "0   2019-07-01  2971.409912  2977.929932  2952.219971  2964.330078   \n",
       "1   2019-07-02  2964.659912  2973.209961  2955.919922  2973.010010   \n",
       "2   2019-07-03  2978.080078  2995.840088  2977.959961  2995.820068   \n",
       "3   2019-07-05  2984.250000  2994.030029  2967.969971  2990.409912   \n",
       "4   2019-07-08  2979.770020  2980.760010  2970.090088  2975.949951   \n",
       "5   2019-07-09  2965.520020  2981.899902  2963.439941  2979.629883   \n",
       "6   2019-07-10  2989.300049  3002.979980  2984.620117  2993.070068   \n",
       "7   2019-07-11  2999.620117  3002.330078  2988.800049  2999.909912   \n",
       "8   2019-07-12  3003.360107  3013.919922  3001.870117  3013.770020   \n",
       "9   2019-07-15  3017.800049  3017.800049  3008.770020  3014.300049   \n",
       "10  2019-07-16  3012.129883  3015.020020  3001.149902  3004.040039   \n",
       "11  2019-07-17  3005.100098  3005.260010  2984.250000  2984.419922   \n",
       "12  2019-07-18  2978.870117  2998.280029  2973.090088  2995.110107   \n",
       "13  2019-07-19  3004.260010  3006.020020  2975.860107  2976.610107   \n",
       "14  2019-07-22  2981.929932  2990.709961  2976.649902  2985.030029   \n",
       "15  2019-07-23  2994.739990  3005.899902  2988.560059  3005.469971   \n",
       "16  2019-07-24  2998.770020  3019.590088  2996.820068  3019.560059   \n",
       "17  2019-07-25  3016.260010  3016.310059  2997.239990  3003.669922   \n",
       "18  2019-07-26  3013.250000  3027.979980  3012.590088  3025.860107   \n",
       "19  2019-07-29  3024.469971  3025.610107  3014.300049  3020.969971   \n",
       "20  2019-07-30  3007.659912  3017.189941  3000.939941  3013.179932   \n",
       "21  2019-07-31  3016.219971  3017.399902  2958.080078  2980.379883   \n",
       "22  2019-08-01  2980.320068  3013.590088  2945.229980  2953.560059   \n",
       "23  2019-08-02  2943.899902  2945.500000  2914.110107  2932.050049   \n",
       "24  2019-08-05  2898.070068  2898.070068  2822.120117  2844.739990   \n",
       "\n",
       "      Adj Close      Volume  \n",
       "0   2964.330078  3513270000  \n",
       "1   2973.010010  3206840000  \n",
       "2   2995.820068  1963720000  \n",
       "3   2990.409912  2434210000  \n",
       "4   2975.949951  2904550000  \n",
       "5   2979.629883  3028210000  \n",
       "6   2993.070068  3154240000  \n",
       "7   2999.909912  3154620000  \n",
       "8   3013.770020  2974960000  \n",
       "9   3014.300049  2874970000  \n",
       "10  3004.040039  3290650000  \n",
       "11  2984.419922  3181600000  \n",
       "12  2995.110107  3296580000  \n",
       "13  2976.610107  3260360000  \n",
       "14  2985.030029  3003720000  \n",
       "15  3005.469971  3313660000  \n",
       "16  3019.560059  3428980000  \n",
       "17  3003.669922  3645270000  \n",
       "18  3025.860107  3257590000  \n",
       "19  3020.969971  3203710000  \n",
       "20  3013.179932  3634330000  \n",
       "21  2980.379883  4623430000  \n",
       "22  2953.560059  4762300000  \n",
       "23  2932.050049  3874660000  \n",
       "24  2844.739990  2614970778  "
      ]
     },
     "execution_count": 22,
     "metadata": {},
     "output_type": "execute_result"
    }
   ],
   "source": [
    "dttt.getHistorical()"
   ]
  },
  {
   "cell_type": "code",
   "execution_count": null,
   "metadata": {},
   "outputs": [],
   "source": []
  }
 ],
 "metadata": {
  "kernelspec": {
   "display_name": "Python 3",
   "language": "python",
   "name": "python3"
  },
  "language_info": {
   "codemirror_mode": {
    "name": "ipython",
    "version": 3
   },
   "file_extension": ".py",
   "mimetype": "text/x-python",
   "name": "python",
   "nbconvert_exporter": "python",
   "pygments_lexer": "ipython3",
   "version": "3.7.3"
  }
 },
 "nbformat": 4,
 "nbformat_minor": 2
}
